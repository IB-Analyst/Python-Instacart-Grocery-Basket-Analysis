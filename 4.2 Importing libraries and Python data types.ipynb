{
 "cells": [
  {
   "cell_type": "markdown",
   "id": "b43725c6-edd2-4587-af78-1a860a0b7772",
   "metadata": {},
   "source": [
    "# 01. Importing libraries"
   ]
  },
  {
   "cell_type": "code",
   "execution_count": 1,
   "id": "2db852a7-8209-4bc0-aaee-dafaec513538",
   "metadata": {},
   "outputs": [],
   "source": [
    "# Import libraries\n",
    "import pandas as pd\n",
    "import numpy as np\n",
    "import os"
   ]
  },
  {
   "cell_type": "markdown",
   "id": "e8ee5619-b158-4c95-ae20-42d7721b1209",
   "metadata": {},
   "source": [
    "# 02. Data types"
   ]
  },
  {
   "cell_type": "code",
   "execution_count": 3,
   "id": "0037d612-ed74-4180-a755-915924761e17",
   "metadata": {},
   "outputs": [],
   "source": [
    "x = 2"
   ]
  },
  {
   "cell_type": "code",
   "execution_count": 5,
   "id": "30ab031a-b0ad-46e9-9955-3ac2fb73f03a",
   "metadata": {},
   "outputs": [
    {
     "data": {
      "text/plain": [
       "2"
      ]
     },
     "execution_count": 5,
     "metadata": {},
     "output_type": "execute_result"
    }
   ],
   "source": [
    "x"
   ]
  },
  {
   "cell_type": "code",
   "execution_count": 7,
   "id": "9b4b9a4e-878d-4ec2-9e2a-f51063c11159",
   "metadata": {},
   "outputs": [
    {
     "name": "stdout",
     "output_type": "stream",
     "text": [
      "2\n"
     ]
    }
   ],
   "source": [
    "print(x)"
   ]
  },
  {
   "cell_type": "code",
   "execution_count": 9,
   "id": "ca75369d-8927-4791-9d45-abfbaec4caab",
   "metadata": {},
   "outputs": [
    {
     "data": {
      "text/plain": [
       "int"
      ]
     },
     "execution_count": 9,
     "metadata": {},
     "output_type": "execute_result"
    }
   ],
   "source": [
    "type (x)"
   ]
  },
  {
   "cell_type": "code",
   "execution_count": 11,
   "id": "79c2b601-cb9e-4f19-bf25-6b76401a54f2",
   "metadata": {},
   "outputs": [],
   "source": [
    "y = 5,678"
   ]
  },
  {
   "cell_type": "code",
   "execution_count": 13,
   "id": "d71afb46-469a-453c-8a3e-3df81404f388",
   "metadata": {},
   "outputs": [
    {
     "data": {
      "text/plain": [
       "tuple"
      ]
     },
     "execution_count": 13,
     "metadata": {},
     "output_type": "execute_result"
    }
   ],
   "source": [
    "type (y)"
   ]
  },
  {
   "cell_type": "code",
   "execution_count": 15,
   "id": "cf377c77-eef5-40c8-b644-bf8378e8c192",
   "metadata": {},
   "outputs": [],
   "source": [
    "y = 5.678"
   ]
  },
  {
   "cell_type": "code",
   "execution_count": 17,
   "id": "39001fce-55d1-4d43-84c6-e3b2311ffa34",
   "metadata": {},
   "outputs": [
    {
     "data": {
      "text/plain": [
       "float"
      ]
     },
     "execution_count": 17,
     "metadata": {},
     "output_type": "execute_result"
    }
   ],
   "source": [
    "type (y)"
   ]
  },
  {
   "cell_type": "code",
   "execution_count": 19,
   "id": "daf8eb7e-4073-411f-b49d-0b45397f4c5b",
   "metadata": {},
   "outputs": [],
   "source": [
    "z = 'Brazil'"
   ]
  },
  {
   "cell_type": "code",
   "execution_count": 21,
   "id": "6565c62e-43bb-4b6c-9d13-8abfa088eb07",
   "metadata": {},
   "outputs": [
    {
     "data": {
      "text/plain": [
       "str"
      ]
     },
     "execution_count": 21,
     "metadata": {},
     "output_type": "execute_result"
    }
   ],
   "source": [
    "type (z)"
   ]
  },
  {
   "cell_type": "code",
   "execution_count": 23,
   "id": "9c03784a-d67d-4359-9ea8-cda49e91bade",
   "metadata": {},
   "outputs": [
    {
     "data": {
      "text/plain": [
       "bool"
      ]
     },
     "execution_count": 23,
     "metadata": {},
     "output_type": "execute_result"
    }
   ],
   "source": [
    "type (True)"
   ]
  },
  {
   "cell_type": "code",
   "execution_count": 25,
   "id": "451f792b-ae61-46fb-a40c-307a80124e59",
   "metadata": {},
   "outputs": [
    {
     "data": {
      "text/plain": [
       "6"
      ]
     },
     "execution_count": 25,
     "metadata": {},
     "output_type": "execute_result"
    }
   ],
   "source": [
    "x + 4"
   ]
  },
  {
   "cell_type": "code",
   "execution_count": 27,
   "id": "3c265e8d-4d23-4ff9-ba8b-9282f85e3f7d",
   "metadata": {},
   "outputs": [],
   "source": [
    "x = x + 4"
   ]
  },
  {
   "cell_type": "code",
   "execution_count": 29,
   "id": "bb92b8f8-74d7-4c17-b230-50d7775fef54",
   "metadata": {},
   "outputs": [
    {
     "name": "stdout",
     "output_type": "stream",
     "text": [
      "6\n"
     ]
    }
   ],
   "source": [
    "print (x)"
   ]
  },
  {
   "cell_type": "code",
   "execution_count": 31,
   "id": "f37d1989-92b0-465b-b6e3-15c2ae581400",
   "metadata": {},
   "outputs": [],
   "source": [
    "a = 'Hello, '"
   ]
  },
  {
   "cell_type": "code",
   "execution_count": 33,
   "id": "0a4375c3-c97d-4eca-bfda-7b9ed545e8aa",
   "metadata": {},
   "outputs": [],
   "source": [
    "b = 'Marley'"
   ]
  },
  {
   "cell_type": "code",
   "execution_count": 35,
   "id": "e0e7930f-3a7c-43a6-9bc9-fd314fec4c2e",
   "metadata": {},
   "outputs": [
    {
     "data": {
      "text/plain": [
       "'Hello, Marley'"
      ]
     },
     "execution_count": 35,
     "metadata": {},
     "output_type": "execute_result"
    }
   ],
   "source": [
    "a + b"
   ]
  },
  {
   "cell_type": "code",
   "execution_count": 37,
   "id": "02a216eb-ce5a-4eeb-888e-97d30c022047",
   "metadata": {},
   "outputs": [
    {
     "data": {
      "text/plain": [
       "False"
      ]
     },
     "execution_count": 37,
     "metadata": {},
     "output_type": "execute_result"
    }
   ],
   "source": [
    "x == y"
   ]
  },
  {
   "cell_type": "markdown",
   "id": "441c9345-dd28-415b-885e-fdd4302d9495",
   "metadata": {},
   "source": [
    "# 02 Data types (task 4.2)"
   ]
  },
  {
   "cell_type": "code",
   "execution_count": null,
   "id": "d03fb67b-44be-42c4-89b9-5389b585e0e4",
   "metadata": {},
   "outputs": [],
   "source": [
    "# Code 3 different ways of reaching a result of 100 by adding or subtracting numeric variables."
   ]
  },
  {
   "cell_type": "code",
   "execution_count": 42,
   "id": "0ed04984-684f-41c3-8db9-5749fa66b7ec",
   "metadata": {},
   "outputs": [],
   "source": [
    "x = 50"
   ]
  },
  {
   "cell_type": "code",
   "execution_count": 44,
   "id": "2c3dabd8-38f7-4371-b1f5-83f1fb3bc047",
   "metadata": {},
   "outputs": [],
   "source": [
    "y = 50"
   ]
  },
  {
   "cell_type": "code",
   "execution_count": 46,
   "id": "35166e9d-0824-4949-b36f-037fdeb617cb",
   "metadata": {},
   "outputs": [
    {
     "data": {
      "text/plain": [
       "100"
      ]
     },
     "execution_count": 46,
     "metadata": {},
     "output_type": "execute_result"
    }
   ],
   "source": [
    "x + y"
   ]
  },
  {
   "cell_type": "code",
   "execution_count": 48,
   "id": "b32e83a3-d5dc-4340-9b11-56383cbb2a6f",
   "metadata": {},
   "outputs": [],
   "source": [
    "x = x + 50"
   ]
  },
  {
   "cell_type": "code",
   "execution_count": 50,
   "id": "e8621574-27c1-4125-8232-4fdbebbba217",
   "metadata": {},
   "outputs": [
    {
     "name": "stdout",
     "output_type": "stream",
     "text": [
      "100\n"
     ]
    }
   ],
   "source": [
    "print (x)"
   ]
  },
  {
   "cell_type": "code",
   "execution_count": 52,
   "id": "155e9034-bdf4-437b-a379-d5e8822ffea0",
   "metadata": {},
   "outputs": [],
   "source": [
    "x = 50 + y"
   ]
  },
  {
   "cell_type": "code",
   "execution_count": 54,
   "id": "9c72855c-df0d-43b5-94cc-e026c436c999",
   "metadata": {},
   "outputs": [
    {
     "name": "stdout",
     "output_type": "stream",
     "text": [
      "100\n"
     ]
    }
   ],
   "source": [
    "print (x)"
   ]
  },
  {
   "cell_type": "code",
   "execution_count": 60,
   "id": "44326be9-e8fc-4812-9143-334b30114688",
   "metadata": {},
   "outputs": [],
   "source": [
    "# Code 2 floating-point variables and divide them by each other"
   ]
  },
  {
   "cell_type": "code",
   "execution_count": 62,
   "id": "f562df88-38aa-4d1e-9a46-dc37f57fcfae",
   "metadata": {},
   "outputs": [],
   "source": [
    "x = 10.5"
   ]
  },
  {
   "cell_type": "code",
   "execution_count": 64,
   "id": "cd7de07f-207f-4b60-9d56-58c0096b6a61",
   "metadata": {},
   "outputs": [],
   "source": [
    "y = 2.5"
   ]
  },
  {
   "cell_type": "code",
   "execution_count": 66,
   "id": "8a07ad30-58cc-495a-8051-bff311a22e76",
   "metadata": {},
   "outputs": [
    {
     "data": {
      "text/plain": [
       "4.2"
      ]
     },
     "execution_count": 66,
     "metadata": {},
     "output_type": "execute_result"
    }
   ],
   "source": [
    "x / y"
   ]
  },
  {
   "cell_type": "code",
   "execution_count": 68,
   "id": "7a338b37-1f51-4d18-b189-6ba009e4a7cc",
   "metadata": {},
   "outputs": [],
   "source": [
    "# Construct a short word made of separate strings"
   ]
  },
  {
   "cell_type": "code",
   "execution_count": 70,
   "id": "75839abe-3713-4653-b4d0-995b336d90a4",
   "metadata": {},
   "outputs": [],
   "source": [
    "a = 'He'"
   ]
  },
  {
   "cell_type": "code",
   "execution_count": 72,
   "id": "8a49c4e1-c5f4-4299-a028-efbb3ddf9d26",
   "metadata": {},
   "outputs": [],
   "source": [
    "b = 'llo'"
   ]
  },
  {
   "cell_type": "code",
   "execution_count": 74,
   "id": "78af5a9b-aa43-4a23-9b23-66b2134e38a7",
   "metadata": {},
   "outputs": [
    {
     "data": {
      "text/plain": [
       "'Hello'"
      ]
     },
     "execution_count": 74,
     "metadata": {},
     "output_type": "execute_result"
    }
   ],
   "source": [
    "a+b"
   ]
  },
  {
   "cell_type": "code",
   "execution_count": 76,
   "id": "c3010dfc-7ed7-48a7-aa4c-7f81aa635369",
   "metadata": {},
   "outputs": [],
   "source": [
    "# Construct 2 short sentences made of separate strings"
   ]
  },
  {
   "cell_type": "code",
   "execution_count": 80,
   "id": "31272f87-5a84-4c7b-a4eb-ef3ee2f3013b",
   "metadata": {},
   "outputs": [],
   "source": [
    "a = 'Hello, '"
   ]
  },
  {
   "cell_type": "code",
   "execution_count": 82,
   "id": "8bbed6e7-8e2d-4311-ae48-2d1ad65f5601",
   "metadata": {},
   "outputs": [],
   "source": [
    "b = 'John!'"
   ]
  },
  {
   "cell_type": "code",
   "execution_count": 84,
   "id": "a2c9e1e7-000b-4024-a42c-f1de0e088f5d",
   "metadata": {},
   "outputs": [
    {
     "data": {
      "text/plain": [
       "'Hello, John!'"
      ]
     },
     "execution_count": 84,
     "metadata": {},
     "output_type": "execute_result"
    }
   ],
   "source": [
    "a + b"
   ]
  },
  {
   "cell_type": "code",
   "execution_count": 86,
   "id": "de09a2d7-b03f-4f71-98f5-01c7a5499609",
   "metadata": {},
   "outputs": [],
   "source": [
    "# Bonus task"
   ]
  },
  {
   "cell_type": "code",
   "execution_count": 92,
   "id": "f1f14d61-426b-4aef-9a31-e0069d148c43",
   "metadata": {},
   "outputs": [],
   "source": [
    "n = 'wow'"
   ]
  },
  {
   "cell_type": "code",
   "execution_count": 94,
   "id": "49d9ef1d-fb89-4953-93d5-e5e149cc8cd6",
   "metadata": {},
   "outputs": [
    {
     "data": {
      "text/plain": [
       "'wowwowwowwowwowwowwowwowwowwowwowwowwowwowwowwowwowwowwowwowwowwowwowwowwowwowwowwowwowwowwowwowwowwowwowwowwowwowwowwowwowwowwowwowwowwowwowwowwowwowwowwowwowwowwowwowwowwowwowwowwowwowwowwowwowwowwowwowwowwowwowwowwowwowwowwowwowwowwowwowwowwowwowwowwowwowwowwowwowwowwowwowwowwowwowwowwowwowwowwow'"
      ]
     },
     "execution_count": 94,
     "metadata": {},
     "output_type": "execute_result"
    }
   ],
   "source": [
    "n*100"
   ]
  }
 ],
 "metadata": {
  "kernelspec": {
   "display_name": "Python 3 (ipykernel)",
   "language": "python",
   "name": "python3"
  },
  "language_info": {
   "codemirror_mode": {
    "name": "ipython",
    "version": 3
   },
   "file_extension": ".py",
   "mimetype": "text/x-python",
   "name": "python",
   "nbconvert_exporter": "python",
   "pygments_lexer": "ipython3",
   "version": "3.12.4"
  }
 },
 "nbformat": 4,
 "nbformat_minor": 5
}
