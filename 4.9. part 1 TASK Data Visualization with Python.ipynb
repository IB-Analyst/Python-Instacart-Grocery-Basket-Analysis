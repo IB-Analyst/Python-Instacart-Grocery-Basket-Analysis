{
 "cells": [
  {
   "cell_type": "markdown",
   "id": "ca956129-066a-4e31-8ac1-aeb28d8c1bd4",
   "metadata": {},
   "source": [
    "## Part 1"
   ]
  },
  {
   "cell_type": "code",
   "execution_count": 2,
   "id": "91e6eeef-b078-49df-958d-3cbbb1479cf7",
   "metadata": {},
   "outputs": [],
   "source": [
    "# Importing libraries\n",
    "import pandas as pd\n",
    "import numpy as np\n",
    "import os\n",
    "import matplotlib.pyplot as plt\n",
    "import seaborn as sns\n",
    "import scipy"
   ]
  },
  {
   "cell_type": "code",
   "execution_count": 4,
   "id": "d72361dd-59ac-4258-a173-881568e93a89",
   "metadata": {},
   "outputs": [],
   "source": [
    "path = r'C:\\Users\\iryna\\Documents\\01.07.2024 Instacart Basket Analysis'"
   ]
  },
  {
   "cell_type": "code",
   "execution_count": 6,
   "id": "0010e39a-2ba3-46d9-b62e-73cd2d83b931",
   "metadata": {},
   "outputs": [],
   "source": [
    "customers = pd.read_csv(os.path.join(path,'02 Data','Original Data', 'customers.csv'))"
   ]
  },
  {
   "cell_type": "code",
   "execution_count": 8,
   "id": "74a2b498-efeb-4bec-9f0a-ac6c9a8aed00",
   "metadata": {},
   "outputs": [
    {
     "data": {
      "text/html": [
       "<div>\n",
       "<style scoped>\n",
       "    .dataframe tbody tr th:only-of-type {\n",
       "        vertical-align: middle;\n",
       "    }\n",
       "\n",
       "    .dataframe tbody tr th {\n",
       "        vertical-align: top;\n",
       "    }\n",
       "\n",
       "    .dataframe thead th {\n",
       "        text-align: right;\n",
       "    }\n",
       "</style>\n",
       "<table border=\"1\" class=\"dataframe\">\n",
       "  <thead>\n",
       "    <tr style=\"text-align: right;\">\n",
       "      <th></th>\n",
       "      <th>user_id</th>\n",
       "      <th>First Name</th>\n",
       "      <th>Surnam</th>\n",
       "      <th>Gender</th>\n",
       "      <th>STATE</th>\n",
       "      <th>Age</th>\n",
       "      <th>date_joined</th>\n",
       "      <th>n_dependants</th>\n",
       "      <th>fam_status</th>\n",
       "      <th>income</th>\n",
       "    </tr>\n",
       "  </thead>\n",
       "  <tbody>\n",
       "    <tr>\n",
       "      <th>0</th>\n",
       "      <td>26711</td>\n",
       "      <td>Deborah</td>\n",
       "      <td>Esquivel</td>\n",
       "      <td>Female</td>\n",
       "      <td>Missouri</td>\n",
       "      <td>48</td>\n",
       "      <td>1/1/2017</td>\n",
       "      <td>3</td>\n",
       "      <td>married</td>\n",
       "      <td>165665</td>\n",
       "    </tr>\n",
       "    <tr>\n",
       "      <th>1</th>\n",
       "      <td>33890</td>\n",
       "      <td>Patricia</td>\n",
       "      <td>Hart</td>\n",
       "      <td>Female</td>\n",
       "      <td>New Mexico</td>\n",
       "      <td>36</td>\n",
       "      <td>1/1/2017</td>\n",
       "      <td>0</td>\n",
       "      <td>single</td>\n",
       "      <td>59285</td>\n",
       "    </tr>\n",
       "    <tr>\n",
       "      <th>2</th>\n",
       "      <td>65803</td>\n",
       "      <td>Kenneth</td>\n",
       "      <td>Farley</td>\n",
       "      <td>Male</td>\n",
       "      <td>Idaho</td>\n",
       "      <td>35</td>\n",
       "      <td>1/1/2017</td>\n",
       "      <td>2</td>\n",
       "      <td>married</td>\n",
       "      <td>99568</td>\n",
       "    </tr>\n",
       "    <tr>\n",
       "      <th>3</th>\n",
       "      <td>125935</td>\n",
       "      <td>Michelle</td>\n",
       "      <td>Hicks</td>\n",
       "      <td>Female</td>\n",
       "      <td>Iowa</td>\n",
       "      <td>40</td>\n",
       "      <td>1/1/2017</td>\n",
       "      <td>0</td>\n",
       "      <td>single</td>\n",
       "      <td>42049</td>\n",
       "    </tr>\n",
       "    <tr>\n",
       "      <th>4</th>\n",
       "      <td>130797</td>\n",
       "      <td>Ann</td>\n",
       "      <td>Gilmore</td>\n",
       "      <td>Female</td>\n",
       "      <td>Maryland</td>\n",
       "      <td>26</td>\n",
       "      <td>1/1/2017</td>\n",
       "      <td>1</td>\n",
       "      <td>married</td>\n",
       "      <td>40374</td>\n",
       "    </tr>\n",
       "  </tbody>\n",
       "</table>\n",
       "</div>"
      ],
      "text/plain": [
       "   user_id First Name    Surnam  Gender       STATE  Age date_joined  \\\n",
       "0    26711    Deborah  Esquivel  Female    Missouri   48    1/1/2017   \n",
       "1    33890   Patricia      Hart  Female  New Mexico   36    1/1/2017   \n",
       "2    65803    Kenneth    Farley    Male       Idaho   35    1/1/2017   \n",
       "3   125935   Michelle     Hicks  Female        Iowa   40    1/1/2017   \n",
       "4   130797        Ann   Gilmore  Female    Maryland   26    1/1/2017   \n",
       "\n",
       "   n_dependants fam_status  income  \n",
       "0             3    married  165665  \n",
       "1             0     single   59285  \n",
       "2             2    married   99568  \n",
       "3             0     single   42049  \n",
       "4             1    married   40374  "
      ]
     },
     "execution_count": 8,
     "metadata": {},
     "output_type": "execute_result"
    }
   ],
   "source": [
    "customers.head()"
   ]
  },
  {
   "cell_type": "code",
   "execution_count": 10,
   "id": "407cf95a-0dfd-4441-8fdd-b3b36683cbb5",
   "metadata": {},
   "outputs": [
    {
     "data": {
      "text/plain": [
       "(206209, 10)"
      ]
     },
     "execution_count": 10,
     "metadata": {},
     "output_type": "execute_result"
    }
   ],
   "source": [
    "customers.shape"
   ]
  },
  {
   "cell_type": "code",
   "execution_count": 12,
   "id": "a70e0972-5994-4ed4-9f1e-7bc6c436a043",
   "metadata": {},
   "outputs": [
    {
     "data": {
      "text/html": [
       "<div>\n",
       "<style scoped>\n",
       "    .dataframe tbody tr th:only-of-type {\n",
       "        vertical-align: middle;\n",
       "    }\n",
       "\n",
       "    .dataframe tbody tr th {\n",
       "        vertical-align: top;\n",
       "    }\n",
       "\n",
       "    .dataframe thead th {\n",
       "        text-align: right;\n",
       "    }\n",
       "</style>\n",
       "<table border=\"1\" class=\"dataframe\">\n",
       "  <thead>\n",
       "    <tr style=\"text-align: right;\">\n",
       "      <th></th>\n",
       "      <th>user_id</th>\n",
       "      <th>Age</th>\n",
       "      <th>n_dependants</th>\n",
       "      <th>income</th>\n",
       "    </tr>\n",
       "  </thead>\n",
       "  <tbody>\n",
       "    <tr>\n",
       "      <th>count</th>\n",
       "      <td>206209.000000</td>\n",
       "      <td>206209.000000</td>\n",
       "      <td>206209.000000</td>\n",
       "      <td>206209.000000</td>\n",
       "    </tr>\n",
       "    <tr>\n",
       "      <th>mean</th>\n",
       "      <td>103105.000000</td>\n",
       "      <td>49.501646</td>\n",
       "      <td>1.499823</td>\n",
       "      <td>94632.852548</td>\n",
       "    </tr>\n",
       "    <tr>\n",
       "      <th>std</th>\n",
       "      <td>59527.555167</td>\n",
       "      <td>18.480962</td>\n",
       "      <td>1.118433</td>\n",
       "      <td>42473.786988</td>\n",
       "    </tr>\n",
       "    <tr>\n",
       "      <th>min</th>\n",
       "      <td>1.000000</td>\n",
       "      <td>18.000000</td>\n",
       "      <td>0.000000</td>\n",
       "      <td>25903.000000</td>\n",
       "    </tr>\n",
       "    <tr>\n",
       "      <th>25%</th>\n",
       "      <td>51553.000000</td>\n",
       "      <td>33.000000</td>\n",
       "      <td>0.000000</td>\n",
       "      <td>59874.000000</td>\n",
       "    </tr>\n",
       "    <tr>\n",
       "      <th>50%</th>\n",
       "      <td>103105.000000</td>\n",
       "      <td>49.000000</td>\n",
       "      <td>1.000000</td>\n",
       "      <td>93547.000000</td>\n",
       "    </tr>\n",
       "    <tr>\n",
       "      <th>75%</th>\n",
       "      <td>154657.000000</td>\n",
       "      <td>66.000000</td>\n",
       "      <td>3.000000</td>\n",
       "      <td>124244.000000</td>\n",
       "    </tr>\n",
       "    <tr>\n",
       "      <th>max</th>\n",
       "      <td>206209.000000</td>\n",
       "      <td>81.000000</td>\n",
       "      <td>3.000000</td>\n",
       "      <td>593901.000000</td>\n",
       "    </tr>\n",
       "  </tbody>\n",
       "</table>\n",
       "</div>"
      ],
      "text/plain": [
       "             user_id            Age   n_dependants         income\n",
       "count  206209.000000  206209.000000  206209.000000  206209.000000\n",
       "mean   103105.000000      49.501646       1.499823   94632.852548\n",
       "std     59527.555167      18.480962       1.118433   42473.786988\n",
       "min         1.000000      18.000000       0.000000   25903.000000\n",
       "25%     51553.000000      33.000000       0.000000   59874.000000\n",
       "50%    103105.000000      49.000000       1.000000   93547.000000\n",
       "75%    154657.000000      66.000000       3.000000  124244.000000\n",
       "max    206209.000000      81.000000       3.000000  593901.000000"
      ]
     },
     "execution_count": 12,
     "metadata": {},
     "output_type": "execute_result"
    }
   ],
   "source": [
    "customers.describe()"
   ]
  },
  {
   "cell_type": "code",
   "execution_count": 14,
   "id": "68f08948-1bd5-4a9e-ab54-15b9cd5d0110",
   "metadata": {},
   "outputs": [
    {
     "data": {
      "text/plain": [
       "user_id          int64\n",
       "First Name      object\n",
       "Surnam          object\n",
       "Gender          object\n",
       "STATE           object\n",
       "Age              int64\n",
       "date_joined     object\n",
       "n_dependants     int64\n",
       "fam_status      object\n",
       "income           int64\n",
       "dtype: object"
      ]
     },
     "execution_count": 14,
     "metadata": {},
     "output_type": "execute_result"
    }
   ],
   "source": [
    "customers.dtypes"
   ]
  },
  {
   "cell_type": "markdown",
   "id": "d04733ef-f805-4d28-9d89-8d7bb04da11f",
   "metadata": {},
   "source": [
    "### Wrangle the data so that it follows consistent logic (rename columns with illogical names and drop columns that don’t add anything to analysis.)"
   ]
  },
  {
   "cell_type": "code",
   "execution_count": 18,
   "id": "6a73a6c8-9b4e-4eb1-b240-e8a47f49d45a",
   "metadata": {},
   "outputs": [],
   "source": [
    "# Renaming the columns "
   ]
  },
  {
   "cell_type": "code",
   "execution_count": 20,
   "id": "c7c12961-8aad-42d2-95da-487f8a0ef23b",
   "metadata": {},
   "outputs": [],
   "source": [
    "customers.rename(columns = {'First Name' : 'first_name'}, inplace = True)"
   ]
  },
  {
   "cell_type": "code",
   "execution_count": 22,
   "id": "d1585dce-2343-4806-9237-2a217018b37c",
   "metadata": {},
   "outputs": [],
   "source": [
    "customers.rename(columns = {'Surnam' : 'surname'}, inplace = True)"
   ]
  },
  {
   "cell_type": "code",
   "execution_count": 34,
   "id": "f871a621-cfd9-44ee-a790-35209b7bd95a",
   "metadata": {},
   "outputs": [],
   "source": [
    "customers.rename(columns={\n",
    "    'Gender': 'gender',\n",
    "    'STATE': 'state',\n",
    "    'Age': 'age',\n",
    "    'n_dependants': 'number_of_dependents',\n",
    "    'fam_status': 'marital_status'\n",
    "}, inplace=True)"
   ]
  },
  {
   "cell_type": "code",
   "execution_count": 36,
   "id": "1d245858-a4d7-4584-881d-5930fcd739d0",
   "metadata": {
    "scrolled": true
   },
   "outputs": [
    {
     "data": {
      "text/html": [
       "<div>\n",
       "<style scoped>\n",
       "    .dataframe tbody tr th:only-of-type {\n",
       "        vertical-align: middle;\n",
       "    }\n",
       "\n",
       "    .dataframe tbody tr th {\n",
       "        vertical-align: top;\n",
       "    }\n",
       "\n",
       "    .dataframe thead th {\n",
       "        text-align: right;\n",
       "    }\n",
       "</style>\n",
       "<table border=\"1\" class=\"dataframe\">\n",
       "  <thead>\n",
       "    <tr style=\"text-align: right;\">\n",
       "      <th></th>\n",
       "      <th>user_id</th>\n",
       "      <th>first_name</th>\n",
       "      <th>surname</th>\n",
       "      <th>gender</th>\n",
       "      <th>state</th>\n",
       "      <th>age</th>\n",
       "      <th>date_joined</th>\n",
       "      <th>number_of_dependents</th>\n",
       "      <th>marital_status</th>\n",
       "      <th>income</th>\n",
       "    </tr>\n",
       "  </thead>\n",
       "  <tbody>\n",
       "    <tr>\n",
       "      <th>0</th>\n",
       "      <td>26711</td>\n",
       "      <td>Deborah</td>\n",
       "      <td>Esquivel</td>\n",
       "      <td>Female</td>\n",
       "      <td>Missouri</td>\n",
       "      <td>48</td>\n",
       "      <td>1/1/2017</td>\n",
       "      <td>3</td>\n",
       "      <td>married</td>\n",
       "      <td>165665</td>\n",
       "    </tr>\n",
       "    <tr>\n",
       "      <th>1</th>\n",
       "      <td>33890</td>\n",
       "      <td>Patricia</td>\n",
       "      <td>Hart</td>\n",
       "      <td>Female</td>\n",
       "      <td>New Mexico</td>\n",
       "      <td>36</td>\n",
       "      <td>1/1/2017</td>\n",
       "      <td>0</td>\n",
       "      <td>single</td>\n",
       "      <td>59285</td>\n",
       "    </tr>\n",
       "    <tr>\n",
       "      <th>2</th>\n",
       "      <td>65803</td>\n",
       "      <td>Kenneth</td>\n",
       "      <td>Farley</td>\n",
       "      <td>Male</td>\n",
       "      <td>Idaho</td>\n",
       "      <td>35</td>\n",
       "      <td>1/1/2017</td>\n",
       "      <td>2</td>\n",
       "      <td>married</td>\n",
       "      <td>99568</td>\n",
       "    </tr>\n",
       "    <tr>\n",
       "      <th>3</th>\n",
       "      <td>125935</td>\n",
       "      <td>Michelle</td>\n",
       "      <td>Hicks</td>\n",
       "      <td>Female</td>\n",
       "      <td>Iowa</td>\n",
       "      <td>40</td>\n",
       "      <td>1/1/2017</td>\n",
       "      <td>0</td>\n",
       "      <td>single</td>\n",
       "      <td>42049</td>\n",
       "    </tr>\n",
       "    <tr>\n",
       "      <th>4</th>\n",
       "      <td>130797</td>\n",
       "      <td>Ann</td>\n",
       "      <td>Gilmore</td>\n",
       "      <td>Female</td>\n",
       "      <td>Maryland</td>\n",
       "      <td>26</td>\n",
       "      <td>1/1/2017</td>\n",
       "      <td>1</td>\n",
       "      <td>married</td>\n",
       "      <td>40374</td>\n",
       "    </tr>\n",
       "  </tbody>\n",
       "</table>\n",
       "</div>"
      ],
      "text/plain": [
       "   user_id first_name   surname  gender       state  age date_joined  \\\n",
       "0    26711    Deborah  Esquivel  Female    Missouri   48    1/1/2017   \n",
       "1    33890   Patricia      Hart  Female  New Mexico   36    1/1/2017   \n",
       "2    65803    Kenneth    Farley    Male       Idaho   35    1/1/2017   \n",
       "3   125935   Michelle     Hicks  Female        Iowa   40    1/1/2017   \n",
       "4   130797        Ann   Gilmore  Female    Maryland   26    1/1/2017   \n",
       "\n",
       "   number_of_dependents marital_status  income  \n",
       "0                     3        married  165665  \n",
       "1                     0         single   59285  \n",
       "2                     2        married   99568  \n",
       "3                     0         single   42049  \n",
       "4                     1        married   40374  "
      ]
     },
     "execution_count": 36,
     "metadata": {},
     "output_type": "execute_result"
    }
   ],
   "source": [
    "customers.head()"
   ]
  },
  {
   "cell_type": "markdown",
   "id": "eb923167-5785-4150-851d-1f27278cc284",
   "metadata": {},
   "source": [
    "##### I believe that all columns are necessary, so as may be needed in the analysis."
   ]
  },
  {
   "cell_type": "markdown",
   "id": "58b8150c-af99-4602-822a-764ef0f80f47",
   "metadata": {},
   "source": [
    "### Complete the fundamental data quality and consistency checks (check for and address missing values and duplicates, convert any mixed-type data)"
   ]
  },
  {
   "cell_type": "code",
   "execution_count": 41,
   "id": "b56214ad-4d80-414d-b9b7-9e6efb634f0f",
   "metadata": {},
   "outputs": [
    {
     "name": "stdout",
     "output_type": "stream",
     "text": [
      "first_name\n"
     ]
    }
   ],
   "source": [
    "# Checking for mixed-type data in dataframe\n",
    "\n",
    "for col in customers.columns.tolist():\n",
    "  weird = (customers[[col]].map(type) != customers[[col]].iloc[0].apply(type)).any(axis = 1)\n",
    "  if len (customers[weird]) > 0:\n",
    "    print (col)"
   ]
  },
  {
   "cell_type": "code",
   "execution_count": 43,
   "id": "11d6d417-873e-4650-a5dc-294df4170e3d",
   "metadata": {},
   "outputs": [],
   "source": [
    "# Found one column with mixed data type that need to be addressed - 'first_name'.\n",
    "\n",
    "customers['first_name'] = customers['first_name'].astype('str')"
   ]
  },
  {
   "cell_type": "code",
   "execution_count": 47,
   "id": "2d891d17-f78d-475c-810e-9bf6814bb52b",
   "metadata": {},
   "outputs": [],
   "source": [
    "# Also need to change the data type in the column 'user_id', as it is not a numerical type for counting.\n",
    "\n",
    "customers['user_id'] = customers['user_id'].astype('str')"
   ]
  },
  {
   "cell_type": "code",
   "execution_count": 49,
   "id": "bcff678c-5655-4690-9f01-7f351db91064",
   "metadata": {},
   "outputs": [],
   "source": [
    "# Checking mixed-data types after changing the data type.\n",
    "\n",
    "for col in customers.columns.tolist():\n",
    "  weird = (customers[[col]].map(type) != customers[[col]].iloc[0].apply(type)).any(axis = 1)\n",
    "  if len (customers[weird]) > 0:\n",
    "    print (col)"
   ]
  },
  {
   "cell_type": "markdown",
   "id": "77f63975-a5e3-4df3-ba75-577cdf1afd83",
   "metadata": {},
   "source": [
    "##### No mixed data type columns found."
   ]
  },
  {
   "cell_type": "code",
   "execution_count": 53,
   "id": "007ebe16-2ea1-4d9e-90d8-2cd357800ef3",
   "metadata": {},
   "outputs": [
    {
     "data": {
      "text/plain": [
       "user_id                 object\n",
       "first_name              object\n",
       "surname                 object\n",
       "gender                  object\n",
       "state                   object\n",
       "age                      int64\n",
       "date_joined             object\n",
       "number_of_dependents     int64\n",
       "marital_status          object\n",
       "income                   int64\n",
       "dtype: object"
      ]
     },
     "execution_count": 53,
     "metadata": {},
     "output_type": "execute_result"
    }
   ],
   "source": [
    "customers.dtypes"
   ]
  },
  {
   "cell_type": "code",
   "execution_count": 55,
   "id": "23a2e002-e3d5-4d13-957d-75c847a50575",
   "metadata": {},
   "outputs": [
    {
     "data": {
      "text/plain": [
       "user_id                 0\n",
       "first_name              0\n",
       "surname                 0\n",
       "gender                  0\n",
       "state                   0\n",
       "age                     0\n",
       "date_joined             0\n",
       "number_of_dependents    0\n",
       "marital_status          0\n",
       "income                  0\n",
       "dtype: int64"
      ]
     },
     "execution_count": 55,
     "metadata": {},
     "output_type": "execute_result"
    }
   ],
   "source": [
    "# Checking for missing values\n",
    "\n",
    "customers.isnull().sum()"
   ]
  },
  {
   "cell_type": "markdown",
   "id": "923b1860-9325-4f5c-b8b8-57599c5009f8",
   "metadata": {},
   "source": [
    "##### No missing data found."
   ]
  },
  {
   "cell_type": "code",
   "execution_count": 58,
   "id": "2ac14e38-51fb-45c6-b190-9beea9d291eb",
   "metadata": {},
   "outputs": [],
   "source": [
    "# Checking for duplicates.\n",
    "\n",
    "customers_dups = customers[customers.duplicated()]"
   ]
  },
  {
   "cell_type": "code",
   "execution_count": 60,
   "id": "35e6ef7b-fdb2-4859-8726-4037ca27e6f8",
   "metadata": {},
   "outputs": [
    {
     "data": {
      "text/html": [
       "<div>\n",
       "<style scoped>\n",
       "    .dataframe tbody tr th:only-of-type {\n",
       "        vertical-align: middle;\n",
       "    }\n",
       "\n",
       "    .dataframe tbody tr th {\n",
       "        vertical-align: top;\n",
       "    }\n",
       "\n",
       "    .dataframe thead th {\n",
       "        text-align: right;\n",
       "    }\n",
       "</style>\n",
       "<table border=\"1\" class=\"dataframe\">\n",
       "  <thead>\n",
       "    <tr style=\"text-align: right;\">\n",
       "      <th></th>\n",
       "      <th>user_id</th>\n",
       "      <th>first_name</th>\n",
       "      <th>surname</th>\n",
       "      <th>gender</th>\n",
       "      <th>state</th>\n",
       "      <th>age</th>\n",
       "      <th>date_joined</th>\n",
       "      <th>number_of_dependents</th>\n",
       "      <th>marital_status</th>\n",
       "      <th>income</th>\n",
       "    </tr>\n",
       "  </thead>\n",
       "  <tbody>\n",
       "  </tbody>\n",
       "</table>\n",
       "</div>"
      ],
      "text/plain": [
       "Empty DataFrame\n",
       "Columns: [user_id, first_name, surname, gender, state, age, date_joined, number_of_dependents, marital_status, income]\n",
       "Index: []"
      ]
     },
     "execution_count": 60,
     "metadata": {},
     "output_type": "execute_result"
    }
   ],
   "source": [
    "customers_dups"
   ]
  },
  {
   "cell_type": "markdown",
   "id": "27ec1b14-8be7-4331-a935-e38d1ca5dac8",
   "metadata": {},
   "source": [
    "##### No duplicates found."
   ]
  },
  {
   "cell_type": "markdown",
   "id": "2c184a44-7e59-4e2b-99d3-dc49dfb40c44",
   "metadata": {},
   "source": [
    "### Combine customer data with the rest of prepared Instacart data. (Hint: Make sure the key columns are the same data type!)"
   ]
  },
  {
   "cell_type": "code",
   "execution_count": 66,
   "id": "ec01ee77-4b07-4eec-ac2f-fba537908a5f",
   "metadata": {},
   "outputs": [],
   "source": [
    "# Importing the rest of the prepared Instacart data\n",
    "\n",
    "ords_prods = pd.read_pickle(os.path.join(path, '02 Data', 'Prepared Data', 'ords_prods_merge_grouped.pkl'))"
   ]
  },
  {
   "cell_type": "code",
   "execution_count": 68,
   "id": "e6857a14-2d04-4425-9ad2-efad0181e72c",
   "metadata": {},
   "outputs": [
    {
     "data": {
      "text/plain": [
       "(32404859, 23)"
      ]
     },
     "execution_count": 68,
     "metadata": {},
     "output_type": "execute_result"
    }
   ],
   "source": [
    "ords_prods.shape"
   ]
  },
  {
   "cell_type": "code",
   "execution_count": 70,
   "id": "cb91d47f-467b-422a-b08a-744ec054847b",
   "metadata": {},
   "outputs": [
    {
     "data": {
      "text/plain": [
       "(206209, 10)"
      ]
     },
     "execution_count": 70,
     "metadata": {},
     "output_type": "execute_result"
    }
   ],
   "source": [
    "customers.shape"
   ]
  },
  {
   "cell_type": "code",
   "execution_count": 72,
   "id": "bb953217-07d4-4346-9b05-0a84312ae64f",
   "metadata": {},
   "outputs": [],
   "source": [
    "# Finding a common column."
   ]
  },
  {
   "cell_type": "code",
   "execution_count": 76,
   "id": "4b9a7927-41f9-4de8-9ca9-060aecc72326",
   "metadata": {},
   "outputs": [
    {
     "name": "stdout",
     "output_type": "stream",
     "text": [
      "<class 'pandas.core.frame.DataFrame'>\n",
      "RangeIndex: 32404859 entries, 0 to 32404858\n",
      "Data columns (total 23 columns):\n",
      " #   Column                         Dtype   \n",
      "---  ------                         -----   \n",
      " 0   product_id                     int64   \n",
      " 1   product_name                   object  \n",
      " 2   aisle_id                       int64   \n",
      " 3   department_id                  int64   \n",
      " 4   prices                         float64 \n",
      " 5   order_id                       int64   \n",
      " 6   user_id                        int64   \n",
      " 7   order_number                   int64   \n",
      " 8   order_dow                      int64   \n",
      " 9   order_hour_of_day              int64   \n",
      " 10  days_since_prior_order         float64 \n",
      " 11  add_to_cart_order              int64   \n",
      " 12  reordered                      int64   \n",
      " 13  _merge                         category\n",
      " 14  busiest_day                    object  \n",
      " 15  busiest_days                   object  \n",
      " 16  busiest_period_of_day          object  \n",
      " 17  max_order                      int64   \n",
      " 18  loyalty_flag                   object  \n",
      " 19  average_price                  float64 \n",
      " 20  spending_flag                  object  \n",
      " 21  median_days_since_prior_order  float64 \n",
      " 22  frequency_flag                 object  \n",
      "dtypes: category(1), float64(4), int64(11), object(7)\n",
      "memory usage: 5.3+ GB\n"
     ]
    }
   ],
   "source": [
    "ords_prods.info()"
   ]
  },
  {
   "cell_type": "code",
   "execution_count": 78,
   "id": "6c6c0d89-f1fa-4454-99e2-6d01716bca2e",
   "metadata": {},
   "outputs": [
    {
     "name": "stdout",
     "output_type": "stream",
     "text": [
      "<class 'pandas.core.frame.DataFrame'>\n",
      "RangeIndex: 206209 entries, 0 to 206208\n",
      "Data columns (total 10 columns):\n",
      " #   Column                Non-Null Count   Dtype \n",
      "---  ------                --------------   ----- \n",
      " 0   user_id               206209 non-null  object\n",
      " 1   first_name            206209 non-null  object\n",
      " 2   surname               206209 non-null  object\n",
      " 3   gender                206209 non-null  object\n",
      " 4   state                 206209 non-null  object\n",
      " 5   age                   206209 non-null  int64 \n",
      " 6   date_joined           206209 non-null  object\n",
      " 7   number_of_dependents  206209 non-null  int64 \n",
      " 8   marital_status        206209 non-null  object\n",
      " 9   income                206209 non-null  int64 \n",
      "dtypes: int64(3), object(7)\n",
      "memory usage: 15.7+ MB\n"
     ]
    }
   ],
   "source": [
    "customers.info()"
   ]
  },
  {
   "cell_type": "markdown",
   "id": "c8113766-d553-4838-8818-34097bdfeaef",
   "metadata": {},
   "source": [
    "##### The common column to both Data frames is -'user_id'. As can see in both data sets, this column has a different data type, so need to change the data type od 'user_id' column in the 'ords_prods date set."
   ]
  },
  {
   "cell_type": "code",
   "execution_count": 82,
   "id": "ecc7d5f8-832b-4ffe-b05e-880bf144508f",
   "metadata": {},
   "outputs": [],
   "source": [
    "# Changing data type\n",
    "\n",
    "ords_prods['user_id'] = ords_prods['user_id'].astype('str')"
   ]
  },
  {
   "cell_type": "code",
   "execution_count": 84,
   "id": "4719cdde-92f0-455c-8a01-9e824bd22beb",
   "metadata": {},
   "outputs": [
    {
     "data": {
      "text/plain": [
       "product_id                          int64\n",
       "product_name                       object\n",
       "aisle_id                            int64\n",
       "department_id                       int64\n",
       "prices                            float64\n",
       "order_id                            int64\n",
       "user_id                            object\n",
       "order_number                        int64\n",
       "order_dow                           int64\n",
       "order_hour_of_day                   int64\n",
       "days_since_prior_order            float64\n",
       "add_to_cart_order                   int64\n",
       "reordered                           int64\n",
       "_merge                           category\n",
       "busiest_day                        object\n",
       "busiest_days                       object\n",
       "busiest_period_of_day              object\n",
       "max_order                           int64\n",
       "loyalty_flag                       object\n",
       "average_price                     float64\n",
       "spending_flag                      object\n",
       "median_days_since_prior_order     float64\n",
       "frequency_flag                     object\n",
       "dtype: object"
      ]
     },
     "execution_count": 84,
     "metadata": {},
     "output_type": "execute_result"
    }
   ],
   "source": [
    "ords_prods.dtypes"
   ]
  },
  {
   "cell_type": "code",
   "execution_count": 86,
   "id": "cd5d872e-acba-41bd-9c76-a129d376a04b",
   "metadata": {},
   "outputs": [
    {
     "data": {
      "text/html": [
       "<div>\n",
       "<style scoped>\n",
       "    .dataframe tbody tr th:only-of-type {\n",
       "        vertical-align: middle;\n",
       "    }\n",
       "\n",
       "    .dataframe tbody tr th {\n",
       "        vertical-align: top;\n",
       "    }\n",
       "\n",
       "    .dataframe thead th {\n",
       "        text-align: right;\n",
       "    }\n",
       "</style>\n",
       "<table border=\"1\" class=\"dataframe\">\n",
       "  <thead>\n",
       "    <tr style=\"text-align: right;\">\n",
       "      <th></th>\n",
       "      <th>product_id</th>\n",
       "      <th>product_name</th>\n",
       "      <th>aisle_id</th>\n",
       "      <th>department_id</th>\n",
       "      <th>prices</th>\n",
       "      <th>order_id</th>\n",
       "      <th>user_id</th>\n",
       "      <th>order_number</th>\n",
       "      <th>order_dow</th>\n",
       "      <th>order_hour_of_day</th>\n",
       "      <th>...</th>\n",
       "      <th>_merge</th>\n",
       "      <th>busiest_day</th>\n",
       "      <th>busiest_days</th>\n",
       "      <th>busiest_period_of_day</th>\n",
       "      <th>max_order</th>\n",
       "      <th>loyalty_flag</th>\n",
       "      <th>average_price</th>\n",
       "      <th>spending_flag</th>\n",
       "      <th>median_days_since_prior_order</th>\n",
       "      <th>frequency_flag</th>\n",
       "    </tr>\n",
       "  </thead>\n",
       "  <tbody>\n",
       "    <tr>\n",
       "      <th>0</th>\n",
       "      <td>1</td>\n",
       "      <td>Chocolate Sandwich Cookies</td>\n",
       "      <td>61</td>\n",
       "      <td>19</td>\n",
       "      <td>5.8</td>\n",
       "      <td>3139998</td>\n",
       "      <td>138</td>\n",
       "      <td>28</td>\n",
       "      <td>6</td>\n",
       "      <td>11</td>\n",
       "      <td>...</td>\n",
       "      <td>both</td>\n",
       "      <td>Regularly busy</td>\n",
       "      <td>Regularly busy</td>\n",
       "      <td>Most orders</td>\n",
       "      <td>32</td>\n",
       "      <td>Regular customer</td>\n",
       "      <td>6.935811</td>\n",
       "      <td>Low spender</td>\n",
       "      <td>8.0</td>\n",
       "      <td>Frequent customer</td>\n",
       "    </tr>\n",
       "    <tr>\n",
       "      <th>1</th>\n",
       "      <td>1</td>\n",
       "      <td>Chocolate Sandwich Cookies</td>\n",
       "      <td>61</td>\n",
       "      <td>19</td>\n",
       "      <td>5.8</td>\n",
       "      <td>1977647</td>\n",
       "      <td>138</td>\n",
       "      <td>30</td>\n",
       "      <td>6</td>\n",
       "      <td>17</td>\n",
       "      <td>...</td>\n",
       "      <td>both</td>\n",
       "      <td>Regularly busy</td>\n",
       "      <td>Regularly busy</td>\n",
       "      <td>Average orders</td>\n",
       "      <td>32</td>\n",
       "      <td>Regular customer</td>\n",
       "      <td>6.935811</td>\n",
       "      <td>Low spender</td>\n",
       "      <td>8.0</td>\n",
       "      <td>Frequent customer</td>\n",
       "    </tr>\n",
       "    <tr>\n",
       "      <th>2</th>\n",
       "      <td>1</td>\n",
       "      <td>Chocolate Sandwich Cookies</td>\n",
       "      <td>61</td>\n",
       "      <td>19</td>\n",
       "      <td>5.8</td>\n",
       "      <td>389851</td>\n",
       "      <td>709</td>\n",
       "      <td>2</td>\n",
       "      <td>0</td>\n",
       "      <td>21</td>\n",
       "      <td>...</td>\n",
       "      <td>both</td>\n",
       "      <td>Busiest day</td>\n",
       "      <td>Busiest days</td>\n",
       "      <td>Average orders</td>\n",
       "      <td>5</td>\n",
       "      <td>New customer</td>\n",
       "      <td>7.930208</td>\n",
       "      <td>Low spender</td>\n",
       "      <td>7.0</td>\n",
       "      <td>Frequent customer</td>\n",
       "    </tr>\n",
       "    <tr>\n",
       "      <th>3</th>\n",
       "      <td>1</td>\n",
       "      <td>Chocolate Sandwich Cookies</td>\n",
       "      <td>61</td>\n",
       "      <td>19</td>\n",
       "      <td>5.8</td>\n",
       "      <td>652770</td>\n",
       "      <td>764</td>\n",
       "      <td>1</td>\n",
       "      <td>3</td>\n",
       "      <td>13</td>\n",
       "      <td>...</td>\n",
       "      <td>both</td>\n",
       "      <td>Regularly busy</td>\n",
       "      <td>Slowest days</td>\n",
       "      <td>Most orders</td>\n",
       "      <td>3</td>\n",
       "      <td>New customer</td>\n",
       "      <td>4.972414</td>\n",
       "      <td>Low spender</td>\n",
       "      <td>9.0</td>\n",
       "      <td>Frequent customer</td>\n",
       "    </tr>\n",
       "    <tr>\n",
       "      <th>4</th>\n",
       "      <td>1</td>\n",
       "      <td>Chocolate Sandwich Cookies</td>\n",
       "      <td>61</td>\n",
       "      <td>19</td>\n",
       "      <td>5.8</td>\n",
       "      <td>1813452</td>\n",
       "      <td>764</td>\n",
       "      <td>3</td>\n",
       "      <td>4</td>\n",
       "      <td>17</td>\n",
       "      <td>...</td>\n",
       "      <td>both</td>\n",
       "      <td>Least busy</td>\n",
       "      <td>Slowest days</td>\n",
       "      <td>Average orders</td>\n",
       "      <td>3</td>\n",
       "      <td>New customer</td>\n",
       "      <td>4.972414</td>\n",
       "      <td>Low spender</td>\n",
       "      <td>9.0</td>\n",
       "      <td>Frequent customer</td>\n",
       "    </tr>\n",
       "  </tbody>\n",
       "</table>\n",
       "<p>5 rows × 23 columns</p>\n",
       "</div>"
      ],
      "text/plain": [
       "   product_id                product_name  aisle_id  department_id  prices  \\\n",
       "0           1  Chocolate Sandwich Cookies        61             19     5.8   \n",
       "1           1  Chocolate Sandwich Cookies        61             19     5.8   \n",
       "2           1  Chocolate Sandwich Cookies        61             19     5.8   \n",
       "3           1  Chocolate Sandwich Cookies        61             19     5.8   \n",
       "4           1  Chocolate Sandwich Cookies        61             19     5.8   \n",
       "\n",
       "   order_id user_id  order_number  order_dow  order_hour_of_day  ...  _merge  \\\n",
       "0   3139998     138            28          6                 11  ...    both   \n",
       "1   1977647     138            30          6                 17  ...    both   \n",
       "2    389851     709             2          0                 21  ...    both   \n",
       "3    652770     764             1          3                 13  ...    both   \n",
       "4   1813452     764             3          4                 17  ...    both   \n",
       "\n",
       "      busiest_day    busiest_days busiest_period_of_day max_order  \\\n",
       "0  Regularly busy  Regularly busy           Most orders        32   \n",
       "1  Regularly busy  Regularly busy        Average orders        32   \n",
       "2     Busiest day    Busiest days        Average orders         5   \n",
       "3  Regularly busy    Slowest days           Most orders         3   \n",
       "4      Least busy    Slowest days        Average orders         3   \n",
       "\n",
       "       loyalty_flag average_price  spending_flag  \\\n",
       "0  Regular customer      6.935811    Low spender   \n",
       "1  Regular customer      6.935811    Low spender   \n",
       "2      New customer      7.930208    Low spender   \n",
       "3      New customer      4.972414    Low spender   \n",
       "4      New customer      4.972414    Low spender   \n",
       "\n",
       "  median_days_since_prior_order     frequency_flag  \n",
       "0                           8.0  Frequent customer  \n",
       "1                           8.0  Frequent customer  \n",
       "2                           7.0  Frequent customer  \n",
       "3                           9.0  Frequent customer  \n",
       "4                           9.0  Frequent customer  \n",
       "\n",
       "[5 rows x 23 columns]"
      ]
     },
     "execution_count": 86,
     "metadata": {},
     "output_type": "execute_result"
    }
   ],
   "source": [
    "ords_prods.head()"
   ]
  },
  {
   "cell_type": "code",
   "execution_count": 88,
   "id": "edb72858-fe50-4993-9406-0d098cf92092",
   "metadata": {},
   "outputs": [],
   "source": [
    "# Drop the existing '_merge' column \n",
    "\n",
    "ords_prods = ords_prods.drop(columns = ['_merge'])"
   ]
  },
  {
   "cell_type": "code",
   "execution_count": 98,
   "id": "b3a0d059-abad-448a-9b5a-a420bda84048",
   "metadata": {},
   "outputs": [
    {
     "data": {
      "text/plain": [
       "Index(['product_id', 'product_name', 'aisle_id', 'department_id', 'prices',\n",
       "       'order_id', 'user_id', 'order_number', 'order_dow', 'order_hour_of_day',\n",
       "       'days_since_prior_order', 'add_to_cart_order', 'reordered',\n",
       "       'busiest_day', 'busiest_days', 'busiest_period_of_day', 'max_order',\n",
       "       'loyalty_flag', 'average_price', 'spending_flag',\n",
       "       'median_days_since_prior_order', 'frequency_flag'],\n",
       "      dtype='object')"
      ]
     },
     "execution_count": 98,
     "metadata": {},
     "output_type": "execute_result"
    }
   ],
   "source": [
    "ords_prods.columns"
   ]
  },
  {
   "cell_type": "code",
   "execution_count": 101,
   "id": "e2f214f6-47cf-49da-89d9-6c0cdbe01952",
   "metadata": {},
   "outputs": [],
   "source": [
    "# Merging dataframes using the column 'user_id' with the inner join.\n",
    "\n",
    "custs_ords_prods_merged = ords_prods.merge (customers, on = 'user_id', indicator = True)"
   ]
  },
  {
   "cell_type": "code",
   "execution_count": 102,
   "id": "149e1ce9-d1f5-4968-a03c-c44c70dc103b",
   "metadata": {},
   "outputs": [
    {
     "data": {
      "text/plain": [
       "_merge\n",
       "both          32404859\n",
       "left_only            0\n",
       "right_only           0\n",
       "Name: count, dtype: int64"
      ]
     },
     "execution_count": 102,
     "metadata": {},
     "output_type": "execute_result"
    }
   ],
   "source": [
    "# Checking for full match\n",
    "\n",
    "custs_ords_prods_merged ['_merge'].value_counts()"
   ]
  },
  {
   "cell_type": "code",
   "execution_count": 105,
   "id": "c3a8a171-2c9c-4e52-aaa0-a3b36dc1748f",
   "metadata": {},
   "outputs": [
    {
     "data": {
      "text/html": [
       "<div>\n",
       "<style scoped>\n",
       "    .dataframe tbody tr th:only-of-type {\n",
       "        vertical-align: middle;\n",
       "    }\n",
       "\n",
       "    .dataframe tbody tr th {\n",
       "        vertical-align: top;\n",
       "    }\n",
       "\n",
       "    .dataframe thead th {\n",
       "        text-align: right;\n",
       "    }\n",
       "</style>\n",
       "<table border=\"1\" class=\"dataframe\">\n",
       "  <thead>\n",
       "    <tr style=\"text-align: right;\">\n",
       "      <th></th>\n",
       "      <th>product_id</th>\n",
       "      <th>product_name</th>\n",
       "      <th>aisle_id</th>\n",
       "      <th>department_id</th>\n",
       "      <th>prices</th>\n",
       "      <th>order_id</th>\n",
       "      <th>user_id</th>\n",
       "      <th>order_number</th>\n",
       "      <th>order_dow</th>\n",
       "      <th>order_hour_of_day</th>\n",
       "      <th>...</th>\n",
       "      <th>first_name</th>\n",
       "      <th>surname</th>\n",
       "      <th>gender</th>\n",
       "      <th>state</th>\n",
       "      <th>age</th>\n",
       "      <th>date_joined</th>\n",
       "      <th>number_of_dependents</th>\n",
       "      <th>marital_status</th>\n",
       "      <th>income</th>\n",
       "      <th>_merge</th>\n",
       "    </tr>\n",
       "  </thead>\n",
       "  <tbody>\n",
       "    <tr>\n",
       "      <th>0</th>\n",
       "      <td>1</td>\n",
       "      <td>Chocolate Sandwich Cookies</td>\n",
       "      <td>61</td>\n",
       "      <td>19</td>\n",
       "      <td>5.8</td>\n",
       "      <td>3139998</td>\n",
       "      <td>138</td>\n",
       "      <td>28</td>\n",
       "      <td>6</td>\n",
       "      <td>11</td>\n",
       "      <td>...</td>\n",
       "      <td>Charles</td>\n",
       "      <td>Cox</td>\n",
       "      <td>Male</td>\n",
       "      <td>Minnesota</td>\n",
       "      <td>81</td>\n",
       "      <td>8/1/2019</td>\n",
       "      <td>1</td>\n",
       "      <td>married</td>\n",
       "      <td>49620</td>\n",
       "      <td>both</td>\n",
       "    </tr>\n",
       "    <tr>\n",
       "      <th>1</th>\n",
       "      <td>1</td>\n",
       "      <td>Chocolate Sandwich Cookies</td>\n",
       "      <td>61</td>\n",
       "      <td>19</td>\n",
       "      <td>5.8</td>\n",
       "      <td>1977647</td>\n",
       "      <td>138</td>\n",
       "      <td>30</td>\n",
       "      <td>6</td>\n",
       "      <td>17</td>\n",
       "      <td>...</td>\n",
       "      <td>Charles</td>\n",
       "      <td>Cox</td>\n",
       "      <td>Male</td>\n",
       "      <td>Minnesota</td>\n",
       "      <td>81</td>\n",
       "      <td>8/1/2019</td>\n",
       "      <td>1</td>\n",
       "      <td>married</td>\n",
       "      <td>49620</td>\n",
       "      <td>both</td>\n",
       "    </tr>\n",
       "    <tr>\n",
       "      <th>2</th>\n",
       "      <td>1</td>\n",
       "      <td>Chocolate Sandwich Cookies</td>\n",
       "      <td>61</td>\n",
       "      <td>19</td>\n",
       "      <td>5.8</td>\n",
       "      <td>389851</td>\n",
       "      <td>709</td>\n",
       "      <td>2</td>\n",
       "      <td>0</td>\n",
       "      <td>21</td>\n",
       "      <td>...</td>\n",
       "      <td>Deborah</td>\n",
       "      <td>Glass</td>\n",
       "      <td>Female</td>\n",
       "      <td>Vermont</td>\n",
       "      <td>66</td>\n",
       "      <td>6/16/2018</td>\n",
       "      <td>2</td>\n",
       "      <td>married</td>\n",
       "      <td>158302</td>\n",
       "      <td>both</td>\n",
       "    </tr>\n",
       "    <tr>\n",
       "      <th>3</th>\n",
       "      <td>1</td>\n",
       "      <td>Chocolate Sandwich Cookies</td>\n",
       "      <td>61</td>\n",
       "      <td>19</td>\n",
       "      <td>5.8</td>\n",
       "      <td>652770</td>\n",
       "      <td>764</td>\n",
       "      <td>1</td>\n",
       "      <td>3</td>\n",
       "      <td>13</td>\n",
       "      <td>...</td>\n",
       "      <td>Heather</td>\n",
       "      <td>Myers</td>\n",
       "      <td>Female</td>\n",
       "      <td>Wisconsin</td>\n",
       "      <td>40</td>\n",
       "      <td>2/9/2020</td>\n",
       "      <td>3</td>\n",
       "      <td>married</td>\n",
       "      <td>31308</td>\n",
       "      <td>both</td>\n",
       "    </tr>\n",
       "    <tr>\n",
       "      <th>4</th>\n",
       "      <td>1</td>\n",
       "      <td>Chocolate Sandwich Cookies</td>\n",
       "      <td>61</td>\n",
       "      <td>19</td>\n",
       "      <td>5.8</td>\n",
       "      <td>1813452</td>\n",
       "      <td>764</td>\n",
       "      <td>3</td>\n",
       "      <td>4</td>\n",
       "      <td>17</td>\n",
       "      <td>...</td>\n",
       "      <td>Heather</td>\n",
       "      <td>Myers</td>\n",
       "      <td>Female</td>\n",
       "      <td>Wisconsin</td>\n",
       "      <td>40</td>\n",
       "      <td>2/9/2020</td>\n",
       "      <td>3</td>\n",
       "      <td>married</td>\n",
       "      <td>31308</td>\n",
       "      <td>both</td>\n",
       "    </tr>\n",
       "  </tbody>\n",
       "</table>\n",
       "<p>5 rows × 32 columns</p>\n",
       "</div>"
      ],
      "text/plain": [
       "   product_id                product_name  aisle_id  department_id  prices  \\\n",
       "0           1  Chocolate Sandwich Cookies        61             19     5.8   \n",
       "1           1  Chocolate Sandwich Cookies        61             19     5.8   \n",
       "2           1  Chocolate Sandwich Cookies        61             19     5.8   \n",
       "3           1  Chocolate Sandwich Cookies        61             19     5.8   \n",
       "4           1  Chocolate Sandwich Cookies        61             19     5.8   \n",
       "\n",
       "   order_id user_id  order_number  order_dow  order_hour_of_day  ...  \\\n",
       "0   3139998     138            28          6                 11  ...   \n",
       "1   1977647     138            30          6                 17  ...   \n",
       "2    389851     709             2          0                 21  ...   \n",
       "3    652770     764             1          3                 13  ...   \n",
       "4   1813452     764             3          4                 17  ...   \n",
       "\n",
       "   first_name  surname  gender      state age date_joined  \\\n",
       "0     Charles      Cox    Male  Minnesota  81    8/1/2019   \n",
       "1     Charles      Cox    Male  Minnesota  81    8/1/2019   \n",
       "2     Deborah    Glass  Female    Vermont  66   6/16/2018   \n",
       "3     Heather    Myers  Female  Wisconsin  40    2/9/2020   \n",
       "4     Heather    Myers  Female  Wisconsin  40    2/9/2020   \n",
       "\n",
       "   number_of_dependents marital_status  income _merge  \n",
       "0                     1        married   49620   both  \n",
       "1                     1        married   49620   both  \n",
       "2                     2        married  158302   both  \n",
       "3                     3        married   31308   both  \n",
       "4                     3        married   31308   both  \n",
       "\n",
       "[5 rows x 32 columns]"
      ]
     },
     "execution_count": 105,
     "metadata": {},
     "output_type": "execute_result"
    }
   ],
   "source": [
    "custs_ords_prods_merged.head()"
   ]
  },
  {
   "cell_type": "code",
   "execution_count": 107,
   "id": "c433fd34-ba43-4110-aca5-d9a02a58a28c",
   "metadata": {},
   "outputs": [
    {
     "data": {
      "text/plain": [
       "(32404859, 32)"
      ]
     },
     "execution_count": 107,
     "metadata": {},
     "output_type": "execute_result"
    }
   ],
   "source": [
    "custs_ords_prods_merged.shape"
   ]
  },
  {
   "cell_type": "code",
   "execution_count": 109,
   "id": "5999b586-9ca8-4a68-a386-23a24e5950e9",
   "metadata": {},
   "outputs": [
    {
     "data": {
      "text/plain": [
       "product_id                          int64\n",
       "product_name                       object\n",
       "aisle_id                            int64\n",
       "department_id                       int64\n",
       "prices                            float64\n",
       "order_id                            int64\n",
       "user_id                            object\n",
       "order_number                        int64\n",
       "order_dow                           int64\n",
       "order_hour_of_day                   int64\n",
       "days_since_prior_order            float64\n",
       "add_to_cart_order                   int64\n",
       "reordered                           int64\n",
       "busiest_day                        object\n",
       "busiest_days                       object\n",
       "busiest_period_of_day              object\n",
       "max_order                           int64\n",
       "loyalty_flag                       object\n",
       "average_price                     float64\n",
       "spending_flag                      object\n",
       "median_days_since_prior_order     float64\n",
       "frequency_flag                     object\n",
       "first_name                         object\n",
       "surname                            object\n",
       "gender                             object\n",
       "state                              object\n",
       "age                                 int64\n",
       "date_joined                        object\n",
       "number_of_dependents                int64\n",
       "marital_status                     object\n",
       "income                              int64\n",
       "_merge                           category\n",
       "dtype: object"
      ]
     },
     "execution_count": 109,
     "metadata": {},
     "output_type": "execute_result"
    }
   ],
   "source": [
    "custs_ords_prods_merged.dtypes"
   ]
  },
  {
   "cell_type": "code",
   "execution_count": 111,
   "id": "d949271b-8c13-422c-8e39-4957fac91f12",
   "metadata": {},
   "outputs": [],
   "source": [
    "# I think it is expedient to change the data types in columns with a prefix -'id' their name, since they are not logical numbers for mathematical operations, but are simply an indicator."
   ]
  },
  {
   "cell_type": "code",
   "execution_count": 115,
   "id": "3ae301a1-3de3-4920-8f5e-bcc1c0177d9e",
   "metadata": {},
   "outputs": [],
   "source": [
    "custs_ords_prods_merged[['product_id','aisle_id','department_id','order_id']] = custs_ords_prods_merged[['product_id','aisle_id','department_id','order_id']].astype('str')"
   ]
  },
  {
   "cell_type": "code",
   "execution_count": 116,
   "id": "49eff199-d382-4d53-822a-956575035fb0",
   "metadata": {},
   "outputs": [
    {
     "data": {
      "text/plain": [
       "product_id                         object\n",
       "product_name                       object\n",
       "aisle_id                           object\n",
       "department_id                      object\n",
       "prices                            float64\n",
       "order_id                           object\n",
       "user_id                            object\n",
       "order_number                        int64\n",
       "order_dow                           int64\n",
       "order_hour_of_day                   int64\n",
       "days_since_prior_order            float64\n",
       "add_to_cart_order                   int64\n",
       "reordered                           int64\n",
       "busiest_day                        object\n",
       "busiest_days                       object\n",
       "busiest_period_of_day              object\n",
       "max_order                           int64\n",
       "loyalty_flag                       object\n",
       "average_price                     float64\n",
       "spending_flag                      object\n",
       "median_days_since_prior_order     float64\n",
       "frequency_flag                     object\n",
       "first_name                         object\n",
       "surname                            object\n",
       "gender                             object\n",
       "state                              object\n",
       "age                                 int64\n",
       "date_joined                        object\n",
       "number_of_dependents                int64\n",
       "marital_status                     object\n",
       "income                              int64\n",
       "_merge                           category\n",
       "dtype: object"
      ]
     },
     "execution_count": 116,
     "metadata": {},
     "output_type": "execute_result"
    }
   ],
   "source": [
    "custs_ords_prods_merged.dtypes"
   ]
  },
  {
   "cell_type": "code",
   "execution_count": 119,
   "id": "2b86a8f5-327c-4cc8-baeb-a70d70b70e65",
   "metadata": {},
   "outputs": [],
   "source": [
    "# Exporting dataframe\n",
    "\n",
    "custs_ords_prods_merged.to_pickle(os.path.join(path, '02 Data','Prepared Data', 'orders_products_customers_merged.pkl'))"
   ]
  }
 ],
 "metadata": {
  "kernelspec": {
   "display_name": "Python 3 (ipykernel)",
   "language": "python",
   "name": "python3"
  },
  "language_info": {
   "codemirror_mode": {
    "name": "ipython",
    "version": 3
   },
   "file_extension": ".py",
   "mimetype": "text/x-python",
   "name": "python",
   "nbconvert_exporter": "python",
   "pygments_lexer": "ipython3",
   "version": "3.12.4"
  }
 },
 "nbformat": 4,
 "nbformat_minor": 5
}
