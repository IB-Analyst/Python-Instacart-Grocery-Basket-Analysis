{
 "cells": [
  {
   "cell_type": "code",
   "execution_count": 1,
   "id": "3f77e3ff-4c5a-4eb7-bb76-25d309192c43",
   "metadata": {},
   "outputs": [],
   "source": [
    "# Importing libraries\n",
    "import pandas as pd\n",
    "import numpy as np\n",
    "import os\n",
    "import matplotlib.pyplot as plt\n",
    "import seaborn as sns\n",
    "import scipy"
   ]
  },
  {
   "cell_type": "code",
   "execution_count": 2,
   "id": "84289093-4114-45db-af68-c06171a94607",
   "metadata": {},
   "outputs": [],
   "source": [
    "path = r'C:\\Users\\iryna\\Documents\\01.07.2024 Instacart Basket Analysis'"
   ]
  },
  {
   "cell_type": "code",
   "execution_count": 3,
   "id": "d21259b3-cb2d-4ff4-9105-150269734fd1",
   "metadata": {},
   "outputs": [],
   "source": [
    "custs_ords_prods_merged = pd.read_pickle(os.path.join(path,'02 Data','Prepared Data', 'orders_products_customers_merged.pkl'))"
   ]
  },
  {
   "cell_type": "markdown",
   "id": "842767b5-067e-44bb-8025-c8dd3fd05dbc",
   "metadata": {},
   "source": [
    "### Consider any security implications that might exist and address any PII data in the data before continuing analysis."
   ]
  },
  {
   "cell_type": "code",
   "execution_count": 5,
   "id": "19ff8909-3183-4d3c-87ef-92176eed0887",
   "metadata": {},
   "outputs": [
    {
     "data": {
      "text/html": [
       "<div>\n",
       "<style scoped>\n",
       "    .dataframe tbody tr th:only-of-type {\n",
       "        vertical-align: middle;\n",
       "    }\n",
       "\n",
       "    .dataframe tbody tr th {\n",
       "        vertical-align: top;\n",
       "    }\n",
       "\n",
       "    .dataframe thead th {\n",
       "        text-align: right;\n",
       "    }\n",
       "</style>\n",
       "<table border=\"1\" class=\"dataframe\">\n",
       "  <thead>\n",
       "    <tr style=\"text-align: right;\">\n",
       "      <th></th>\n",
       "      <th>product_id</th>\n",
       "      <th>product_name</th>\n",
       "      <th>aisle_id</th>\n",
       "      <th>department_id</th>\n",
       "      <th>prices</th>\n",
       "      <th>order_id</th>\n",
       "      <th>user_id</th>\n",
       "      <th>order_number</th>\n",
       "      <th>order_dow</th>\n",
       "      <th>order_hour_of_day</th>\n",
       "      <th>...</th>\n",
       "      <th>first_name</th>\n",
       "      <th>surname</th>\n",
       "      <th>gender</th>\n",
       "      <th>state</th>\n",
       "      <th>age</th>\n",
       "      <th>date_joined</th>\n",
       "      <th>number_of_dependents</th>\n",
       "      <th>marital_status</th>\n",
       "      <th>income</th>\n",
       "      <th>_merge</th>\n",
       "    </tr>\n",
       "  </thead>\n",
       "  <tbody>\n",
       "    <tr>\n",
       "      <th>0</th>\n",
       "      <td>1</td>\n",
       "      <td>Chocolate Sandwich Cookies</td>\n",
       "      <td>61</td>\n",
       "      <td>19</td>\n",
       "      <td>5.8</td>\n",
       "      <td>3139998</td>\n",
       "      <td>138</td>\n",
       "      <td>28</td>\n",
       "      <td>6</td>\n",
       "      <td>11</td>\n",
       "      <td>...</td>\n",
       "      <td>Charles</td>\n",
       "      <td>Cox</td>\n",
       "      <td>Male</td>\n",
       "      <td>Minnesota</td>\n",
       "      <td>81</td>\n",
       "      <td>8/1/2019</td>\n",
       "      <td>1</td>\n",
       "      <td>married</td>\n",
       "      <td>49620</td>\n",
       "      <td>both</td>\n",
       "    </tr>\n",
       "    <tr>\n",
       "      <th>1</th>\n",
       "      <td>1</td>\n",
       "      <td>Chocolate Sandwich Cookies</td>\n",
       "      <td>61</td>\n",
       "      <td>19</td>\n",
       "      <td>5.8</td>\n",
       "      <td>1977647</td>\n",
       "      <td>138</td>\n",
       "      <td>30</td>\n",
       "      <td>6</td>\n",
       "      <td>17</td>\n",
       "      <td>...</td>\n",
       "      <td>Charles</td>\n",
       "      <td>Cox</td>\n",
       "      <td>Male</td>\n",
       "      <td>Minnesota</td>\n",
       "      <td>81</td>\n",
       "      <td>8/1/2019</td>\n",
       "      <td>1</td>\n",
       "      <td>married</td>\n",
       "      <td>49620</td>\n",
       "      <td>both</td>\n",
       "    </tr>\n",
       "    <tr>\n",
       "      <th>2</th>\n",
       "      <td>1</td>\n",
       "      <td>Chocolate Sandwich Cookies</td>\n",
       "      <td>61</td>\n",
       "      <td>19</td>\n",
       "      <td>5.8</td>\n",
       "      <td>389851</td>\n",
       "      <td>709</td>\n",
       "      <td>2</td>\n",
       "      <td>0</td>\n",
       "      <td>21</td>\n",
       "      <td>...</td>\n",
       "      <td>Deborah</td>\n",
       "      <td>Glass</td>\n",
       "      <td>Female</td>\n",
       "      <td>Vermont</td>\n",
       "      <td>66</td>\n",
       "      <td>6/16/2018</td>\n",
       "      <td>2</td>\n",
       "      <td>married</td>\n",
       "      <td>158302</td>\n",
       "      <td>both</td>\n",
       "    </tr>\n",
       "    <tr>\n",
       "      <th>3</th>\n",
       "      <td>1</td>\n",
       "      <td>Chocolate Sandwich Cookies</td>\n",
       "      <td>61</td>\n",
       "      <td>19</td>\n",
       "      <td>5.8</td>\n",
       "      <td>652770</td>\n",
       "      <td>764</td>\n",
       "      <td>1</td>\n",
       "      <td>3</td>\n",
       "      <td>13</td>\n",
       "      <td>...</td>\n",
       "      <td>Heather</td>\n",
       "      <td>Myers</td>\n",
       "      <td>Female</td>\n",
       "      <td>Wisconsin</td>\n",
       "      <td>40</td>\n",
       "      <td>2/9/2020</td>\n",
       "      <td>3</td>\n",
       "      <td>married</td>\n",
       "      <td>31308</td>\n",
       "      <td>both</td>\n",
       "    </tr>\n",
       "    <tr>\n",
       "      <th>4</th>\n",
       "      <td>1</td>\n",
       "      <td>Chocolate Sandwich Cookies</td>\n",
       "      <td>61</td>\n",
       "      <td>19</td>\n",
       "      <td>5.8</td>\n",
       "      <td>1813452</td>\n",
       "      <td>764</td>\n",
       "      <td>3</td>\n",
       "      <td>4</td>\n",
       "      <td>17</td>\n",
       "      <td>...</td>\n",
       "      <td>Heather</td>\n",
       "      <td>Myers</td>\n",
       "      <td>Female</td>\n",
       "      <td>Wisconsin</td>\n",
       "      <td>40</td>\n",
       "      <td>2/9/2020</td>\n",
       "      <td>3</td>\n",
       "      <td>married</td>\n",
       "      <td>31308</td>\n",
       "      <td>both</td>\n",
       "    </tr>\n",
       "  </tbody>\n",
       "</table>\n",
       "<p>5 rows × 32 columns</p>\n",
       "</div>"
      ],
      "text/plain": [
       "  product_id                product_name aisle_id department_id  prices  \\\n",
       "0          1  Chocolate Sandwich Cookies       61            19     5.8   \n",
       "1          1  Chocolate Sandwich Cookies       61            19     5.8   \n",
       "2          1  Chocolate Sandwich Cookies       61            19     5.8   \n",
       "3          1  Chocolate Sandwich Cookies       61            19     5.8   \n",
       "4          1  Chocolate Sandwich Cookies       61            19     5.8   \n",
       "\n",
       "  order_id user_id  order_number  order_dow  order_hour_of_day  ...  \\\n",
       "0  3139998     138            28          6                 11  ...   \n",
       "1  1977647     138            30          6                 17  ...   \n",
       "2   389851     709             2          0                 21  ...   \n",
       "3   652770     764             1          3                 13  ...   \n",
       "4  1813452     764             3          4                 17  ...   \n",
       "\n",
       "   first_name  surname  gender      state age date_joined  \\\n",
       "0     Charles      Cox    Male  Minnesota  81    8/1/2019   \n",
       "1     Charles      Cox    Male  Minnesota  81    8/1/2019   \n",
       "2     Deborah    Glass  Female    Vermont  66   6/16/2018   \n",
       "3     Heather    Myers  Female  Wisconsin  40    2/9/2020   \n",
       "4     Heather    Myers  Female  Wisconsin  40    2/9/2020   \n",
       "\n",
       "   number_of_dependents marital_status  income _merge  \n",
       "0                     1        married   49620   both  \n",
       "1                     1        married   49620   both  \n",
       "2                     2        married  158302   both  \n",
       "3                     3        married   31308   both  \n",
       "4                     3        married   31308   both  \n",
       "\n",
       "[5 rows x 32 columns]"
      ]
     },
     "execution_count": 5,
     "metadata": {},
     "output_type": "execute_result"
    }
   ],
   "source": [
    "custs_ords_prods_merged.head()"
   ]
  },
  {
   "cell_type": "code",
   "execution_count": 6,
   "id": "c21961ac-837e-4cf0-ade7-b46c6a2953b3",
   "metadata": {},
   "outputs": [],
   "source": [
    "# In accordance with data protection, the first and last name must be deleted.\n",
    "\n",
    "custs_ords_prods_merged = custs_ords_prods_merged.drop(columns = ['first_name','surname'])"
   ]
  },
  {
   "cell_type": "code",
   "execution_count": 7,
   "id": "1d584aa1-a774-4356-9c85-cfc2a0681d3f",
   "metadata": {},
   "outputs": [
    {
     "data": {
      "text/plain": [
       "Index(['product_id', 'product_name', 'aisle_id', 'department_id', 'prices',\n",
       "       'order_id', 'user_id', 'order_number', 'order_dow', 'order_hour_of_day',\n",
       "       'days_since_prior_order', 'add_to_cart_order', 'reordered',\n",
       "       'busiest_day', 'busiest_days', 'busiest_period_of_day', 'max_order',\n",
       "       'loyalty_flag', 'average_price', 'spending_flag',\n",
       "       'median_days_since_prior_order', 'frequency_flag', 'gender', 'state',\n",
       "       'age', 'date_joined', 'number_of_dependents', 'marital_status',\n",
       "       'income', '_merge'],\n",
       "      dtype='object')"
      ]
     },
     "execution_count": 7,
     "metadata": {},
     "output_type": "execute_result"
    }
   ],
   "source": [
    "custs_ords_prods_merged.columns "
   ]
  },
  {
   "cell_type": "markdown",
   "id": "f98f470c-12b2-46e1-b7a3-fe164de73395",
   "metadata": {},
   "source": [
    "### Comparing customer behavior in different geographic areas. Creating a regional segmentation of the data (a “Region” column based on the “State” column from customers data set)"
   ]
  },
  {
   "cell_type": "code",
   "execution_count": 9,
   "id": "196f2b83-1e63-4693-adb0-0950c691215c",
   "metadata": {},
   "outputs": [],
   "source": [
    "northeast_region = ['Connecticut', 'Maine', 'Massachusetts', 'New Hampshire', 'New Jersey', 'New York', 'Pennsylvania', 'Rhode Island', 'Vermont']"
   ]
  },
  {
   "cell_type": "code",
   "execution_count": 10,
   "id": "103e75bb-f5be-4b9e-a78f-925f3eae6af7",
   "metadata": {},
   "outputs": [],
   "source": [
    "midwest_region = ['Wisconsin', 'Michigan', 'Illinos', 'Indiana', 'Ohio', 'North Dakota', 'South Dakota', 'Nebraska', 'Kansas', 'Minnesota', 'Iowa', 'Missouri']"
   ]
  },
  {
   "cell_type": "code",
   "execution_count": 11,
   "id": "83b56ce7-47c2-4d73-a7c3-4940f10cd595",
   "metadata": {},
   "outputs": [],
   "source": [
    "south_region = ['Delaware', 'Maryland', 'District of Columbia', 'Virginia', 'West Virginia', 'North Carolina', 'South Carolina', 'Georgia', 'Florida', 'Kentucky', 'Tennessee', 'Mississippi', 'Alabama', 'Oklahoma', 'Texas', 'Arkansas', 'Louisiana']"
   ]
  },
  {
   "cell_type": "code",
   "execution_count": 12,
   "id": "2d5c5007-5ac2-467c-b636-dcaea5eb7173",
   "metadata": {},
   "outputs": [],
   "source": [
    "west_region = ['Idaho', 'Montana', 'Wyoming', 'Nevada', 'Utah', 'Colorado', 'Arizona', 'New Mexico', 'Alaska', 'Washington', 'Oregon', 'California', 'Hawaii']"
   ]
  },
  {
   "cell_type": "code",
   "execution_count": 13,
   "id": "90093c7a-199a-43fc-bd1a-53482b1f3c9c",
   "metadata": {},
   "outputs": [],
   "source": [
    "# Creating 'Region' columns based on the “State” column"
   ]
  },
  {
   "cell_type": "code",
   "execution_count": 14,
   "id": "bc81c073-e35b-42a2-bea2-7330d8a7ac15",
   "metadata": {},
   "outputs": [],
   "source": [
    "custs_ords_prods_merged.loc[custs_ords_prods_merged ['state'].isin(northeast_region), 'region'] = 'Northeast'"
   ]
  },
  {
   "cell_type": "code",
   "execution_count": 15,
   "id": "b4315fb0-736b-4b0c-b576-1f3b47717484",
   "metadata": {},
   "outputs": [],
   "source": [
    "custs_ords_prods_merged.loc[custs_ords_prods_merged['state'].isin(midwest_region), 'region'] = 'Midwest'"
   ]
  },
  {
   "cell_type": "code",
   "execution_count": 16,
   "id": "d15131ab-66e4-4c54-a37c-ce88de17037c",
   "metadata": {},
   "outputs": [],
   "source": [
    "custs_ords_prods_merged.loc[custs_ords_prods_merged['state'].isin(south_region), 'region'] = 'South'"
   ]
  },
  {
   "cell_type": "code",
   "execution_count": 17,
   "id": "230cd6e5-894b-4053-bccc-078832778359",
   "metadata": {},
   "outputs": [],
   "source": [
    "custs_ords_prods_merged.loc[custs_ords_prods_merged['state'].isin(west_region), 'region'] = 'West'"
   ]
  },
  {
   "cell_type": "code",
   "execution_count": 18,
   "id": "68eee44f-153f-40df-8fca-8075be0b0274",
   "metadata": {},
   "outputs": [
    {
     "data": {
      "text/plain": [
       "32404859"
      ]
     },
     "execution_count": 18,
     "metadata": {},
     "output_type": "execute_result"
    }
   ],
   "source": [
    "len(custs_ords_prods_merged['region'])"
   ]
  },
  {
   "cell_type": "code",
   "execution_count": 19,
   "id": "70d5df9e-4173-4deb-958e-0b1bb8d56f03",
   "metadata": {
    "scrolled": true
   },
   "outputs": [
    {
     "data": {
      "text/plain": [
       "region\n",
       "South        10791885\n",
       "West          8292913\n",
       "Midwest       6964301\n",
       "Northeast     5722736\n",
       "NaN            633024\n",
       "Name: count, dtype: int64"
      ]
     },
     "execution_count": 19,
     "metadata": {},
     "output_type": "execute_result"
    }
   ],
   "source": [
    "custs_ords_prods_merged['region'].value_counts(dropna = False)"
   ]
  },
  {
   "cell_type": "markdown",
   "id": "1a0de785-9ffc-45f3-bff2-55fb2f5fe347",
   "metadata": {},
   "source": [
    "#### A difference in spending habits between the different U.S. regions. (do this by crossing the variable you just created with the spending flag)."
   ]
  },
  {
   "cell_type": "code",
   "execution_count": 21,
   "id": "0a21b54a-9b5c-42e1-853a-427ce56e810e",
   "metadata": {},
   "outputs": [],
   "source": [
    "# Create a crosstab between 'region' and 'spending_flag'\n",
    "reg_spend_crosstab = pd.crosstab(custs_ords_prods_merged['region'], custs_ords_prods_merged['spending_flag'], dropna = False)"
   ]
  },
  {
   "cell_type": "code",
   "execution_count": 22,
   "id": "cc263b7d-6512-4865-b48b-089f1a7c6976",
   "metadata": {},
   "outputs": [],
   "source": [
    "reg_spend_crosstab.to_clipboard()"
   ]
  },
  {
   "cell_type": "code",
   "execution_count": 23,
   "id": "452d06d6-75fa-4a4e-9db1-39f207ef5d2f",
   "metadata": {},
   "outputs": [
    {
     "data": {
      "text/html": [
       "<div>\n",
       "<style scoped>\n",
       "    .dataframe tbody tr th:only-of-type {\n",
       "        vertical-align: middle;\n",
       "    }\n",
       "\n",
       "    .dataframe tbody tr th {\n",
       "        vertical-align: top;\n",
       "    }\n",
       "\n",
       "    .dataframe thead th {\n",
       "        text-align: right;\n",
       "    }\n",
       "</style>\n",
       "<table border=\"1\" class=\"dataframe\">\n",
       "  <thead>\n",
       "    <tr style=\"text-align: right;\">\n",
       "      <th>spending_flag</th>\n",
       "      <th>High spender</th>\n",
       "      <th>Low spender</th>\n",
       "    </tr>\n",
       "    <tr>\n",
       "      <th>region</th>\n",
       "      <th></th>\n",
       "      <th></th>\n",
       "    </tr>\n",
       "  </thead>\n",
       "  <tbody>\n",
       "    <tr>\n",
       "      <th>Midwest</th>\n",
       "      <td>145705</td>\n",
       "      <td>6818596</td>\n",
       "    </tr>\n",
       "    <tr>\n",
       "      <th>Northeast</th>\n",
       "      <td>108225</td>\n",
       "      <td>5614511</td>\n",
       "    </tr>\n",
       "    <tr>\n",
       "      <th>South</th>\n",
       "      <td>209691</td>\n",
       "      <td>10582194</td>\n",
       "    </tr>\n",
       "    <tr>\n",
       "      <th>West</th>\n",
       "      <td>160354</td>\n",
       "      <td>8132559</td>\n",
       "    </tr>\n",
       "    <tr>\n",
       "      <th>NaN</th>\n",
       "      <td>10270</td>\n",
       "      <td>622754</td>\n",
       "    </tr>\n",
       "  </tbody>\n",
       "</table>\n",
       "</div>"
      ],
      "text/plain": [
       "spending_flag  High spender  Low spender\n",
       "region                                  \n",
       "Midwest              145705      6818596\n",
       "Northeast            108225      5614511\n",
       "South                209691     10582194\n",
       "West                 160354      8132559\n",
       "NaN                   10270       622754"
      ]
     },
     "execution_count": 23,
     "metadata": {},
     "output_type": "execute_result"
    }
   ],
   "source": [
    "reg_spend_crosstab"
   ]
  },
  {
   "cell_type": "markdown",
   "id": "d430b3ac-2011-4038-b5ac-2bc34ea199ff",
   "metadata": {},
   "source": [
    "##### We can observe a difference in spending habits by region. Northeast has the lowest spending habits. The largest and almost 2 times exceeding the Northeast is the South region."
   ]
  },
  {
   "cell_type": "markdown",
   "id": "cd8bc7bd-4e38-4f4c-962c-84570a2f0107",
   "metadata": {
    "jp-MarkdownHeadingCollapsed": true
   },
   "source": [
    "### Create an exclusion flag for low-activity customers (customers with less than 5 orders) and exclude them from the data. Make sure you export this sample."
   ]
  },
  {
   "cell_type": "code",
   "execution_count": 26,
   "id": "643d7e24-d819-47e4-ba8b-c74a5da6eaae",
   "metadata": {},
   "outputs": [],
   "source": [
    "# Excluding customers with max_order less than 5 \n",
    "\n",
    "custs_ords_prods_merged.loc[custs_ords_prods_merged['max_order'] < 5, 'exclusion_flag'] = 'Exclude'\n",
    "custs_ords_prods_merged.loc[custs_ords_prods_merged['max_order'] >= 5, 'exclusion_flag'] = 'Keep'"
   ]
  },
  {
   "cell_type": "code",
   "execution_count": 27,
   "id": "a1b90729-2b49-4450-bb58-1a70ad348093",
   "metadata": {},
   "outputs": [
    {
     "data": {
      "text/html": [
       "<div>\n",
       "<style scoped>\n",
       "    .dataframe tbody tr th:only-of-type {\n",
       "        vertical-align: middle;\n",
       "    }\n",
       "\n",
       "    .dataframe tbody tr th {\n",
       "        vertical-align: top;\n",
       "    }\n",
       "\n",
       "    .dataframe thead th {\n",
       "        text-align: right;\n",
       "    }\n",
       "</style>\n",
       "<table border=\"1\" class=\"dataframe\">\n",
       "  <thead>\n",
       "    <tr style=\"text-align: right;\">\n",
       "      <th></th>\n",
       "      <th>product_id</th>\n",
       "      <th>product_name</th>\n",
       "      <th>aisle_id</th>\n",
       "      <th>department_id</th>\n",
       "      <th>prices</th>\n",
       "      <th>order_id</th>\n",
       "      <th>user_id</th>\n",
       "      <th>order_number</th>\n",
       "      <th>order_dow</th>\n",
       "      <th>order_hour_of_day</th>\n",
       "      <th>...</th>\n",
       "      <th>gender</th>\n",
       "      <th>state</th>\n",
       "      <th>age</th>\n",
       "      <th>date_joined</th>\n",
       "      <th>number_of_dependents</th>\n",
       "      <th>marital_status</th>\n",
       "      <th>income</th>\n",
       "      <th>_merge</th>\n",
       "      <th>region</th>\n",
       "      <th>exclusion_flag</th>\n",
       "    </tr>\n",
       "  </thead>\n",
       "  <tbody>\n",
       "    <tr>\n",
       "      <th>0</th>\n",
       "      <td>1</td>\n",
       "      <td>Chocolate Sandwich Cookies</td>\n",
       "      <td>61</td>\n",
       "      <td>19</td>\n",
       "      <td>5.8</td>\n",
       "      <td>3139998</td>\n",
       "      <td>138</td>\n",
       "      <td>28</td>\n",
       "      <td>6</td>\n",
       "      <td>11</td>\n",
       "      <td>...</td>\n",
       "      <td>Male</td>\n",
       "      <td>Minnesota</td>\n",
       "      <td>81</td>\n",
       "      <td>8/1/2019</td>\n",
       "      <td>1</td>\n",
       "      <td>married</td>\n",
       "      <td>49620</td>\n",
       "      <td>both</td>\n",
       "      <td>Midwest</td>\n",
       "      <td>Keep</td>\n",
       "    </tr>\n",
       "    <tr>\n",
       "      <th>1</th>\n",
       "      <td>1</td>\n",
       "      <td>Chocolate Sandwich Cookies</td>\n",
       "      <td>61</td>\n",
       "      <td>19</td>\n",
       "      <td>5.8</td>\n",
       "      <td>1977647</td>\n",
       "      <td>138</td>\n",
       "      <td>30</td>\n",
       "      <td>6</td>\n",
       "      <td>17</td>\n",
       "      <td>...</td>\n",
       "      <td>Male</td>\n",
       "      <td>Minnesota</td>\n",
       "      <td>81</td>\n",
       "      <td>8/1/2019</td>\n",
       "      <td>1</td>\n",
       "      <td>married</td>\n",
       "      <td>49620</td>\n",
       "      <td>both</td>\n",
       "      <td>Midwest</td>\n",
       "      <td>Keep</td>\n",
       "    </tr>\n",
       "    <tr>\n",
       "      <th>2</th>\n",
       "      <td>1</td>\n",
       "      <td>Chocolate Sandwich Cookies</td>\n",
       "      <td>61</td>\n",
       "      <td>19</td>\n",
       "      <td>5.8</td>\n",
       "      <td>389851</td>\n",
       "      <td>709</td>\n",
       "      <td>2</td>\n",
       "      <td>0</td>\n",
       "      <td>21</td>\n",
       "      <td>...</td>\n",
       "      <td>Female</td>\n",
       "      <td>Vermont</td>\n",
       "      <td>66</td>\n",
       "      <td>6/16/2018</td>\n",
       "      <td>2</td>\n",
       "      <td>married</td>\n",
       "      <td>158302</td>\n",
       "      <td>both</td>\n",
       "      <td>Northeast</td>\n",
       "      <td>Keep</td>\n",
       "    </tr>\n",
       "    <tr>\n",
       "      <th>3</th>\n",
       "      <td>1</td>\n",
       "      <td>Chocolate Sandwich Cookies</td>\n",
       "      <td>61</td>\n",
       "      <td>19</td>\n",
       "      <td>5.8</td>\n",
       "      <td>652770</td>\n",
       "      <td>764</td>\n",
       "      <td>1</td>\n",
       "      <td>3</td>\n",
       "      <td>13</td>\n",
       "      <td>...</td>\n",
       "      <td>Female</td>\n",
       "      <td>Wisconsin</td>\n",
       "      <td>40</td>\n",
       "      <td>2/9/2020</td>\n",
       "      <td>3</td>\n",
       "      <td>married</td>\n",
       "      <td>31308</td>\n",
       "      <td>both</td>\n",
       "      <td>Midwest</td>\n",
       "      <td>Exclude</td>\n",
       "    </tr>\n",
       "    <tr>\n",
       "      <th>4</th>\n",
       "      <td>1</td>\n",
       "      <td>Chocolate Sandwich Cookies</td>\n",
       "      <td>61</td>\n",
       "      <td>19</td>\n",
       "      <td>5.8</td>\n",
       "      <td>1813452</td>\n",
       "      <td>764</td>\n",
       "      <td>3</td>\n",
       "      <td>4</td>\n",
       "      <td>17</td>\n",
       "      <td>...</td>\n",
       "      <td>Female</td>\n",
       "      <td>Wisconsin</td>\n",
       "      <td>40</td>\n",
       "      <td>2/9/2020</td>\n",
       "      <td>3</td>\n",
       "      <td>married</td>\n",
       "      <td>31308</td>\n",
       "      <td>both</td>\n",
       "      <td>Midwest</td>\n",
       "      <td>Exclude</td>\n",
       "    </tr>\n",
       "  </tbody>\n",
       "</table>\n",
       "<p>5 rows × 32 columns</p>\n",
       "</div>"
      ],
      "text/plain": [
       "  product_id                product_name aisle_id department_id  prices  \\\n",
       "0          1  Chocolate Sandwich Cookies       61            19     5.8   \n",
       "1          1  Chocolate Sandwich Cookies       61            19     5.8   \n",
       "2          1  Chocolate Sandwich Cookies       61            19     5.8   \n",
       "3          1  Chocolate Sandwich Cookies       61            19     5.8   \n",
       "4          1  Chocolate Sandwich Cookies       61            19     5.8   \n",
       "\n",
       "  order_id user_id  order_number  order_dow  order_hour_of_day  ...  gender  \\\n",
       "0  3139998     138            28          6                 11  ...    Male   \n",
       "1  1977647     138            30          6                 17  ...    Male   \n",
       "2   389851     709             2          0                 21  ...  Female   \n",
       "3   652770     764             1          3                 13  ...  Female   \n",
       "4  1813452     764             3          4                 17  ...  Female   \n",
       "\n",
       "       state  age date_joined number_of_dependents marital_status  income  \\\n",
       "0  Minnesota   81    8/1/2019                    1        married   49620   \n",
       "1  Minnesota   81    8/1/2019                    1        married   49620   \n",
       "2    Vermont   66   6/16/2018                    2        married  158302   \n",
       "3  Wisconsin   40    2/9/2020                    3        married   31308   \n",
       "4  Wisconsin   40    2/9/2020                    3        married   31308   \n",
       "\n",
       "  _merge     region exclusion_flag  \n",
       "0   both    Midwest           Keep  \n",
       "1   both    Midwest           Keep  \n",
       "2   both  Northeast           Keep  \n",
       "3   both    Midwest        Exclude  \n",
       "4   both    Midwest        Exclude  \n",
       "\n",
       "[5 rows x 32 columns]"
      ]
     },
     "execution_count": 27,
     "metadata": {},
     "output_type": "execute_result"
    }
   ],
   "source": [
    "custs_ords_prods_merged.head()"
   ]
  },
  {
   "cell_type": "code",
   "execution_count": 28,
   "id": "c16b5bc9-fc02-4de1-ba9a-fe2a95429ff7",
   "metadata": {},
   "outputs": [
    {
     "data": {
      "text/plain": [
       "exclusion_flag\n",
       "Keep       30964564\n",
       "Exclude     1440295\n",
       "Name: count, dtype: int64"
      ]
     },
     "execution_count": 28,
     "metadata": {},
     "output_type": "execute_result"
    }
   ],
   "source": [
    "custs_ords_prods_merged['exclusion_flag'].value_counts(dropna = False)"
   ]
  },
  {
   "cell_type": "code",
   "execution_count": 29,
   "id": "345cf31d-c360-48cf-8a85-299f82e995e7",
   "metadata": {},
   "outputs": [],
   "source": [
    "exclusion_flag_crosstab = pd.crosstab(custs_ords_prods_merged['exclusion_flag'], custs_ords_prods_merged['max_order'], dropna = False)"
   ]
  },
  {
   "cell_type": "code",
   "execution_count": 30,
   "id": "883efe36-0fb8-4ade-bdbd-ae8806435923",
   "metadata": {},
   "outputs": [
    {
     "data": {
      "text/html": [
       "<div>\n",
       "<style scoped>\n",
       "    .dataframe tbody tr th:only-of-type {\n",
       "        vertical-align: middle;\n",
       "    }\n",
       "\n",
       "    .dataframe tbody tr th {\n",
       "        vertical-align: top;\n",
       "    }\n",
       "\n",
       "    .dataframe thead th {\n",
       "        text-align: right;\n",
       "    }\n",
       "</style>\n",
       "<table border=\"1\" class=\"dataframe\">\n",
       "  <thead>\n",
       "    <tr style=\"text-align: right;\">\n",
       "      <th>max_order</th>\n",
       "      <th>1</th>\n",
       "      <th>2</th>\n",
       "      <th>3</th>\n",
       "      <th>4</th>\n",
       "      <th>5</th>\n",
       "      <th>6</th>\n",
       "      <th>7</th>\n",
       "      <th>8</th>\n",
       "      <th>9</th>\n",
       "      <th>10</th>\n",
       "      <th>...</th>\n",
       "      <th>90</th>\n",
       "      <th>91</th>\n",
       "      <th>92</th>\n",
       "      <th>93</th>\n",
       "      <th>94</th>\n",
       "      <th>95</th>\n",
       "      <th>96</th>\n",
       "      <th>97</th>\n",
       "      <th>98</th>\n",
       "      <th>99</th>\n",
       "    </tr>\n",
       "    <tr>\n",
       "      <th>exclusion_flag</th>\n",
       "      <th></th>\n",
       "      <th></th>\n",
       "      <th></th>\n",
       "      <th></th>\n",
       "      <th></th>\n",
       "      <th></th>\n",
       "      <th></th>\n",
       "      <th></th>\n",
       "      <th></th>\n",
       "      <th></th>\n",
       "      <th></th>\n",
       "      <th></th>\n",
       "      <th></th>\n",
       "      <th></th>\n",
       "      <th></th>\n",
       "      <th></th>\n",
       "      <th></th>\n",
       "      <th></th>\n",
       "      <th></th>\n",
       "      <th></th>\n",
       "      <th></th>\n",
       "    </tr>\n",
       "  </thead>\n",
       "  <tbody>\n",
       "    <tr>\n",
       "      <th>Exclude</th>\n",
       "      <td>5</td>\n",
       "      <td>6</td>\n",
       "      <td>686741</td>\n",
       "      <td>753543</td>\n",
       "      <td>0</td>\n",
       "      <td>0</td>\n",
       "      <td>0</td>\n",
       "      <td>0</td>\n",
       "      <td>0</td>\n",
       "      <td>0</td>\n",
       "      <td>...</td>\n",
       "      <td>0</td>\n",
       "      <td>0</td>\n",
       "      <td>0</td>\n",
       "      <td>0</td>\n",
       "      <td>0</td>\n",
       "      <td>0</td>\n",
       "      <td>0</td>\n",
       "      <td>0</td>\n",
       "      <td>0</td>\n",
       "      <td>0</td>\n",
       "    </tr>\n",
       "    <tr>\n",
       "      <th>Keep</th>\n",
       "      <td>0</td>\n",
       "      <td>0</td>\n",
       "      <td>0</td>\n",
       "      <td>0</td>\n",
       "      <td>793140</td>\n",
       "      <td>811396</td>\n",
       "      <td>803979</td>\n",
       "      <td>811843</td>\n",
       "      <td>810213</td>\n",
       "      <td>773124</td>\n",
       "      <td>...</td>\n",
       "      <td>48328</td>\n",
       "      <td>59378</td>\n",
       "      <td>55127</td>\n",
       "      <td>50333</td>\n",
       "      <td>52600</td>\n",
       "      <td>59877</td>\n",
       "      <td>40453</td>\n",
       "      <td>44949</td>\n",
       "      <td>44587</td>\n",
       "      <td>1171333</td>\n",
       "    </tr>\n",
       "  </tbody>\n",
       "</table>\n",
       "<p>2 rows × 99 columns</p>\n",
       "</div>"
      ],
      "text/plain": [
       "max_order       1   2       3       4       5       6       7       8   \\\n",
       "exclusion_flag                                                           \n",
       "Exclude          5   6  686741  753543       0       0       0       0   \n",
       "Keep             0   0       0       0  793140  811396  803979  811843   \n",
       "\n",
       "max_order           9       10  ...     90     91     92     93     94     95  \\\n",
       "exclusion_flag                  ...                                             \n",
       "Exclude              0       0  ...      0      0      0      0      0      0   \n",
       "Keep            810213  773124  ...  48328  59378  55127  50333  52600  59877   \n",
       "\n",
       "max_order          96     97     98       99  \n",
       "exclusion_flag                                \n",
       "Exclude             0      0      0        0  \n",
       "Keep            40453  44949  44587  1171333  \n",
       "\n",
       "[2 rows x 99 columns]"
      ]
     },
     "execution_count": 30,
     "metadata": {},
     "output_type": "execute_result"
    }
   ],
   "source": [
    "exclusion_flag_crosstab"
   ]
  },
  {
   "cell_type": "code",
   "execution_count": 31,
   "id": "ee40cef2-13d1-42f5-9c7f-b7e1a21f8da5",
   "metadata": {},
   "outputs": [],
   "source": [
    "exclusion_flag_crosstab.to_clipboard()"
   ]
  },
  {
   "cell_type": "code",
   "execution_count": 32,
   "id": "f02a8490-90d5-4c10-bd06-abf65b0311c0",
   "metadata": {},
   "outputs": [],
   "source": [
    "# Creating sample with 'Keep' rows \n",
    "\n",
    "Active_cust_sample = custs_ords_prods_merged[custs_ords_prods_merged['exclusion_flag'] == 'Keep']"
   ]
  },
  {
   "cell_type": "code",
   "execution_count": 33,
   "id": "e5f4b81b-c868-404d-9553-c763895a209a",
   "metadata": {},
   "outputs": [
    {
     "data": {
      "text/plain": [
       "(30964564, 32)"
      ]
     },
     "execution_count": 33,
     "metadata": {},
     "output_type": "execute_result"
    }
   ],
   "source": [
    "Active_cust_sample.shape"
   ]
  },
  {
   "cell_type": "code",
   "execution_count": 34,
   "id": "c9553ba5-7fe5-44bf-ad12-8154dc07bbcc",
   "metadata": {},
   "outputs": [],
   "source": [
    "# Exporting sample\n",
    "\n",
    "Active_cust_sample.to_pickle(os.path.join(path, '02 Data', 'Prepared Data', 'active_cust_sample.pkl'))"
   ]
  },
  {
   "cell_type": "markdown",
   "id": "e4803832-b4bc-4237-93f0-fec98cca862a",
   "metadata": {},
   "source": [
    "### Create a profiling variable based on age, income, certain goods in the “department_id” column, and number of dependents. You might also use the “orders_day_of_week” and “order_hour_of_day” columns if you can think of a way they would impact customer profiles. (Hint: As an example, try thinking of what characteristics would lead you to the profile “Single adult” or “Young parent.”)"
   ]
  },
  {
   "cell_type": "code",
   "execution_count": 36,
   "id": "3c0ccb6e-e4df-46fa-9943-9983cdf4736c",
   "metadata": {},
   "outputs": [],
   "source": [
    "# Creating age profiling variable\n",
    "# Young adult =< 25,  Adult 25-44, Older Adult 45-64, Elder 65+"
   ]
  },
  {
   "cell_type": "code",
   "execution_count": 37,
   "id": "401351af-69ac-4e9f-8b87-8811b48c6867",
   "metadata": {},
   "outputs": [],
   "source": [
    "custs_ords_prods_merged.loc[custs_ords_prods_merged['age']<=25, 'age_group']= 'Young adult'"
   ]
  },
  {
   "cell_type": "code",
   "execution_count": 38,
   "id": "66d84d23-f158-4f5b-8cb1-6596da2b47f0",
   "metadata": {},
   "outputs": [],
   "source": [
    "custs_ords_prods_merged.loc[(custs_ords_prods_merged['age'] >25) & (custs_ords_prods_merged['age'] <45), 'age_group']= 'Adult'"
   ]
  },
  {
   "cell_type": "code",
   "execution_count": 39,
   "id": "007dc802-bc7b-45c6-bbc5-43399967124c",
   "metadata": {},
   "outputs": [],
   "source": [
    "custs_ords_prods_merged.loc[(custs_ords_prods_merged['age']>=45) & (custs_ords_prods_merged['age']<= 64), 'age_group']= 'Older Adult'\n"
   ]
  },
  {
   "cell_type": "code",
   "execution_count": 40,
   "id": "c37ef8a2-e6f2-4a10-8089-acb0fe3c79da",
   "metadata": {},
   "outputs": [],
   "source": [
    "custs_ords_prods_merged.loc[custs_ords_prods_merged['age'] >=65, 'age_group']= 'Elder'"
   ]
  },
  {
   "cell_type": "code",
   "execution_count": 41,
   "id": "9911381f-2ab8-493c-9fc0-f050229896e1",
   "metadata": {},
   "outputs": [
    {
     "data": {
      "text/plain": [
       "age_group\n",
       "Older Adult    10139691\n",
       "Adult           9644895\n",
       "Elder           8575084\n",
       "Young adult     4045189\n",
       "Name: count, dtype: int64"
      ]
     },
     "execution_count": 41,
     "metadata": {},
     "output_type": "execute_result"
    }
   ],
   "source": [
    "custs_ords_prods_merged['age_group'].value_counts(dropna = False)"
   ]
  },
  {
   "cell_type": "code",
   "execution_count": 42,
   "id": "0cdaddbc-4be3-40aa-a42e-a652d31e9bd0",
   "metadata": {},
   "outputs": [
    {
     "data": {
      "image/png": "[encoded data removed]",
      "text/plain": [
       "<Figure size 640x480 with 1 Axes>"
      ]
     },
     "metadata": {},
     "output_type": "display_data"
    }
   ],
   "source": [
    "# Age profile visualization\n",
    "\n",
    "bar = custs_ords_prods_merged['age_group'].value_counts().plot.bar(color =['green', 'blue', 'grey','orange'])"
   ]
  },
  {
   "cell_type": "code",
   "execution_count": 43,
   "id": "70f0c7e1-74c4-482b-b58b-718a597fc10b",
   "metadata": {},
   "outputs": [],
   "source": [
    "bar.figure.savefig(os.path.join (path, '04 Analysis','Visualizations', 'bar_agegroup_4.10.png'))"
   ]
  },
  {
   "cell_type": "code",
   "execution_count": 44,
   "id": "5945a211-2092-4eaf-8cf4-907db77b35e5",
   "metadata": {},
   "outputs": [],
   "source": [
    "# Creating income profiling variable (income categories: low, middle, & high income groups)"
   ]
  },
  {
   "cell_type": "code",
   "execution_count": 45,
   "id": "6c660b74-9396-4b4f-9d61-25b90e011721",
   "metadata": {},
   "outputs": [],
   "source": [
    "custs_ords_prods_merged.loc[custs_ords_prods_merged['income'] <= 50000, 'income_group'] = 'Low'"
   ]
  },
  {
   "cell_type": "code",
   "execution_count": 46,
   "id": "c4e55582-d474-4767-8369-139c6c586444",
   "metadata": {},
   "outputs": [],
   "source": [
    "custs_ords_prods_merged.loc[(custs_ords_prods_merged['income'] > 50000) & (custs_ords_prods_merged['income'] <= 100000), 'income_group'] = 'Middle'\n"
   ]
  },
  {
   "cell_type": "code",
   "execution_count": 47,
   "id": "1366b9ef-97d9-4ea6-b226-eaa406e9156a",
   "metadata": {},
   "outputs": [],
   "source": [
    "custs_ords_prods_merged.loc[custs_ords_prods_merged['income'] > 100000, 'income_group'] = 'High'"
   ]
  },
  {
   "cell_type": "code",
   "execution_count": 48,
   "id": "4cd503bb-29c0-420c-a98c-7f5219322bc5",
   "metadata": {},
   "outputs": [
    {
     "data": {
      "text/plain": [
       "income_group\n",
       "High      14814202\n",
       "Middle    13996574\n",
       "Low        3594083\n",
       "Name: count, dtype: int64"
      ]
     },
     "execution_count": 48,
     "metadata": {},
     "output_type": "execute_result"
    }
   ],
   "source": [
    "# Checking frequency of income_group \n",
    "\n",
    "custs_ords_prods_merged['income_group'].value_counts(dropna = False) "
   ]
  },
  {
   "cell_type": "code",
   "execution_count": 49,
   "id": "79fcfc38-4a78-47b6-b816-c0d883015293",
   "metadata": {},
   "outputs": [
    {
     "data": {
      "image/png": "[encoded data removed]",
      "text/plain": [
       "<Figure size 640x480 with 1 Axes>"
      ]
     },
     "metadata": {},
     "output_type": "display_data"
    }
   ],
   "source": [
    "# Income profile visualization\n",
    "\n",
    "bar2 = custs_ords_prods_merged['income_group'].value_counts().sort_values().plot.bar(color =['pink', 'red', 'brown'])"
   ]
  },
  {
   "cell_type": "code",
   "execution_count": 50,
   "id": "0b0fa1e4-7782-4c52-b5bd-015a595fd2b8",
   "metadata": {},
   "outputs": [],
   "source": [
    "# Importing chart\n",
    "\n",
    "bar2.figure.savefig(os.path.join (path, '04 Analysis','Visualizations', 'bar_income_group_4.10.png'))"
   ]
  },
  {
   "cell_type": "code",
   "execution_count": 51,
   "id": "21b22a99-b27f-4700-a080-c1871e9f1b48",
   "metadata": {},
   "outputs": [],
   "source": [
    "# Creating number of dependents profiling variable (customers with dependents - 'Has dependents' and customers without dependents 'No dependents')"
   ]
  },
  {
   "cell_type": "code",
   "execution_count": 52,
   "id": "ebc382d4-3a8e-49b8-b487-4c5b90663788",
   "metadata": {},
   "outputs": [],
   "source": [
    "custs_ords_prods_merged.loc[custs_ords_prods_merged['number_of_dependents'] > 0, 'dependents_flag'] = 'Has dependents'"
   ]
  },
  {
   "cell_type": "code",
   "execution_count": 53,
   "id": "773b9e76-68c9-484d-9525-772c4ed4a14c",
   "metadata": {},
   "outputs": [],
   "source": [
    "custs_ords_prods_merged.loc[custs_ords_prods_merged['number_of_dependents'] == 0, 'dependents_flag'] = 'No dependents'"
   ]
  },
  {
   "cell_type": "code",
   "execution_count": 54,
   "id": "d58cc2ed-e0aa-449f-8964-0bd5608d7661",
   "metadata": {},
   "outputs": [
    {
     "data": {
      "text/plain": [
       "dependents_flag\n",
       "Has dependents    24307356\n",
       "No dependents      8097503\n",
       "Name: count, dtype: int64"
      ]
     },
     "execution_count": 54,
     "metadata": {},
     "output_type": "execute_result"
    }
   ],
   "source": [
    "custs_ords_prods_merged['dependents_flag'].value_counts(dropna = False)"
   ]
  },
  {
   "cell_type": "code",
   "execution_count": 55,
   "id": "b20fad55-a468-45ad-8889-719d62653888",
   "metadata": {},
   "outputs": [
    {
     "data": {
      "image/png": "[encoded data removed]",
      "text/plain": [
       "<Figure size 640x480 with 1 Axes>"
      ]
     },
     "metadata": {},
     "output_type": "display_data"
    }
   ],
   "source": [
    "# Number of dependents profile visualization\n",
    "\n",
    "bar3 = custs_ords_prods_merged['dependents_flag'].value_counts().sort_values().plot.barh(color =['yellow', 'purple'])"
   ]
  },
  {
   "cell_type": "code",
   "execution_count": 137,
   "id": "152880b8-a26c-4e8a-a7fc-21c8a779d1de",
   "metadata": {},
   "outputs": [],
   "source": [
    "# Importing chart\n",
    "\n",
    "bar3.figure.savefig(os.path.join (path, '04 Analysis','Visualizations', 'bar_dependents_flag_4.10.png'))"
   ]
  },
  {
   "cell_type": "markdown",
   "id": "f76a5356-ca30-4a4c-83ba-f2c9ae6b4943",
   "metadata": {},
   "source": [
    "### Aggregate the max, mean, and min variables on a customer-profile level for usage frequency and expenditure."
   ]
  },
  {
   "cell_type": "code",
   "execution_count": 57,
   "id": "0f37ab18-77bf-459c-b64c-8a1c00e5517c",
   "metadata": {},
   "outputs": [
    {
     "data": {
      "text/html": [
       "<div>\n",
       "<style scoped>\n",
       "    .dataframe tbody tr th:only-of-type {\n",
       "        vertical-align: middle;\n",
       "    }\n",
       "\n",
       "    .dataframe tbody tr th {\n",
       "        vertical-align: top;\n",
       "    }\n",
       "\n",
       "    .dataframe thead tr th {\n",
       "        text-align: left;\n",
       "    }\n",
       "\n",
       "    .dataframe thead tr:last-of-type th {\n",
       "        text-align: right;\n",
       "    }\n",
       "</style>\n",
       "<table border=\"1\" class=\"dataframe\">\n",
       "  <thead>\n",
       "    <tr>\n",
       "      <th></th>\n",
       "      <th colspan=\"3\" halign=\"left\">days_since_prior_order</th>\n",
       "    </tr>\n",
       "    <tr>\n",
       "      <th></th>\n",
       "      <th>mean</th>\n",
       "      <th>min</th>\n",
       "      <th>max</th>\n",
       "    </tr>\n",
       "    <tr>\n",
       "      <th>age_group</th>\n",
       "      <th></th>\n",
       "      <th></th>\n",
       "      <th></th>\n",
       "    </tr>\n",
       "  </thead>\n",
       "  <tbody>\n",
       "    <tr>\n",
       "      <th>Adult</th>\n",
       "      <td>10.850664</td>\n",
       "      <td>0.0</td>\n",
       "      <td>30.0</td>\n",
       "    </tr>\n",
       "    <tr>\n",
       "      <th>Elder</th>\n",
       "      <td>10.816974</td>\n",
       "      <td>0.0</td>\n",
       "      <td>30.0</td>\n",
       "    </tr>\n",
       "    <tr>\n",
       "      <th>Older Adult</th>\n",
       "      <td>10.856949</td>\n",
       "      <td>0.0</td>\n",
       "      <td>30.0</td>\n",
       "    </tr>\n",
       "    <tr>\n",
       "      <th>Young adult</th>\n",
       "      <td>10.830048</td>\n",
       "      <td>0.0</td>\n",
       "      <td>30.0</td>\n",
       "    </tr>\n",
       "  </tbody>\n",
       "</table>\n",
       "</div>"
      ],
      "text/plain": [
       "            days_since_prior_order           \n",
       "                              mean  min   max\n",
       "age_group                                    \n",
       "Adult                    10.850664  0.0  30.0\n",
       "Elder                    10.816974  0.0  30.0\n",
       "Older Adult              10.856949  0.0  30.0\n",
       "Young adult              10.830048  0.0  30.0"
      ]
     },
     "execution_count": 57,
     "metadata": {},
     "output_type": "execute_result"
    }
   ],
   "source": [
    "# Aggregate for age group order frequency\n",
    "custs_ords_prods_merged.groupby('age_group').agg({'days_since_prior_order': ['mean', 'min', 'max']})"
   ]
  },
  {
   "cell_type": "code",
   "execution_count": 58,
   "id": "87e6b7db-b190-42fa-9e1d-d9263a730c3a",
   "metadata": {},
   "outputs": [
    {
     "data": {
      "text/html": [
       "<div>\n",
       "<style scoped>\n",
       "    .dataframe tbody tr th:only-of-type {\n",
       "        vertical-align: middle;\n",
       "    }\n",
       "\n",
       "    .dataframe tbody tr th {\n",
       "        vertical-align: top;\n",
       "    }\n",
       "\n",
       "    .dataframe thead tr th {\n",
       "        text-align: left;\n",
       "    }\n",
       "\n",
       "    .dataframe thead tr:last-of-type th {\n",
       "        text-align: right;\n",
       "    }\n",
       "</style>\n",
       "<table border=\"1\" class=\"dataframe\">\n",
       "  <thead>\n",
       "    <tr>\n",
       "      <th></th>\n",
       "      <th colspan=\"3\" halign=\"left\">prices</th>\n",
       "    </tr>\n",
       "    <tr>\n",
       "      <th></th>\n",
       "      <th>mean</th>\n",
       "      <th>min</th>\n",
       "      <th>max</th>\n",
       "    </tr>\n",
       "    <tr>\n",
       "      <th>age_group</th>\n",
       "      <th></th>\n",
       "      <th></th>\n",
       "      <th></th>\n",
       "    </tr>\n",
       "  </thead>\n",
       "  <tbody>\n",
       "    <tr>\n",
       "      <th>Adult</th>\n",
       "      <td>11.849466</td>\n",
       "      <td>1.0</td>\n",
       "      <td>99999.0</td>\n",
       "    </tr>\n",
       "    <tr>\n",
       "      <th>Elder</th>\n",
       "      <td>11.768850</td>\n",
       "      <td>1.0</td>\n",
       "      <td>99999.0</td>\n",
       "    </tr>\n",
       "    <tr>\n",
       "      <th>Older Adult</th>\n",
       "      <td>12.205612</td>\n",
       "      <td>1.0</td>\n",
       "      <td>99999.0</td>\n",
       "    </tr>\n",
       "    <tr>\n",
       "      <th>Young adult</th>\n",
       "      <td>12.175118</td>\n",
       "      <td>1.0</td>\n",
       "      <td>99999.0</td>\n",
       "    </tr>\n",
       "  </tbody>\n",
       "</table>\n",
       "</div>"
      ],
      "text/plain": [
       "                prices              \n",
       "                  mean  min      max\n",
       "age_group                           \n",
       "Adult        11.849466  1.0  99999.0\n",
       "Elder        11.768850  1.0  99999.0\n",
       "Older Adult  12.205612  1.0  99999.0\n",
       "Young adult  12.175118  1.0  99999.0"
      ]
     },
     "execution_count": 58,
     "metadata": {},
     "output_type": "execute_result"
    }
   ],
   "source": [
    "# Aggregate for age group expenditure\n",
    "custs_ords_prods_merged.groupby('age_group').agg({'prices': ['mean', 'min', 'max']})"
   ]
  },
  {
   "cell_type": "code",
   "execution_count": 59,
   "id": "ab21b5b1-bed0-4abd-9263-47b0782e9121",
   "metadata": {},
   "outputs": [
    {
     "data": {
      "text/html": [
       "<div>\n",
       "<style scoped>\n",
       "    .dataframe tbody tr th:only-of-type {\n",
       "        vertical-align: middle;\n",
       "    }\n",
       "\n",
       "    .dataframe tbody tr th {\n",
       "        vertical-align: top;\n",
       "    }\n",
       "\n",
       "    .dataframe thead tr th {\n",
       "        text-align: left;\n",
       "    }\n",
       "\n",
       "    .dataframe thead tr:last-of-type th {\n",
       "        text-align: right;\n",
       "    }\n",
       "</style>\n",
       "<table border=\"1\" class=\"dataframe\">\n",
       "  <thead>\n",
       "    <tr>\n",
       "      <th></th>\n",
       "      <th colspan=\"3\" halign=\"left\">days_since_prior_order</th>\n",
       "    </tr>\n",
       "    <tr>\n",
       "      <th></th>\n",
       "      <th>mean</th>\n",
       "      <th>min</th>\n",
       "      <th>max</th>\n",
       "    </tr>\n",
       "    <tr>\n",
       "      <th>income_group</th>\n",
       "      <th></th>\n",
       "      <th></th>\n",
       "      <th></th>\n",
       "    </tr>\n",
       "  </thead>\n",
       "  <tbody>\n",
       "    <tr>\n",
       "      <th>High</th>\n",
       "      <td>10.786132</td>\n",
       "      <td>0.0</td>\n",
       "      <td>30.0</td>\n",
       "    </tr>\n",
       "    <tr>\n",
       "      <th>Low</th>\n",
       "      <td>11.252457</td>\n",
       "      <td>0.0</td>\n",
       "      <td>30.0</td>\n",
       "    </tr>\n",
       "    <tr>\n",
       "      <th>Middle</th>\n",
       "      <td>10.793746</td>\n",
       "      <td>0.0</td>\n",
       "      <td>30.0</td>\n",
       "    </tr>\n",
       "  </tbody>\n",
       "</table>\n",
       "</div>"
      ],
      "text/plain": [
       "             days_since_prior_order           \n",
       "                               mean  min   max\n",
       "income_group                                  \n",
       "High                      10.786132  0.0  30.0\n",
       "Low                       11.252457  0.0  30.0\n",
       "Middle                    10.793746  0.0  30.0"
      ]
     },
     "execution_count": 59,
     "metadata": {},
     "output_type": "execute_result"
    }
   ],
   "source": [
    "# Aggregate for income group order frequency\n",
    "custs_ords_prods_merged.groupby('income_group').agg({'days_since_prior_order': ['mean', 'min', 'max']})"
   ]
  },
  {
   "cell_type": "code",
   "execution_count": 60,
   "id": "aabc6ada-6328-4e60-a5e7-38d667cf7b18",
   "metadata": {},
   "outputs": [
    {
     "data": {
      "text/html": [
       "<div>\n",
       "<style scoped>\n",
       "    .dataframe tbody tr th:only-of-type {\n",
       "        vertical-align: middle;\n",
       "    }\n",
       "\n",
       "    .dataframe tbody tr th {\n",
       "        vertical-align: top;\n",
       "    }\n",
       "\n",
       "    .dataframe thead tr th {\n",
       "        text-align: left;\n",
       "    }\n",
       "\n",
       "    .dataframe thead tr:last-of-type th {\n",
       "        text-align: right;\n",
       "    }\n",
       "</style>\n",
       "<table border=\"1\" class=\"dataframe\">\n",
       "  <thead>\n",
       "    <tr>\n",
       "      <th></th>\n",
       "      <th colspan=\"3\" halign=\"left\">prices</th>\n",
       "    </tr>\n",
       "    <tr>\n",
       "      <th></th>\n",
       "      <th>mean</th>\n",
       "      <th>min</th>\n",
       "      <th>max</th>\n",
       "    </tr>\n",
       "    <tr>\n",
       "      <th>income_group</th>\n",
       "      <th></th>\n",
       "      <th></th>\n",
       "      <th></th>\n",
       "    </tr>\n",
       "  </thead>\n",
       "  <tbody>\n",
       "    <tr>\n",
       "      <th>High</th>\n",
       "      <td>16.579815</td>\n",
       "      <td>1.0</td>\n",
       "      <td>99999.0</td>\n",
       "    </tr>\n",
       "    <tr>\n",
       "      <th>Low</th>\n",
       "      <td>6.696985</td>\n",
       "      <td>1.0</td>\n",
       "      <td>25.0</td>\n",
       "    </tr>\n",
       "    <tr>\n",
       "      <th>Middle</th>\n",
       "      <td>8.468592</td>\n",
       "      <td>1.0</td>\n",
       "      <td>99999.0</td>\n",
       "    </tr>\n",
       "  </tbody>\n",
       "</table>\n",
       "</div>"
      ],
      "text/plain": [
       "                 prices              \n",
       "                   mean  min      max\n",
       "income_group                         \n",
       "High          16.579815  1.0  99999.0\n",
       "Low            6.696985  1.0     25.0\n",
       "Middle         8.468592  1.0  99999.0"
      ]
     },
     "execution_count": 60,
     "metadata": {},
     "output_type": "execute_result"
    }
   ],
   "source": [
    "# Aggregate for income group expenditure\n",
    "custs_ords_prods_merged.groupby('income_group').agg({'prices': ['mean', 'min', 'max']})"
   ]
  },
  {
   "cell_type": "code",
   "execution_count": 61,
   "id": "a4626ab9-2625-44a6-9b64-69c8f7bbde2a",
   "metadata": {},
   "outputs": [
    {
     "data": {
      "text/html": [
       "<div>\n",
       "<style scoped>\n",
       "    .dataframe tbody tr th:only-of-type {\n",
       "        vertical-align: middle;\n",
       "    }\n",
       "\n",
       "    .dataframe tbody tr th {\n",
       "        vertical-align: top;\n",
       "    }\n",
       "\n",
       "    .dataframe thead tr th {\n",
       "        text-align: left;\n",
       "    }\n",
       "\n",
       "    .dataframe thead tr:last-of-type th {\n",
       "        text-align: right;\n",
       "    }\n",
       "</style>\n",
       "<table border=\"1\" class=\"dataframe\">\n",
       "  <thead>\n",
       "    <tr>\n",
       "      <th></th>\n",
       "      <th colspan=\"3\" halign=\"left\">days_since_prior_order</th>\n",
       "    </tr>\n",
       "    <tr>\n",
       "      <th></th>\n",
       "      <th>mean</th>\n",
       "      <th>min</th>\n",
       "      <th>max</th>\n",
       "    </tr>\n",
       "    <tr>\n",
       "      <th>dependents_flag</th>\n",
       "      <th></th>\n",
       "      <th></th>\n",
       "      <th></th>\n",
       "    </tr>\n",
       "  </thead>\n",
       "  <tbody>\n",
       "    <tr>\n",
       "      <th>Has dependents</th>\n",
       "      <td>10.848293</td>\n",
       "      <td>0.0</td>\n",
       "      <td>30.0</td>\n",
       "    </tr>\n",
       "    <tr>\n",
       "      <th>No dependents</th>\n",
       "      <td>10.819676</td>\n",
       "      <td>0.0</td>\n",
       "      <td>30.0</td>\n",
       "    </tr>\n",
       "  </tbody>\n",
       "</table>\n",
       "</div>"
      ],
      "text/plain": [
       "                days_since_prior_order           \n",
       "                                  mean  min   max\n",
       "dependents_flag                                  \n",
       "Has dependents               10.848293  0.0  30.0\n",
       "No dependents                10.819676  0.0  30.0"
      ]
     },
     "execution_count": 61,
     "metadata": {},
     "output_type": "execute_result"
    }
   ],
   "source": [
    " # Aggregate for dependent group order frequency\n",
    "custs_ords_prods_merged.groupby('dependents_flag').agg({'days_since_prior_order': ['mean', 'min', 'max']})"
   ]
  },
  {
   "cell_type": "code",
   "execution_count": 62,
   "id": "0115d55e-2f83-4d3f-9914-f242df26bd8e",
   "metadata": {},
   "outputs": [
    {
     "data": {
      "text/html": [
       "<div>\n",
       "<style scoped>\n",
       "    .dataframe tbody tr th:only-of-type {\n",
       "        vertical-align: middle;\n",
       "    }\n",
       "\n",
       "    .dataframe tbody tr th {\n",
       "        vertical-align: top;\n",
       "    }\n",
       "\n",
       "    .dataframe thead tr th {\n",
       "        text-align: left;\n",
       "    }\n",
       "\n",
       "    .dataframe thead tr:last-of-type th {\n",
       "        text-align: right;\n",
       "    }\n",
       "</style>\n",
       "<table border=\"1\" class=\"dataframe\">\n",
       "  <thead>\n",
       "    <tr>\n",
       "      <th></th>\n",
       "      <th colspan=\"3\" halign=\"left\">prices</th>\n",
       "    </tr>\n",
       "    <tr>\n",
       "      <th></th>\n",
       "      <th>mean</th>\n",
       "      <th>min</th>\n",
       "      <th>max</th>\n",
       "    </tr>\n",
       "    <tr>\n",
       "      <th>dependents_flag</th>\n",
       "      <th></th>\n",
       "      <th></th>\n",
       "      <th></th>\n",
       "    </tr>\n",
       "  </thead>\n",
       "  <tbody>\n",
       "    <tr>\n",
       "      <th>Has dependents</th>\n",
       "      <td>11.930584</td>\n",
       "      <td>1.0</td>\n",
       "      <td>99999.0</td>\n",
       "    </tr>\n",
       "    <tr>\n",
       "      <th>No dependents</th>\n",
       "      <td>12.129243</td>\n",
       "      <td>1.0</td>\n",
       "      <td>99999.0</td>\n",
       "    </tr>\n",
       "  </tbody>\n",
       "</table>\n",
       "</div>"
      ],
      "text/plain": [
       "                    prices              \n",
       "                      mean  min      max\n",
       "dependents_flag                         \n",
       "Has dependents   11.930584  1.0  99999.0\n",
       "No dependents    12.129243  1.0  99999.0"
      ]
     },
     "execution_count": 62,
     "metadata": {},
     "output_type": "execute_result"
    }
   ],
   "source": [
    "# Aggregate for dependent group expenditure\n",
    "custs_ords_prods_merged.groupby('dependents_flag').agg({'prices': ['mean', 'min', 'max']})  "
   ]
  },
  {
   "cell_type": "markdown",
   "id": "db85e854-1e16-4c27-95d6-9cf51c66d310",
   "metadata": {},
   "source": [
    "### Compare your customer profiles with regions and departments. Can you identify a link between them? Customers may demonstrate different behaviors across regions, which could make this information important."
   ]
  },
  {
   "cell_type": "code",
   "execution_count": 64,
   "id": "ae3fa124-91b9-41d8-b1f8-9b1d827f7a3c",
   "metadata": {},
   "outputs": [],
   "source": [
    "# Creating crosstab to compare age group profile with region locations\n",
    "age_region_comparison = pd.crosstab(custs_ords_prods_merged['age_group'],custs_ords_prods_merged['region'],dropna=False)"
   ]
  },
  {
   "cell_type": "code",
   "execution_count": 65,
   "id": "1e67066f-9bbb-44d7-bf42-fd01ed66ec45",
   "metadata": {},
   "outputs": [
    {
     "data": {
      "text/html": [
       "<div>\n",
       "<style scoped>\n",
       "    .dataframe tbody tr th:only-of-type {\n",
       "        vertical-align: middle;\n",
       "    }\n",
       "\n",
       "    .dataframe tbody tr th {\n",
       "        vertical-align: top;\n",
       "    }\n",
       "\n",
       "    .dataframe thead th {\n",
       "        text-align: right;\n",
       "    }\n",
       "</style>\n",
       "<table border=\"1\" class=\"dataframe\">\n",
       "  <thead>\n",
       "    <tr style=\"text-align: right;\">\n",
       "      <th>region</th>\n",
       "      <th>Midwest</th>\n",
       "      <th>Northeast</th>\n",
       "      <th>South</th>\n",
       "      <th>West</th>\n",
       "      <th>NaN</th>\n",
       "    </tr>\n",
       "    <tr>\n",
       "      <th>age_group</th>\n",
       "      <th></th>\n",
       "      <th></th>\n",
       "      <th></th>\n",
       "      <th></th>\n",
       "      <th></th>\n",
       "    </tr>\n",
       "  </thead>\n",
       "  <tbody>\n",
       "    <tr>\n",
       "      <th>Adult</th>\n",
       "      <td>2087718</td>\n",
       "      <td>1678856</td>\n",
       "      <td>3236871</td>\n",
       "      <td>2454402</td>\n",
       "      <td>187048</td>\n",
       "    </tr>\n",
       "    <tr>\n",
       "      <th>Elder</th>\n",
       "      <td>1830985</td>\n",
       "      <td>1553903</td>\n",
       "      <td>2836257</td>\n",
       "      <td>2194080</td>\n",
       "      <td>159859</td>\n",
       "    </tr>\n",
       "    <tr>\n",
       "      <th>Older Adult</th>\n",
       "      <td>2182842</td>\n",
       "      <td>1778865</td>\n",
       "      <td>3342092</td>\n",
       "      <td>2626553</td>\n",
       "      <td>209339</td>\n",
       "    </tr>\n",
       "    <tr>\n",
       "      <th>Young adult</th>\n",
       "      <td>862756</td>\n",
       "      <td>711112</td>\n",
       "      <td>1376665</td>\n",
       "      <td>1017878</td>\n",
       "      <td>76778</td>\n",
       "    </tr>\n",
       "  </tbody>\n",
       "</table>\n",
       "</div>"
      ],
      "text/plain": [
       "region       Midwest  Northeast    South     West     NaN\n",
       "age_group                                                \n",
       "Adult        2087718    1678856  3236871  2454402  187048\n",
       "Elder        1830985    1553903  2836257  2194080  159859\n",
       "Older Adult  2182842    1778865  3342092  2626553  209339\n",
       "Young adult   862756     711112  1376665  1017878   76778"
      ]
     },
     "execution_count": 65,
     "metadata": {},
     "output_type": "execute_result"
    }
   ],
   "source": [
    "age_region_comparison"
   ]
  },
  {
   "cell_type": "code",
   "execution_count": 66,
   "id": "5b91a973-da8e-4842-a647-e06d53faa35d",
   "metadata": {},
   "outputs": [
    {
     "data": {
      "text/plain": [
       "<Figure size 1000x700 with 0 Axes>"
      ]
     },
     "metadata": {},
     "output_type": "display_data"
    },
    {
     "data": {
      "image/png": "[encoded data removed]",
      "text/plain": [
       "<Figure size 640x480 with 1 Axes>"
      ]
     },
     "metadata": {},
     "output_type": "display_data"
    }
   ],
   "source": [
    "# Creating Bar chart for Age group by Region \n",
    "plt.figure(figsize=(10, 7))\n",
    "age_region_comparison_bar= age_region_comparison.plot(kind='bar',rot=0)\n",
    "plt.title('Age group by Region')\n",
    "plt.xlabel('Age group')\n",
    "plt.ylabel('Count')\n",
    "plt.legend(title='Region')\n",
    "plt.tight_layout()\n",
    "plt.show()"
   ]
  },
  {
   "cell_type": "code",
   "execution_count": 1,
   "id": "6746288c-4d0c-44ab-85ce-30fb02e83b6a",
   "metadata": {},
   "outputs": [
    {
     "ename": "NameError",
     "evalue": "name 'age_region_comparison_bar' is not defined",
     "output_type": "error",
     "traceback": [
      "\u001b[1;31m---------------------------------------------------------------------------\u001b[0m",
      "\u001b[1;31mNameError\u001b[0m                                 Traceback (most recent call last)",
      "Cell \u001b[1;32mIn[1], line 3\u001b[0m\n\u001b[0;32m      1\u001b[0m \u001b[38;5;66;03m# Importing chart\u001b[39;00m\n\u001b[1;32m----> 3\u001b[0m age_region_comparison_bar\u001b[38;5;241m.\u001b[39mfigure\u001b[38;5;241m.\u001b[39msavefig(os\u001b[38;5;241m.\u001b[39mpath\u001b[38;5;241m.\u001b[39mjoin (path, \u001b[38;5;124m'\u001b[39m\u001b[38;5;124m04 Analysis\u001b[39m\u001b[38;5;124m'\u001b[39m,\u001b[38;5;124m'\u001b[39m\u001b[38;5;124mVisualizations\u001b[39m\u001b[38;5;124m'\u001b[39m, \u001b[38;5;124m'\u001b[39m\u001b[38;5;124mage_region_comparison_bar_4.10.png\u001b[39m\u001b[38;5;124m'\u001b[39m))\n",
      "\u001b[1;31mNameError\u001b[0m: name 'age_region_comparison_bar' is not defined"
     ]
    }
   ],
   "source": [
    "# Importing chart\n",
    "\n",
    "age_region_comparison_bar.figure.savefig(os.path.join (path, '04 Analysis','Visualizations', 'age_region_comparison_bar_4.10.png'))"
   ]
  },
  {
   "cell_type": "code",
   "execution_count": 67,
   "id": "7513b3c3-5687-4c7c-b7cd-b43c93f3d88e",
   "metadata": {},
   "outputs": [],
   "source": [
    "# Creating crosstab to compare income group profile with region locations\n",
    "income_region_comparison = pd.crosstab(custs_ords_prods_merged['income_group'],custs_ords_prods_merged['region'],dropna=False)"
   ]
  },
  {
   "cell_type": "code",
   "execution_count": 68,
   "id": "66ab4db0-bc93-495f-a4d7-96e592ce2247",
   "metadata": {},
   "outputs": [
    {
     "data": {
      "text/html": [
       "<div>\n",
       "<style scoped>\n",
       "    .dataframe tbody tr th:only-of-type {\n",
       "        vertical-align: middle;\n",
       "    }\n",
       "\n",
       "    .dataframe tbody tr th {\n",
       "        vertical-align: top;\n",
       "    }\n",
       "\n",
       "    .dataframe thead th {\n",
       "        text-align: right;\n",
       "    }\n",
       "</style>\n",
       "<table border=\"1\" class=\"dataframe\">\n",
       "  <thead>\n",
       "    <tr style=\"text-align: right;\">\n",
       "      <th>region</th>\n",
       "      <th>Midwest</th>\n",
       "      <th>Northeast</th>\n",
       "      <th>South</th>\n",
       "      <th>West</th>\n",
       "      <th>NaN</th>\n",
       "    </tr>\n",
       "    <tr>\n",
       "      <th>income_group</th>\n",
       "      <th></th>\n",
       "      <th></th>\n",
       "      <th></th>\n",
       "      <th></th>\n",
       "      <th></th>\n",
       "    </tr>\n",
       "  </thead>\n",
       "  <tbody>\n",
       "    <tr>\n",
       "      <th>High</th>\n",
       "      <td>3254082</td>\n",
       "      <td>2628413</td>\n",
       "      <td>4865368</td>\n",
       "      <td>3780506</td>\n",
       "      <td>285833</td>\n",
       "    </tr>\n",
       "    <tr>\n",
       "      <th>Low</th>\n",
       "      <td>767313</td>\n",
       "      <td>627256</td>\n",
       "      <td>1219460</td>\n",
       "      <td>908969</td>\n",
       "      <td>71085</td>\n",
       "    </tr>\n",
       "    <tr>\n",
       "      <th>Middle</th>\n",
       "      <td>2942906</td>\n",
       "      <td>2467067</td>\n",
       "      <td>4707057</td>\n",
       "      <td>3603438</td>\n",
       "      <td>276106</td>\n",
       "    </tr>\n",
       "  </tbody>\n",
       "</table>\n",
       "</div>"
      ],
      "text/plain": [
       "region        Midwest  Northeast    South     West     NaN\n",
       "income_group                                              \n",
       "High          3254082    2628413  4865368  3780506  285833\n",
       "Low            767313     627256  1219460   908969   71085\n",
       "Middle        2942906    2467067  4707057  3603438  276106"
      ]
     },
     "execution_count": 68,
     "metadata": {},
     "output_type": "execute_result"
    }
   ],
   "source": [
    "income_region_comparison"
   ]
  },
  {
   "cell_type": "code",
   "execution_count": 69,
   "id": "bd56614d-605f-4bf0-8b53-c63722bf4d24",
   "metadata": {},
   "outputs": [
    {
     "data": {
      "text/plain": [
       "<Figure size 1000x700 with 0 Axes>"
      ]
     },
     "metadata": {},
     "output_type": "display_data"
    },
    {
     "data": {
      "image/png": "[encoded data removed]",
      "text/plain": [
       "<Figure size 640x480 with 1 Axes>"
      ]
     },
     "metadata": {},
     "output_type": "display_data"
    }
   ],
   "source": [
    "# Creating Bar chart for Income group by Region \n",
    "plt.figure(figsize=(10, 7))\n",
    "income_region_comparison_bar= income_region_comparison.plot(kind='bar',rot=0)\n",
    "plt.title('Income group by Region')\n",
    "plt.xlabel('Income group')\n",
    "plt.ylabel('Count')\n",
    "plt.legend(title='Region')\n",
    "plt.tight_layout()\n",
    "plt.show()"
   ]
  },
  {
   "cell_type": "code",
   "execution_count": 141,
   "id": "8e09b4ab-4f87-4c55-b806-c77e50a65a34",
   "metadata": {},
   "outputs": [],
   "source": [
    "# Importing chart\n",
    "\n",
    "income_region_comparison_bar.figure.savefig(os.path.join (path, '04 Analysis','Visualizations', 'income_region_comparison_bar_4.10.png'))"
   ]
  },
  {
   "cell_type": "code",
   "execution_count": 70,
   "id": "77d02422-92fe-49f9-b168-d50df26c7408",
   "metadata": {},
   "outputs": [],
   "source": [
    "# Creating crosstab to compare dependent group profile with region locations\n",
    "dependent_region_comparison = pd.crosstab(custs_ords_prods_merged['dependents_flag'],custs_ords_prods_merged['region'],dropna=False)"
   ]
  },
  {
   "cell_type": "code",
   "execution_count": 71,
   "id": "9b5710ac-803c-445b-a2b2-87019ae05b78",
   "metadata": {},
   "outputs": [
    {
     "data": {
      "text/html": [
       "<div>\n",
       "<style scoped>\n",
       "    .dataframe tbody tr th:only-of-type {\n",
       "        vertical-align: middle;\n",
       "    }\n",
       "\n",
       "    .dataframe tbody tr th {\n",
       "        vertical-align: top;\n",
       "    }\n",
       "\n",
       "    .dataframe thead th {\n",
       "        text-align: right;\n",
       "    }\n",
       "</style>\n",
       "<table border=\"1\" class=\"dataframe\">\n",
       "  <thead>\n",
       "    <tr style=\"text-align: right;\">\n",
       "      <th>region</th>\n",
       "      <th>Midwest</th>\n",
       "      <th>Northeast</th>\n",
       "      <th>South</th>\n",
       "      <th>West</th>\n",
       "      <th>NaN</th>\n",
       "    </tr>\n",
       "    <tr>\n",
       "      <th>dependents_flag</th>\n",
       "      <th></th>\n",
       "      <th></th>\n",
       "      <th></th>\n",
       "      <th></th>\n",
       "      <th></th>\n",
       "    </tr>\n",
       "  </thead>\n",
       "  <tbody>\n",
       "    <tr>\n",
       "      <th>Has dependents</th>\n",
       "      <td>5225694</td>\n",
       "      <td>4304435</td>\n",
       "      <td>8090226</td>\n",
       "      <td>6220570</td>\n",
       "      <td>466431</td>\n",
       "    </tr>\n",
       "    <tr>\n",
       "      <th>No dependents</th>\n",
       "      <td>1738607</td>\n",
       "      <td>1418301</td>\n",
       "      <td>2701659</td>\n",
       "      <td>2072343</td>\n",
       "      <td>166593</td>\n",
       "    </tr>\n",
       "  </tbody>\n",
       "</table>\n",
       "</div>"
      ],
      "text/plain": [
       "region           Midwest  Northeast    South     West     NaN\n",
       "dependents_flag                                              \n",
       "Has dependents   5225694    4304435  8090226  6220570  466431\n",
       "No dependents    1738607    1418301  2701659  2072343  166593"
      ]
     },
     "execution_count": 71,
     "metadata": {},
     "output_type": "execute_result"
    }
   ],
   "source": [
    "dependent_region_comparison "
   ]
  },
  {
   "cell_type": "code",
   "execution_count": 72,
   "id": "2bf92826-33fc-459a-8a7e-bd7544d69cd9",
   "metadata": {},
   "outputs": [
    {
     "data": {
      "text/plain": [
       "<Figure size 1000x700 with 0 Axes>"
      ]
     },
     "metadata": {},
     "output_type": "display_data"
    },
    {
     "data": {
      "image/png": "[encoded data removed]",
      "text/plain": [
       "<Figure size 640x480 with 1 Axes>"
      ]
     },
     "metadata": {},
     "output_type": "display_data"
    }
   ],
   "source": [
    "# Creating Bar chart for Dependents number group by Region \n",
    "plt.figure(figsize=(10, 7))\n",
    "dependant_size_region_comparison_bar= dependent_region_comparison.plot(kind='bar',rot=0)\n",
    "plt.title('Customer dependent size by Region')\n",
    "plt.xlabel('Dependant size')\n",
    "plt.ylabel('Count')\n",
    "plt.legend(title='Region')\n",
    "plt.tight_layout()\n",
    "plt.show()"
   ]
  },
  {
   "cell_type": "code",
   "execution_count": 143,
   "id": "a4bc016d-bc6f-45d9-99fc-dc6de8f6b471",
   "metadata": {},
   "outputs": [],
   "source": [
    "# Importing chart\n",
    "\n",
    "dependant_size_region_comparison_bar.figure.savefig(os.path.join (path, '04 Analysis','Visualizations', 'dependant_size_region_comparison_bar_4.10.png'))"
   ]
  },
  {
   "cell_type": "markdown",
   "id": "fab3ee1e-6225-45b4-846a-7f0bcf7595f4",
   "metadata": {},
   "source": [
    "#### Comparing customer profiles with departments"
   ]
  },
  {
   "cell_type": "code",
   "execution_count": 74,
   "id": "9934679b-7ee9-4006-a21b-82496bf0895c",
   "metadata": {},
   "outputs": [],
   "source": [
    "# Importing department wrangled data\n",
    "\n",
    "df_depts = pd.read_csv(os.path.join(path,'02 Data','Prepared Data','departments_wrangled.csv'))"
   ]
  },
  {
   "cell_type": "code",
   "execution_count": 75,
   "id": "bfc761a9-d477-4d5f-97cc-6fbac1c4b252",
   "metadata": {},
   "outputs": [
    {
     "data": {
      "text/html": [
       "<div>\n",
       "<style scoped>\n",
       "    .dataframe tbody tr th:only-of-type {\n",
       "        vertical-align: middle;\n",
       "    }\n",
       "\n",
       "    .dataframe tbody tr th {\n",
       "        vertical-align: top;\n",
       "    }\n",
       "\n",
       "    .dataframe thead th {\n",
       "        text-align: right;\n",
       "    }\n",
       "</style>\n",
       "<table border=\"1\" class=\"dataframe\">\n",
       "  <thead>\n",
       "    <tr style=\"text-align: right;\">\n",
       "      <th></th>\n",
       "      <th>Unnamed: 0</th>\n",
       "      <th>department</th>\n",
       "    </tr>\n",
       "  </thead>\n",
       "  <tbody>\n",
       "    <tr>\n",
       "      <th>0</th>\n",
       "      <td>1</td>\n",
       "      <td>frozen</td>\n",
       "    </tr>\n",
       "    <tr>\n",
       "      <th>1</th>\n",
       "      <td>2</td>\n",
       "      <td>other</td>\n",
       "    </tr>\n",
       "    <tr>\n",
       "      <th>2</th>\n",
       "      <td>3</td>\n",
       "      <td>bakery</td>\n",
       "    </tr>\n",
       "    <tr>\n",
       "      <th>3</th>\n",
       "      <td>4</td>\n",
       "      <td>produce</td>\n",
       "    </tr>\n",
       "    <tr>\n",
       "      <th>4</th>\n",
       "      <td>5</td>\n",
       "      <td>alcohol</td>\n",
       "    </tr>\n",
       "    <tr>\n",
       "      <th>5</th>\n",
       "      <td>6</td>\n",
       "      <td>international</td>\n",
       "    </tr>\n",
       "    <tr>\n",
       "      <th>6</th>\n",
       "      <td>7</td>\n",
       "      <td>beverages</td>\n",
       "    </tr>\n",
       "    <tr>\n",
       "      <th>7</th>\n",
       "      <td>8</td>\n",
       "      <td>pets</td>\n",
       "    </tr>\n",
       "    <tr>\n",
       "      <th>8</th>\n",
       "      <td>9</td>\n",
       "      <td>dry goods pasta</td>\n",
       "    </tr>\n",
       "    <tr>\n",
       "      <th>9</th>\n",
       "      <td>10</td>\n",
       "      <td>bulk</td>\n",
       "    </tr>\n",
       "    <tr>\n",
       "      <th>10</th>\n",
       "      <td>11</td>\n",
       "      <td>personal care</td>\n",
       "    </tr>\n",
       "    <tr>\n",
       "      <th>11</th>\n",
       "      <td>12</td>\n",
       "      <td>meat seafood</td>\n",
       "    </tr>\n",
       "    <tr>\n",
       "      <th>12</th>\n",
       "      <td>13</td>\n",
       "      <td>pantry</td>\n",
       "    </tr>\n",
       "    <tr>\n",
       "      <th>13</th>\n",
       "      <td>14</td>\n",
       "      <td>breakfast</td>\n",
       "    </tr>\n",
       "    <tr>\n",
       "      <th>14</th>\n",
       "      <td>15</td>\n",
       "      <td>canned goods</td>\n",
       "    </tr>\n",
       "    <tr>\n",
       "      <th>15</th>\n",
       "      <td>16</td>\n",
       "      <td>dairy eggs</td>\n",
       "    </tr>\n",
       "    <tr>\n",
       "      <th>16</th>\n",
       "      <td>17</td>\n",
       "      <td>household</td>\n",
       "    </tr>\n",
       "    <tr>\n",
       "      <th>17</th>\n",
       "      <td>18</td>\n",
       "      <td>babies</td>\n",
       "    </tr>\n",
       "    <tr>\n",
       "      <th>18</th>\n",
       "      <td>19</td>\n",
       "      <td>snacks</td>\n",
       "    </tr>\n",
       "    <tr>\n",
       "      <th>19</th>\n",
       "      <td>20</td>\n",
       "      <td>deli</td>\n",
       "    </tr>\n",
       "    <tr>\n",
       "      <th>20</th>\n",
       "      <td>21</td>\n",
       "      <td>missing</td>\n",
       "    </tr>\n",
       "  </tbody>\n",
       "</table>\n",
       "</div>"
      ],
      "text/plain": [
       "    Unnamed: 0       department\n",
       "0            1           frozen\n",
       "1            2            other\n",
       "2            3           bakery\n",
       "3            4          produce\n",
       "4            5          alcohol\n",
       "5            6    international\n",
       "6            7        beverages\n",
       "7            8             pets\n",
       "8            9  dry goods pasta\n",
       "9           10             bulk\n",
       "10          11    personal care\n",
       "11          12     meat seafood\n",
       "12          13           pantry\n",
       "13          14        breakfast\n",
       "14          15     canned goods\n",
       "15          16       dairy eggs\n",
       "16          17        household\n",
       "17          18           babies\n",
       "18          19           snacks\n",
       "19          20             deli\n",
       "20          21          missing"
      ]
     },
     "execution_count": 75,
     "metadata": {},
     "output_type": "execute_result"
    }
   ],
   "source": [
    "df_depts"
   ]
  },
  {
   "cell_type": "markdown",
   "id": "ce4a574d-0cc7-47a4-8715-5e841c908ba5",
   "metadata": {},
   "source": [
    "#### In order to compare customer profiles with departments need to connect the data from custs_ords_prods_merged with the data of the departments dataframe through the department_id column."
   ]
  },
  {
   "cell_type": "code",
   "execution_count": 77,
   "id": "2c113ce4-a56c-4ec6-aeec-fd6dea2dc0bc",
   "metadata": {},
   "outputs": [],
   "source": [
    "# Creating column 'department_id' in department dataframe by renaming Unnamed: 0 column\t\n",
    "\n",
    "df_depts.rename(columns={'Unnamed: 0':'department_id'},inplace=True)"
   ]
  },
  {
   "cell_type": "code",
   "execution_count": 78,
   "id": "3a8bdd08-05e8-4646-b46d-1a1900afa36f",
   "metadata": {},
   "outputs": [
    {
     "data": {
      "text/html": [
       "<div>\n",
       "<style scoped>\n",
       "    .dataframe tbody tr th:only-of-type {\n",
       "        vertical-align: middle;\n",
       "    }\n",
       "\n",
       "    .dataframe tbody tr th {\n",
       "        vertical-align: top;\n",
       "    }\n",
       "\n",
       "    .dataframe thead th {\n",
       "        text-align: right;\n",
       "    }\n",
       "</style>\n",
       "<table border=\"1\" class=\"dataframe\">\n",
       "  <thead>\n",
       "    <tr style=\"text-align: right;\">\n",
       "      <th></th>\n",
       "      <th>department_id</th>\n",
       "      <th>department</th>\n",
       "    </tr>\n",
       "  </thead>\n",
       "  <tbody>\n",
       "    <tr>\n",
       "      <th>0</th>\n",
       "      <td>1</td>\n",
       "      <td>frozen</td>\n",
       "    </tr>\n",
       "    <tr>\n",
       "      <th>1</th>\n",
       "      <td>2</td>\n",
       "      <td>other</td>\n",
       "    </tr>\n",
       "    <tr>\n",
       "      <th>2</th>\n",
       "      <td>3</td>\n",
       "      <td>bakery</td>\n",
       "    </tr>\n",
       "    <tr>\n",
       "      <th>3</th>\n",
       "      <td>4</td>\n",
       "      <td>produce</td>\n",
       "    </tr>\n",
       "    <tr>\n",
       "      <th>4</th>\n",
       "      <td>5</td>\n",
       "      <td>alcohol</td>\n",
       "    </tr>\n",
       "  </tbody>\n",
       "</table>\n",
       "</div>"
      ],
      "text/plain": [
       "   department_id department\n",
       "0              1     frozen\n",
       "1              2      other\n",
       "2              3     bakery\n",
       "3              4    produce\n",
       "4              5    alcohol"
      ]
     },
     "execution_count": 78,
     "metadata": {},
     "output_type": "execute_result"
    }
   ],
   "source": [
    "df_depts.head()"
   ]
  },
  {
   "cell_type": "code",
   "execution_count": 79,
   "id": "9682f84b-5605-4bf9-b80e-494194c44ca6",
   "metadata": {},
   "outputs": [
    {
     "data": {
      "text/plain": [
       "department_id     int64\n",
       "department       object\n",
       "dtype: object"
      ]
     },
     "execution_count": 79,
     "metadata": {},
     "output_type": "execute_result"
    }
   ],
   "source": [
    "# Checking data type\n",
    "\n",
    "df_depts.dtypes"
   ]
  },
  {
   "cell_type": "code",
   "execution_count": 80,
   "id": "67a5a6e7-0831-475f-a660-d379fc1dc056",
   "metadata": {},
   "outputs": [],
   "source": [
    "# Changing data type befor merging to string\n",
    "\n",
    "df_depts['department_id']= df_depts['department_id'].astype(str)"
   ]
  },
  {
   "cell_type": "code",
   "execution_count": 81,
   "id": "9e3f9adb-d398-4257-8983-734ece59b1c9",
   "metadata": {},
   "outputs": [
    {
     "data": {
      "text/plain": [
       "department_id    object\n",
       "department       object\n",
       "dtype: object"
      ]
     },
     "execution_count": 81,
     "metadata": {},
     "output_type": "execute_result"
    }
   ],
   "source": [
    "df_depts.dtypes"
   ]
  },
  {
   "cell_type": "code",
   "execution_count": 82,
   "id": "8cf244fa-a325-424d-b96e-468214faca4f",
   "metadata": {},
   "outputs": [],
   "source": [
    "# Dropping ' _merge' column from custs_ords_prods_merged before merge dataframes\n",
    "custs_ords_prods_merged =custs_ords_prods_merged.drop (columns=['_merge'])"
   ]
  },
  {
   "cell_type": "code",
   "execution_count": 84,
   "id": "313c9acd-5df7-4d55-a8c6-a4c897b8d376",
   "metadata": {},
   "outputs": [
    {
     "name": "stdout",
     "output_type": "stream",
     "text": [
      "<class 'pandas.core.frame.DataFrame'>\n",
      "RangeIndex: 32404859 entries, 0 to 32404858\n",
      "Data columns (total 34 columns):\n",
      " #   Column                         Dtype  \n",
      "---  ------                         -----  \n",
      " 0   product_id                     object \n",
      " 1   product_name                   object \n",
      " 2   aisle_id                       object \n",
      " 3   department_id                  object \n",
      " 4   prices                         float64\n",
      " 5   order_id                       object \n",
      " 6   user_id                        object \n",
      " 7   order_number                   int64  \n",
      " 8   order_dow                      int64  \n",
      " 9   order_hour_of_day              int64  \n",
      " 10  days_since_prior_order         float64\n",
      " 11  add_to_cart_order              int64  \n",
      " 12  reordered                      int64  \n",
      " 13  busiest_day                    object \n",
      " 14  busiest_days                   object \n",
      " 15  busiest_period_of_day          object \n",
      " 16  max_order                      int64  \n",
      " 17  loyalty_flag                   object \n",
      " 18  average_price                  float64\n",
      " 19  spending_flag                  object \n",
      " 20  median_days_since_prior_order  float64\n",
      " 21  frequency_flag                 object \n",
      " 22  gender                         object \n",
      " 23  state                          object \n",
      " 24  age                            int64  \n",
      " 25  date_joined                    object \n",
      " 26  number_of_dependents           int64  \n",
      " 27  marital_status                 object \n",
      " 28  income                         int64  \n",
      " 29  region                         object \n",
      " 30  exclusion_flag                 object \n",
      " 31  age_group                      object \n",
      " 32  income_group                   object \n",
      " 33  dependents_flag                object \n",
      "dtypes: float64(4), int64(9), object(21)\n",
      "memory usage: 8.2+ GB\n"
     ]
    }
   ],
   "source": [
    "custs_ords_prods_merged.info()"
   ]
  },
  {
   "cell_type": "code",
   "execution_count": 85,
   "id": "86ab7075-d1f1-45aa-962f-220c3ede810b",
   "metadata": {},
   "outputs": [],
   "source": [
    "custs_ords_prods_merged['prices'] = custs_ords_prods_merged ['prices'].astype(np.float32)\n",
    "custs_ords_prods_merged['order_number'] = custs_ords_prods_merged ['order_number'].astype(np.int32)\n",
    "custs_ords_prods_merged['order_dow'] = custs_ords_prods_merged ['order_dow'].astype(np.int32)\n",
    "custs_ords_prods_merged['order_hour_of_day'] = custs_ords_prods_merged ['order_hour_of_day'].astype(np.int32)\n",
    "custs_ords_prods_merged['days_since_prior_order'] = custs_ords_prods_merged ['days_since_prior_order'].astype(np.float32)\n",
    "custs_ords_prods_merged['add_to_cart_order'] = custs_ords_prods_merged ['add_to_cart_order'].astype(np.int32)\n",
    "custs_ords_prods_merged['reordered'] = custs_ords_prods_merged ['reordered'].astype(np.int32)\n",
    "custs_ords_prods_merged['max_order'] = custs_ords_prods_merged ['max_order'].astype(np.int32)\n",
    "custs_ords_prods_merged['average_price'] = custs_ords_prods_merged ['average_price'].astype(np.float32)\n",
    "custs_ords_prods_merged['median_days_since_prior_order'] = custs_ords_prods_merged ['median_days_since_prior_order'].astype(np.float32)\n",
    "custs_ords_prods_merged['age'] = custs_ords_prods_merged ['age'].astype(np.int32)\n",
    "custs_ords_prods_merged['number_of_dependents'] = custs_ords_prods_merged ['number_of_dependents'].astype(np.int32)\n",
    "custs_ords_prods_merged['income'] = custs_ords_prods_merged ['income'].astype(np.int32)"
   ]
  },
  {
   "cell_type": "code",
   "execution_count": 86,
   "id": "5af5be4a-1e46-4bb8-87aa-7d109712b2af",
   "metadata": {},
   "outputs": [
    {
     "name": "stdout",
     "output_type": "stream",
     "text": [
      "<class 'pandas.core.frame.DataFrame'>\n",
      "RangeIndex: 32404859 entries, 0 to 32404858\n",
      "Data columns (total 34 columns):\n",
      " #   Column                         Dtype  \n",
      "---  ------                         -----  \n",
      " 0   product_id                     object \n",
      " 1   product_name                   object \n",
      " 2   aisle_id                       object \n",
      " 3   department_id                  object \n",
      " 4   prices                         float32\n",
      " 5   order_id                       object \n",
      " 6   user_id                        object \n",
      " 7   order_number                   int32  \n",
      " 8   order_dow                      int32  \n",
      " 9   order_hour_of_day              int32  \n",
      " 10  days_since_prior_order         float32\n",
      " 11  add_to_cart_order              int32  \n",
      " 12  reordered                      int32  \n",
      " 13  busiest_day                    object \n",
      " 14  busiest_days                   object \n",
      " 15  busiest_period_of_day          object \n",
      " 16  max_order                      int32  \n",
      " 17  loyalty_flag                   object \n",
      " 18  average_price                  float32\n",
      " 19  spending_flag                  object \n",
      " 20  median_days_since_prior_order  float32\n",
      " 21  frequency_flag                 object \n",
      " 22  gender                         object \n",
      " 23  state                          object \n",
      " 24  age                            int32  \n",
      " 25  date_joined                    object \n",
      " 26  number_of_dependents           int32  \n",
      " 27  marital_status                 object \n",
      " 28  income                         int32  \n",
      " 29  region                         object \n",
      " 30  exclusion_flag                 object \n",
      " 31  age_group                      object \n",
      " 32  income_group                   object \n",
      " 33  dependents_flag                object \n",
      "dtypes: float32(4), int32(9), object(21)\n",
      "memory usage: 6.6+ GB\n"
     ]
    }
   ],
   "source": [
    "custs_ords_prods_merged.info()"
   ]
  },
  {
   "cell_type": "code",
   "execution_count": 95,
   "id": "8ac845f7-266b-4b3f-b884-84f2fd317da2",
   "metadata": {},
   "outputs": [
    {
     "ename": "MemoryError",
     "evalue": "Unable to allocate 247. MiB for an array with shape (1, 32404859) and data type object",
     "output_type": "error",
     "traceback": [
      "\u001b[1;31m---------------------------------------------------------------------------\u001b[0m",
      "\u001b[1;31mMemoryError\u001b[0m                               Traceback (most recent call last)",
      "Cell \u001b[1;32mIn[95], line 2\u001b[0m\n\u001b[0;32m      1\u001b[0m \u001b[38;5;66;03m# Merging df_depts and 'custs_ords_prods_merged' via department_id\u001b[39;00m\n\u001b[1;32m----> 2\u001b[0m custs_ords_prods_depts_merged \u001b[38;5;241m=\u001b[39m custs_ords_prods_merged\u001b[38;5;241m.\u001b[39mmerge(df_depts, on \u001b[38;5;241m=\u001b[39m \u001b[38;5;124m'\u001b[39m\u001b[38;5;124mdepartment_id\u001b[39m\u001b[38;5;124m'\u001b[39m)\n",
      "File \u001b[1;32m~\\anaconda3\\Lib\\site-packages\\pandas\\core\\frame.py:10832\u001b[0m, in \u001b[0;36mDataFrame.merge\u001b[1;34m(self, right, how, on, left_on, right_on, left_index, right_index, sort, suffixes, copy, indicator, validate)\u001b[0m\n\u001b[0;32m  10813\u001b[0m \u001b[38;5;129m@Substitution\u001b[39m(\u001b[38;5;124m\"\u001b[39m\u001b[38;5;124m\"\u001b[39m)\n\u001b[0;32m  10814\u001b[0m \u001b[38;5;129m@Appender\u001b[39m(_merge_doc, indents\u001b[38;5;241m=\u001b[39m\u001b[38;5;241m2\u001b[39m)\n\u001b[0;32m  10815\u001b[0m \u001b[38;5;28;01mdef\u001b[39;00m \u001b[38;5;21mmerge\u001b[39m(\n\u001b[1;32m   (...)\u001b[0m\n\u001b[0;32m  10828\u001b[0m     validate: MergeValidate \u001b[38;5;241m|\u001b[39m \u001b[38;5;28;01mNone\u001b[39;00m \u001b[38;5;241m=\u001b[39m \u001b[38;5;28;01mNone\u001b[39;00m,\n\u001b[0;32m  10829\u001b[0m ) \u001b[38;5;241m-\u001b[39m\u001b[38;5;241m>\u001b[39m DataFrame:\n\u001b[0;32m  10830\u001b[0m     \u001b[38;5;28;01mfrom\u001b[39;00m \u001b[38;5;21;01mpandas\u001b[39;00m\u001b[38;5;21;01m.\u001b[39;00m\u001b[38;5;21;01mcore\u001b[39;00m\u001b[38;5;21;01m.\u001b[39;00m\u001b[38;5;21;01mreshape\u001b[39;00m\u001b[38;5;21;01m.\u001b[39;00m\u001b[38;5;21;01mmerge\u001b[39;00m \u001b[38;5;28;01mimport\u001b[39;00m merge\n\u001b[1;32m> 10832\u001b[0m     \u001b[38;5;28;01mreturn\u001b[39;00m merge(\n\u001b[0;32m  10833\u001b[0m         \u001b[38;5;28mself\u001b[39m,\n\u001b[0;32m  10834\u001b[0m         right,\n\u001b[0;32m  10835\u001b[0m         how\u001b[38;5;241m=\u001b[39mhow,\n\u001b[0;32m  10836\u001b[0m         on\u001b[38;5;241m=\u001b[39mon,\n\u001b[0;32m  10837\u001b[0m         left_on\u001b[38;5;241m=\u001b[39mleft_on,\n\u001b[0;32m  10838\u001b[0m         right_on\u001b[38;5;241m=\u001b[39mright_on,\n\u001b[0;32m  10839\u001b[0m         left_index\u001b[38;5;241m=\u001b[39mleft_index,\n\u001b[0;32m  10840\u001b[0m         right_index\u001b[38;5;241m=\u001b[39mright_index,\n\u001b[0;32m  10841\u001b[0m         sort\u001b[38;5;241m=\u001b[39msort,\n\u001b[0;32m  10842\u001b[0m         suffixes\u001b[38;5;241m=\u001b[39msuffixes,\n\u001b[0;32m  10843\u001b[0m         copy\u001b[38;5;241m=\u001b[39mcopy,\n\u001b[0;32m  10844\u001b[0m         indicator\u001b[38;5;241m=\u001b[39mindicator,\n\u001b[0;32m  10845\u001b[0m         validate\u001b[38;5;241m=\u001b[39mvalidate,\n\u001b[0;32m  10846\u001b[0m     )\n",
      "File \u001b[1;32m~\\anaconda3\\Lib\\site-packages\\pandas\\core\\reshape\\merge.py:184\u001b[0m, in \u001b[0;36mmerge\u001b[1;34m(left, right, how, on, left_on, right_on, left_index, right_index, sort, suffixes, copy, indicator, validate)\u001b[0m\n\u001b[0;32m    169\u001b[0m \u001b[38;5;28;01melse\u001b[39;00m:\n\u001b[0;32m    170\u001b[0m     op \u001b[38;5;241m=\u001b[39m _MergeOperation(\n\u001b[0;32m    171\u001b[0m         left_df,\n\u001b[0;32m    172\u001b[0m         right_df,\n\u001b[1;32m   (...)\u001b[0m\n\u001b[0;32m    182\u001b[0m         validate\u001b[38;5;241m=\u001b[39mvalidate,\n\u001b[0;32m    183\u001b[0m     )\n\u001b[1;32m--> 184\u001b[0m     \u001b[38;5;28;01mreturn\u001b[39;00m op\u001b[38;5;241m.\u001b[39mget_result(copy\u001b[38;5;241m=\u001b[39mcopy)\n",
      "File \u001b[1;32m~\\anaconda3\\Lib\\site-packages\\pandas\\core\\reshape\\merge.py:888\u001b[0m, in \u001b[0;36m_MergeOperation.get_result\u001b[1;34m(self, copy)\u001b[0m\n\u001b[0;32m    884\u001b[0m     \u001b[38;5;28mself\u001b[39m\u001b[38;5;241m.\u001b[39mleft, \u001b[38;5;28mself\u001b[39m\u001b[38;5;241m.\u001b[39mright \u001b[38;5;241m=\u001b[39m \u001b[38;5;28mself\u001b[39m\u001b[38;5;241m.\u001b[39m_indicator_pre_merge(\u001b[38;5;28mself\u001b[39m\u001b[38;5;241m.\u001b[39mleft, \u001b[38;5;28mself\u001b[39m\u001b[38;5;241m.\u001b[39mright)\n\u001b[0;32m    886\u001b[0m join_index, left_indexer, right_indexer \u001b[38;5;241m=\u001b[39m \u001b[38;5;28mself\u001b[39m\u001b[38;5;241m.\u001b[39m_get_join_info()\n\u001b[1;32m--> 888\u001b[0m result \u001b[38;5;241m=\u001b[39m \u001b[38;5;28mself\u001b[39m\u001b[38;5;241m.\u001b[39m_reindex_and_concat(\n\u001b[0;32m    889\u001b[0m     join_index, left_indexer, right_indexer, copy\u001b[38;5;241m=\u001b[39mcopy\n\u001b[0;32m    890\u001b[0m )\n\u001b[0;32m    891\u001b[0m result \u001b[38;5;241m=\u001b[39m result\u001b[38;5;241m.\u001b[39m__finalize__(\u001b[38;5;28mself\u001b[39m, method\u001b[38;5;241m=\u001b[39m\u001b[38;5;28mself\u001b[39m\u001b[38;5;241m.\u001b[39m_merge_type)\n\u001b[0;32m    893\u001b[0m \u001b[38;5;28;01mif\u001b[39;00m \u001b[38;5;28mself\u001b[39m\u001b[38;5;241m.\u001b[39mindicator:\n",
      "File \u001b[1;32m~\\anaconda3\\Lib\\site-packages\\pandas\\core\\reshape\\merge.py:879\u001b[0m, in \u001b[0;36m_MergeOperation._reindex_and_concat\u001b[1;34m(self, join_index, left_indexer, right_indexer, copy)\u001b[0m\n\u001b[0;32m    877\u001b[0m left\u001b[38;5;241m.\u001b[39mcolumns \u001b[38;5;241m=\u001b[39m llabels\n\u001b[0;32m    878\u001b[0m right\u001b[38;5;241m.\u001b[39mcolumns \u001b[38;5;241m=\u001b[39m rlabels\n\u001b[1;32m--> 879\u001b[0m result \u001b[38;5;241m=\u001b[39m concat([left, right], axis\u001b[38;5;241m=\u001b[39m\u001b[38;5;241m1\u001b[39m, copy\u001b[38;5;241m=\u001b[39mcopy)\n\u001b[0;32m    880\u001b[0m \u001b[38;5;28;01mreturn\u001b[39;00m result\n",
      "File \u001b[1;32m~\\anaconda3\\Lib\\site-packages\\pandas\\core\\reshape\\concat.py:395\u001b[0m, in \u001b[0;36mconcat\u001b[1;34m(objs, axis, join, ignore_index, keys, levels, names, verify_integrity, sort, copy)\u001b[0m\n\u001b[0;32m    380\u001b[0m     copy \u001b[38;5;241m=\u001b[39m \u001b[38;5;28;01mFalse\u001b[39;00m\n\u001b[0;32m    382\u001b[0m op \u001b[38;5;241m=\u001b[39m _Concatenator(\n\u001b[0;32m    383\u001b[0m     objs,\n\u001b[0;32m    384\u001b[0m     axis\u001b[38;5;241m=\u001b[39maxis,\n\u001b[1;32m   (...)\u001b[0m\n\u001b[0;32m    392\u001b[0m     sort\u001b[38;5;241m=\u001b[39msort,\n\u001b[0;32m    393\u001b[0m )\n\u001b[1;32m--> 395\u001b[0m \u001b[38;5;28;01mreturn\u001b[39;00m op\u001b[38;5;241m.\u001b[39mget_result()\n",
      "File \u001b[1;32m~\\anaconda3\\Lib\\site-packages\\pandas\\core\\reshape\\concat.py:684\u001b[0m, in \u001b[0;36m_Concatenator.get_result\u001b[1;34m(self)\u001b[0m\n\u001b[0;32m    680\u001b[0m             indexers[ax] \u001b[38;5;241m=\u001b[39m obj_labels\u001b[38;5;241m.\u001b[39mget_indexer(new_labels)\n\u001b[0;32m    682\u001b[0m     mgrs_indexers\u001b[38;5;241m.\u001b[39mappend((obj\u001b[38;5;241m.\u001b[39m_mgr, indexers))\n\u001b[1;32m--> 684\u001b[0m new_data \u001b[38;5;241m=\u001b[39m concatenate_managers(\n\u001b[0;32m    685\u001b[0m     mgrs_indexers, \u001b[38;5;28mself\u001b[39m\u001b[38;5;241m.\u001b[39mnew_axes, concat_axis\u001b[38;5;241m=\u001b[39m\u001b[38;5;28mself\u001b[39m\u001b[38;5;241m.\u001b[39mbm_axis, copy\u001b[38;5;241m=\u001b[39m\u001b[38;5;28mself\u001b[39m\u001b[38;5;241m.\u001b[39mcopy\n\u001b[0;32m    686\u001b[0m )\n\u001b[0;32m    687\u001b[0m \u001b[38;5;28;01mif\u001b[39;00m \u001b[38;5;129;01mnot\u001b[39;00m \u001b[38;5;28mself\u001b[39m\u001b[38;5;241m.\u001b[39mcopy \u001b[38;5;129;01mand\u001b[39;00m \u001b[38;5;129;01mnot\u001b[39;00m using_copy_on_write():\n\u001b[0;32m    688\u001b[0m     new_data\u001b[38;5;241m.\u001b[39m_consolidate_inplace()\n",
      "File \u001b[1;32m~\\anaconda3\\Lib\\site-packages\\pandas\\core\\internals\\concat.py:131\u001b[0m, in \u001b[0;36mconcatenate_managers\u001b[1;34m(mgrs_indexers, axes, concat_axis, copy)\u001b[0m\n\u001b[0;32m    124\u001b[0m \u001b[38;5;66;03m# Assertions disabled for performance\u001b[39;00m\n\u001b[0;32m    125\u001b[0m \u001b[38;5;66;03m# for tup in mgrs_indexers:\u001b[39;00m\n\u001b[0;32m    126\u001b[0m \u001b[38;5;66;03m#    # caller is responsible for ensuring this\u001b[39;00m\n\u001b[0;32m    127\u001b[0m \u001b[38;5;66;03m#    indexers = tup[1]\u001b[39;00m\n\u001b[0;32m    128\u001b[0m \u001b[38;5;66;03m#    assert concat_axis not in indexers\u001b[39;00m\n\u001b[0;32m    130\u001b[0m \u001b[38;5;28;01mif\u001b[39;00m concat_axis \u001b[38;5;241m==\u001b[39m \u001b[38;5;241m0\u001b[39m:\n\u001b[1;32m--> 131\u001b[0m     mgrs \u001b[38;5;241m=\u001b[39m _maybe_reindex_columns_na_proxy(axes, mgrs_indexers, needs_copy)\n\u001b[0;32m    132\u001b[0m     \u001b[38;5;28;01mreturn\u001b[39;00m mgrs[\u001b[38;5;241m0\u001b[39m]\u001b[38;5;241m.\u001b[39mconcat_horizontal(mgrs, axes)\n\u001b[0;32m    134\u001b[0m \u001b[38;5;28;01mif\u001b[39;00m \u001b[38;5;28mlen\u001b[39m(mgrs_indexers) \u001b[38;5;241m>\u001b[39m \u001b[38;5;241m0\u001b[39m \u001b[38;5;129;01mand\u001b[39;00m mgrs_indexers[\u001b[38;5;241m0\u001b[39m][\u001b[38;5;241m0\u001b[39m]\u001b[38;5;241m.\u001b[39mnblocks \u001b[38;5;241m>\u001b[39m \u001b[38;5;241m0\u001b[39m:\n",
      "File \u001b[1;32m~\\anaconda3\\Lib\\site-packages\\pandas\\core\\internals\\concat.py:230\u001b[0m, in \u001b[0;36m_maybe_reindex_columns_na_proxy\u001b[1;34m(axes, mgrs_indexers, needs_copy)\u001b[0m\n\u001b[0;32m    220\u001b[0m         mgr \u001b[38;5;241m=\u001b[39m mgr\u001b[38;5;241m.\u001b[39mreindex_indexer(\n\u001b[0;32m    221\u001b[0m             axes[i],\n\u001b[0;32m    222\u001b[0m             indexers[i],\n\u001b[1;32m   (...)\u001b[0m\n\u001b[0;32m    227\u001b[0m             use_na_proxy\u001b[38;5;241m=\u001b[39m\u001b[38;5;28;01mTrue\u001b[39;00m,  \u001b[38;5;66;03m# only relevant for i==0\u001b[39;00m\n\u001b[0;32m    228\u001b[0m         )\n\u001b[0;32m    229\u001b[0m     \u001b[38;5;28;01mif\u001b[39;00m needs_copy \u001b[38;5;129;01mand\u001b[39;00m \u001b[38;5;129;01mnot\u001b[39;00m indexers:\n\u001b[1;32m--> 230\u001b[0m         mgr \u001b[38;5;241m=\u001b[39m mgr\u001b[38;5;241m.\u001b[39mcopy()\n\u001b[0;32m    232\u001b[0m     new_mgrs\u001b[38;5;241m.\u001b[39mappend(mgr)\n\u001b[0;32m    233\u001b[0m \u001b[38;5;28;01mreturn\u001b[39;00m new_mgrs\n",
      "File \u001b[1;32m~\\anaconda3\\Lib\\site-packages\\pandas\\core\\internals\\managers.py:593\u001b[0m, in \u001b[0;36mBaseBlockManager.copy\u001b[1;34m(self, deep)\u001b[0m\n\u001b[0;32m    590\u001b[0m     \u001b[38;5;28;01melse\u001b[39;00m:\n\u001b[0;32m    591\u001b[0m         new_axes \u001b[38;5;241m=\u001b[39m \u001b[38;5;28mlist\u001b[39m(\u001b[38;5;28mself\u001b[39m\u001b[38;5;241m.\u001b[39maxes)\n\u001b[1;32m--> 593\u001b[0m res \u001b[38;5;241m=\u001b[39m \u001b[38;5;28mself\u001b[39m\u001b[38;5;241m.\u001b[39mapply(\u001b[38;5;124m\"\u001b[39m\u001b[38;5;124mcopy\u001b[39m\u001b[38;5;124m\"\u001b[39m, deep\u001b[38;5;241m=\u001b[39mdeep)\n\u001b[0;32m    594\u001b[0m res\u001b[38;5;241m.\u001b[39maxes \u001b[38;5;241m=\u001b[39m new_axes\n\u001b[0;32m    596\u001b[0m \u001b[38;5;28;01mif\u001b[39;00m \u001b[38;5;28mself\u001b[39m\u001b[38;5;241m.\u001b[39mndim \u001b[38;5;241m>\u001b[39m \u001b[38;5;241m1\u001b[39m:\n\u001b[0;32m    597\u001b[0m     \u001b[38;5;66;03m# Avoid needing to re-compute these\u001b[39;00m\n",
      "File \u001b[1;32m~\\anaconda3\\Lib\\site-packages\\pandas\\core\\internals\\managers.py:363\u001b[0m, in \u001b[0;36mBaseBlockManager.apply\u001b[1;34m(self, f, align_keys, **kwargs)\u001b[0m\n\u001b[0;32m    361\u001b[0m         applied \u001b[38;5;241m=\u001b[39m b\u001b[38;5;241m.\u001b[39mapply(f, \u001b[38;5;241m*\u001b[39m\u001b[38;5;241m*\u001b[39mkwargs)\n\u001b[0;32m    362\u001b[0m     \u001b[38;5;28;01melse\u001b[39;00m:\n\u001b[1;32m--> 363\u001b[0m         applied \u001b[38;5;241m=\u001b[39m \u001b[38;5;28mgetattr\u001b[39m(b, f)(\u001b[38;5;241m*\u001b[39m\u001b[38;5;241m*\u001b[39mkwargs)\n\u001b[0;32m    364\u001b[0m     result_blocks \u001b[38;5;241m=\u001b[39m extend_blocks(applied, result_blocks)\n\u001b[0;32m    366\u001b[0m out \u001b[38;5;241m=\u001b[39m \u001b[38;5;28mtype\u001b[39m(\u001b[38;5;28mself\u001b[39m)\u001b[38;5;241m.\u001b[39mfrom_blocks(result_blocks, \u001b[38;5;28mself\u001b[39m\u001b[38;5;241m.\u001b[39maxes)\n",
      "File \u001b[1;32m~\\anaconda3\\Lib\\site-packages\\pandas\\core\\internals\\blocks.py:796\u001b[0m, in \u001b[0;36mBlock.copy\u001b[1;34m(self, deep)\u001b[0m\n\u001b[0;32m    794\u001b[0m refs: BlockValuesRefs \u001b[38;5;241m|\u001b[39m \u001b[38;5;28;01mNone\u001b[39;00m\n\u001b[0;32m    795\u001b[0m \u001b[38;5;28;01mif\u001b[39;00m deep:\n\u001b[1;32m--> 796\u001b[0m     values \u001b[38;5;241m=\u001b[39m values\u001b[38;5;241m.\u001b[39mcopy()\n\u001b[0;32m    797\u001b[0m     refs \u001b[38;5;241m=\u001b[39m \u001b[38;5;28;01mNone\u001b[39;00m\n\u001b[0;32m    798\u001b[0m \u001b[38;5;28;01melse\u001b[39;00m:\n",
      "\u001b[1;31mMemoryError\u001b[0m: Unable to allocate 247. MiB for an array with shape (1, 32404859) and data type object"
     ]
    }
   ],
   "source": [
    "# Merging df_depts and 'custs_ords_prods_merged' via department_id\n",
    "custs_ords_prods_depts_merged = custs_ords_prods_merged.merge(df_depts, on = 'department_id')                                                          "
   ]
  },
  {
   "cell_type": "markdown",
   "id": "e155bb54-9937-462b-95d7-90e360f9938a",
   "metadata": {},
   "source": [
    "#### Since even after changing the data type, there is not enough memory for the merging dataframes, a new data frame will be created with columns from 'custs_ords_prods_merged' required for analysis."
   ]
  },
  {
   "cell_type": "code",
   "execution_count": 97,
   "id": "4f0203b2-0f26-4c35-b5de-f4d0a359b20f",
   "metadata": {},
   "outputs": [
    {
     "data": {
      "text/plain": [
       "['product_id',\n",
       " 'product_name',\n",
       " 'aisle_id',\n",
       " 'department_id',\n",
       " 'prices',\n",
       " 'order_id',\n",
       " 'user_id',\n",
       " 'order_number',\n",
       " 'order_dow',\n",
       " 'order_hour_of_day',\n",
       " 'days_since_prior_order',\n",
       " 'add_to_cart_order',\n",
       " 'reordered',\n",
       " 'busiest_day',\n",
       " 'busiest_days',\n",
       " 'busiest_period_of_day',\n",
       " 'max_order',\n",
       " 'loyalty_flag',\n",
       " 'average_price',\n",
       " 'spending_flag',\n",
       " 'median_days_since_prior_order',\n",
       " 'frequency_flag',\n",
       " 'gender',\n",
       " 'state',\n",
       " 'age',\n",
       " 'date_joined',\n",
       " 'number_of_dependents',\n",
       " 'marital_status',\n",
       " 'income',\n",
       " 'region',\n",
       " 'exclusion_flag',\n",
       " 'age_group',\n",
       " 'income_group',\n",
       " 'dependents_flag']"
      ]
     },
     "execution_count": 97,
     "metadata": {},
     "output_type": "execute_result"
    }
   ],
   "source": [
    "custs_ords_prods_merged.columns.tolist()"
   ]
  },
  {
   "cell_type": "code",
   "execution_count": 100,
   "id": "5ebfe2cc-2d32-4335-8ed1-1384b8a0d140",
   "metadata": {},
   "outputs": [],
   "source": [
    "# Creating new smaller dataframe with necessary columns\n",
    "\n",
    "df_1 = custs_ords_prods_merged [['department_id', 'prices','order_number', 'order_hour_of_day', 'days_since_prior_order', \n",
    "                                 'age', 'number_of_dependents', 'income', 'age_group',\n",
    "                                'income_group', 'dependents_flag']]"
   ]
  },
  {
   "cell_type": "code",
   "execution_count": 113,
   "id": "3d04cd46-8426-43cb-aa3e-a746277cad78",
   "metadata": {},
   "outputs": [],
   "source": [
    "# Merging df_depts and 'custs_ords_prods_merged' via department_id\n",
    "df_merged = df_1.merge(df_depts,on = 'department_id', indicator = True)"
   ]
  },
  {
   "cell_type": "code",
   "execution_count": 115,
   "id": "6dec5a6d-b56c-48bf-8cc5-f67da89f0726",
   "metadata": {},
   "outputs": [
    {
     "data": {
      "text/html": [
       "<div>\n",
       "<style scoped>\n",
       "    .dataframe tbody tr th:only-of-type {\n",
       "        vertical-align: middle;\n",
       "    }\n",
       "\n",
       "    .dataframe tbody tr th {\n",
       "        vertical-align: top;\n",
       "    }\n",
       "\n",
       "    .dataframe thead th {\n",
       "        text-align: right;\n",
       "    }\n",
       "</style>\n",
       "<table border=\"1\" class=\"dataframe\">\n",
       "  <thead>\n",
       "    <tr style=\"text-align: right;\">\n",
       "      <th></th>\n",
       "      <th>department_id</th>\n",
       "      <th>prices</th>\n",
       "      <th>order_number</th>\n",
       "      <th>order_hour_of_day</th>\n",
       "      <th>days_since_prior_order</th>\n",
       "      <th>age</th>\n",
       "      <th>number_of_dependents</th>\n",
       "      <th>income</th>\n",
       "      <th>age_group</th>\n",
       "      <th>income_group</th>\n",
       "      <th>dependents_flag</th>\n",
       "      <th>department</th>\n",
       "      <th>_merge</th>\n",
       "    </tr>\n",
       "  </thead>\n",
       "  <tbody>\n",
       "    <tr>\n",
       "      <th>0</th>\n",
       "      <td>19</td>\n",
       "      <td>5.8</td>\n",
       "      <td>28</td>\n",
       "      <td>11</td>\n",
       "      <td>3.0</td>\n",
       "      <td>81</td>\n",
       "      <td>1</td>\n",
       "      <td>49620</td>\n",
       "      <td>Elder</td>\n",
       "      <td>Low</td>\n",
       "      <td>Has dependents</td>\n",
       "      <td>snacks</td>\n",
       "      <td>both</td>\n",
       "    </tr>\n",
       "    <tr>\n",
       "      <th>1</th>\n",
       "      <td>19</td>\n",
       "      <td>5.8</td>\n",
       "      <td>30</td>\n",
       "      <td>17</td>\n",
       "      <td>20.0</td>\n",
       "      <td>81</td>\n",
       "      <td>1</td>\n",
       "      <td>49620</td>\n",
       "      <td>Elder</td>\n",
       "      <td>Low</td>\n",
       "      <td>Has dependents</td>\n",
       "      <td>snacks</td>\n",
       "      <td>both</td>\n",
       "    </tr>\n",
       "    <tr>\n",
       "      <th>2</th>\n",
       "      <td>19</td>\n",
       "      <td>5.8</td>\n",
       "      <td>2</td>\n",
       "      <td>21</td>\n",
       "      <td>6.0</td>\n",
       "      <td>66</td>\n",
       "      <td>2</td>\n",
       "      <td>158302</td>\n",
       "      <td>Elder</td>\n",
       "      <td>High</td>\n",
       "      <td>Has dependents</td>\n",
       "      <td>snacks</td>\n",
       "      <td>both</td>\n",
       "    </tr>\n",
       "    <tr>\n",
       "      <th>3</th>\n",
       "      <td>19</td>\n",
       "      <td>5.8</td>\n",
       "      <td>1</td>\n",
       "      <td>13</td>\n",
       "      <td>7.0</td>\n",
       "      <td>40</td>\n",
       "      <td>3</td>\n",
       "      <td>31308</td>\n",
       "      <td>Adult</td>\n",
       "      <td>Low</td>\n",
       "      <td>Has dependents</td>\n",
       "      <td>snacks</td>\n",
       "      <td>both</td>\n",
       "    </tr>\n",
       "    <tr>\n",
       "      <th>4</th>\n",
       "      <td>19</td>\n",
       "      <td>5.8</td>\n",
       "      <td>3</td>\n",
       "      <td>17</td>\n",
       "      <td>9.0</td>\n",
       "      <td>40</td>\n",
       "      <td>3</td>\n",
       "      <td>31308</td>\n",
       "      <td>Adult</td>\n",
       "      <td>Low</td>\n",
       "      <td>Has dependents</td>\n",
       "      <td>snacks</td>\n",
       "      <td>both</td>\n",
       "    </tr>\n",
       "  </tbody>\n",
       "</table>\n",
       "</div>"
      ],
      "text/plain": [
       "  department_id  prices  order_number  order_hour_of_day  \\\n",
       "0            19     5.8            28                 11   \n",
       "1            19     5.8            30                 17   \n",
       "2            19     5.8             2                 21   \n",
       "3            19     5.8             1                 13   \n",
       "4            19     5.8             3                 17   \n",
       "\n",
       "   days_since_prior_order  age  number_of_dependents  income age_group  \\\n",
       "0                     3.0   81                     1   49620     Elder   \n",
       "1                    20.0   81                     1   49620     Elder   \n",
       "2                     6.0   66                     2  158302     Elder   \n",
       "3                     7.0   40                     3   31308     Adult   \n",
       "4                     9.0   40                     3   31308     Adult   \n",
       "\n",
       "  income_group dependents_flag department _merge  \n",
       "0          Low  Has dependents     snacks   both  \n",
       "1          Low  Has dependents     snacks   both  \n",
       "2         High  Has dependents     snacks   both  \n",
       "3          Low  Has dependents     snacks   both  \n",
       "4          Low  Has dependents     snacks   both  "
      ]
     },
     "execution_count": 115,
     "metadata": {},
     "output_type": "execute_result"
    }
   ],
   "source": [
    "df_merged.head()"
   ]
  },
  {
   "cell_type": "code",
   "execution_count": 117,
   "id": "b8d37719-3bc5-4292-8746-fe258958f96a",
   "metadata": {},
   "outputs": [],
   "source": [
    "# Creating crosstab to compare age_group profile with departments\n",
    "\n",
    "age_department_comparison = pd.crosstab(df_merged['age_group'],df_merged['department'],dropna = False)"
   ]
  },
  {
   "cell_type": "code",
   "execution_count": 119,
   "id": "e43d4c0a-b7fe-44c5-8469-b8a0130ea936",
   "metadata": {},
   "outputs": [
    {
     "data": {
      "text/html": [
       "<div>\n",
       "<style scoped>\n",
       "    .dataframe tbody tr th:only-of-type {\n",
       "        vertical-align: middle;\n",
       "    }\n",
       "\n",
       "    .dataframe tbody tr th {\n",
       "        vertical-align: top;\n",
       "    }\n",
       "\n",
       "    .dataframe thead th {\n",
       "        text-align: right;\n",
       "    }\n",
       "</style>\n",
       "<table border=\"1\" class=\"dataframe\">\n",
       "  <thead>\n",
       "    <tr style=\"text-align: right;\">\n",
       "      <th>department</th>\n",
       "      <th>alcohol</th>\n",
       "      <th>babies</th>\n",
       "      <th>bakery</th>\n",
       "      <th>beverages</th>\n",
       "      <th>breakfast</th>\n",
       "      <th>bulk</th>\n",
       "      <th>canned goods</th>\n",
       "      <th>dairy eggs</th>\n",
       "      <th>deli</th>\n",
       "      <th>dry goods pasta</th>\n",
       "      <th>...</th>\n",
       "      <th>household</th>\n",
       "      <th>international</th>\n",
       "      <th>meat seafood</th>\n",
       "      <th>missing</th>\n",
       "      <th>other</th>\n",
       "      <th>pantry</th>\n",
       "      <th>personal care</th>\n",
       "      <th>pets</th>\n",
       "      <th>produce</th>\n",
       "      <th>snacks</th>\n",
       "    </tr>\n",
       "    <tr>\n",
       "      <th>age_group</th>\n",
       "      <th></th>\n",
       "      <th></th>\n",
       "      <th></th>\n",
       "      <th></th>\n",
       "      <th></th>\n",
       "      <th></th>\n",
       "      <th></th>\n",
       "      <th></th>\n",
       "      <th></th>\n",
       "      <th></th>\n",
       "      <th></th>\n",
       "      <th></th>\n",
       "      <th></th>\n",
       "      <th></th>\n",
       "      <th></th>\n",
       "      <th></th>\n",
       "      <th></th>\n",
       "      <th></th>\n",
       "      <th></th>\n",
       "      <th></th>\n",
       "      <th></th>\n",
       "    </tr>\n",
       "  </thead>\n",
       "  <tbody>\n",
       "    <tr>\n",
       "      <th>Adult</th>\n",
       "      <td>44890</td>\n",
       "      <td>127238</td>\n",
       "      <td>349788</td>\n",
       "      <td>789244</td>\n",
       "      <td>208477</td>\n",
       "      <td>10271</td>\n",
       "      <td>319096</td>\n",
       "      <td>1615921</td>\n",
       "      <td>313917</td>\n",
       "      <td>256969</td>\n",
       "      <td>...</td>\n",
       "      <td>219146</td>\n",
       "      <td>80649</td>\n",
       "      <td>209439</td>\n",
       "      <td>20381</td>\n",
       "      <td>10730</td>\n",
       "      <td>556843</td>\n",
       "      <td>132443</td>\n",
       "      <td>28324</td>\n",
       "      <td>2832448</td>\n",
       "      <td>860333</td>\n",
       "    </tr>\n",
       "    <tr>\n",
       "      <th>Elder</th>\n",
       "      <td>39036</td>\n",
       "      <td>109445</td>\n",
       "      <td>309522</td>\n",
       "      <td>714832</td>\n",
       "      <td>183844</td>\n",
       "      <td>9242</td>\n",
       "      <td>282438</td>\n",
       "      <td>1426213</td>\n",
       "      <td>277618</td>\n",
       "      <td>228935</td>\n",
       "      <td>...</td>\n",
       "      <td>196935</td>\n",
       "      <td>70774</td>\n",
       "      <td>190114</td>\n",
       "      <td>18094</td>\n",
       "      <td>9425</td>\n",
       "      <td>496979</td>\n",
       "      <td>117405</td>\n",
       "      <td>26286</td>\n",
       "      <td>2513763</td>\n",
       "      <td>760515</td>\n",
       "    </tr>\n",
       "    <tr>\n",
       "      <th>Older Adult</th>\n",
       "      <td>49359</td>\n",
       "      <td>134108</td>\n",
       "      <td>366692</td>\n",
       "      <td>850960</td>\n",
       "      <td>221198</td>\n",
       "      <td>10638</td>\n",
       "      <td>333034</td>\n",
       "      <td>1681753</td>\n",
       "      <td>329214</td>\n",
       "      <td>270914</td>\n",
       "      <td>...</td>\n",
       "      <td>230912</td>\n",
       "      <td>83793</td>\n",
       "      <td>220521</td>\n",
       "      <td>21671</td>\n",
       "      <td>11469</td>\n",
       "      <td>587752</td>\n",
       "      <td>141907</td>\n",
       "      <td>29811</td>\n",
       "      <td>2955476</td>\n",
       "      <td>905758</td>\n",
       "    </tr>\n",
       "    <tr>\n",
       "      <th>Young adult</th>\n",
       "      <td>20411</td>\n",
       "      <td>53011</td>\n",
       "      <td>146426</td>\n",
       "      <td>333087</td>\n",
       "      <td>89514</td>\n",
       "      <td>4422</td>\n",
       "      <td>133490</td>\n",
       "      <td>674860</td>\n",
       "      <td>130500</td>\n",
       "      <td>109809</td>\n",
       "      <td>...</td>\n",
       "      <td>91673</td>\n",
       "      <td>34037</td>\n",
       "      <td>88853</td>\n",
       "      <td>8999</td>\n",
       "      <td>4667</td>\n",
       "      <td>233795</td>\n",
       "      <td>55817</td>\n",
       "      <td>13295</td>\n",
       "      <td>1177604</td>\n",
       "      <td>360944</td>\n",
       "    </tr>\n",
       "  </tbody>\n",
       "</table>\n",
       "<p>4 rows × 21 columns</p>\n",
       "</div>"
      ],
      "text/plain": [
       "department   alcohol  babies  bakery  beverages  breakfast   bulk  \\\n",
       "age_group                                                           \n",
       "Adult          44890  127238  349788     789244     208477  10271   \n",
       "Elder          39036  109445  309522     714832     183844   9242   \n",
       "Older Adult    49359  134108  366692     850960     221198  10638   \n",
       "Young adult    20411   53011  146426     333087      89514   4422   \n",
       "\n",
       "department   canned goods  dairy eggs    deli  dry goods pasta  ...  \\\n",
       "age_group                                                       ...   \n",
       "Adult              319096     1615921  313917           256969  ...   \n",
       "Elder              282438     1426213  277618           228935  ...   \n",
       "Older Adult        333034     1681753  329214           270914  ...   \n",
       "Young adult        133490      674860  130500           109809  ...   \n",
       "\n",
       "department   household  international  meat seafood  missing  other  pantry  \\\n",
       "age_group                                                                     \n",
       "Adult           219146          80649        209439    20381  10730  556843   \n",
       "Elder           196935          70774        190114    18094   9425  496979   \n",
       "Older Adult     230912          83793        220521    21671  11469  587752   \n",
       "Young adult      91673          34037         88853     8999   4667  233795   \n",
       "\n",
       "department   personal care   pets  produce  snacks  \n",
       "age_group                                           \n",
       "Adult               132443  28324  2832448  860333  \n",
       "Elder               117405  26286  2513763  760515  \n",
       "Older Adult         141907  29811  2955476  905758  \n",
       "Young adult          55817  13295  1177604  360944  \n",
       "\n",
       "[4 rows x 21 columns]"
      ]
     },
     "execution_count": 119,
     "metadata": {},
     "output_type": "execute_result"
    }
   ],
   "source": [
    "age_department_comparison"
   ]
  },
  {
   "cell_type": "code",
   "execution_count": 121,
   "id": "d31e0b0d-af3b-44f2-99eb-25f797c0bf0e",
   "metadata": {},
   "outputs": [
    {
     "data": {
      "text/plain": [
       "<Figure size 2000x1700 with 0 Axes>"
      ]
     },
     "metadata": {},
     "output_type": "display_data"
    },
    {
     "data": {
      "image/png": "[encoded data removed]",
      "text/plain": [
       "<Figure size 640x480 with 1 Axes>"
      ]
     },
     "metadata": {},
     "output_type": "display_data"
    }
   ],
   "source": [
    "# Creating Bar chart for Age group by Department\n",
    "plt.figure(figsize=(20, 17))\n",
    "age_department_comparison_bar= age_department_comparison.plot(kind='bar',rot=0)\n",
    "plt.title('Age group by department', fontsize=13)\n",
    "plt.xlabel('Age group', fontsize=12)\n",
    "plt.ylabel('Count', fontsize=12)\n",
    "plt.legend(title='department', bbox_to_anchor=(1.05,1), loc='upper left', fontsize=8, title_fontsize=9)\n",
    "\n",
    "# Increase font size for ticks\n",
    "plt.xticks(fontsize=10)\n",
    "plt.yticks(fontsize=10)\n",
    "\n",
    "\n",
    "plt.tight_layout()\n",
    "plt.show()"
   ]
  },
  {
   "cell_type": "code",
   "execution_count": 145,
   "id": "9a84193c-dd97-4ead-bd7d-403ff94a332e",
   "metadata": {},
   "outputs": [],
   "source": [
    "# Importing chart\n",
    "\n",
    "age_department_comparison_bar.figure.savefig(os.path.join (path, '04 Analysis','Visualizations', 'age_department_comparison_bar_4.10.png'))"
   ]
  },
  {
   "cell_type": "code",
   "execution_count": 123,
   "id": "47f154d3-6e63-433b-83b0-77ab2f2dbd84",
   "metadata": {},
   "outputs": [],
   "source": [
    "# Creating crosstab to compare income_group profile with departments\n",
    "\n",
    "income_group_department_comparison = pd.crosstab(df_merged['income_group'],df_merged['department'],dropna=False)"
   ]
  },
  {
   "cell_type": "code",
   "execution_count": 125,
   "id": "0ef36eb8-6600-43af-bd14-ef819e226d6a",
   "metadata": {},
   "outputs": [
    {
     "data": {
      "text/html": [
       "<div>\n",
       "<style scoped>\n",
       "    .dataframe tbody tr th:only-of-type {\n",
       "        vertical-align: middle;\n",
       "    }\n",
       "\n",
       "    .dataframe tbody tr th {\n",
       "        vertical-align: top;\n",
       "    }\n",
       "\n",
       "    .dataframe thead th {\n",
       "        text-align: right;\n",
       "    }\n",
       "</style>\n",
       "<table border=\"1\" class=\"dataframe\">\n",
       "  <thead>\n",
       "    <tr style=\"text-align: right;\">\n",
       "      <th>department</th>\n",
       "      <th>alcohol</th>\n",
       "      <th>babies</th>\n",
       "      <th>bakery</th>\n",
       "      <th>beverages</th>\n",
       "      <th>breakfast</th>\n",
       "      <th>bulk</th>\n",
       "      <th>canned goods</th>\n",
       "      <th>dairy eggs</th>\n",
       "      <th>deli</th>\n",
       "      <th>dry goods pasta</th>\n",
       "      <th>...</th>\n",
       "      <th>household</th>\n",
       "      <th>international</th>\n",
       "      <th>meat seafood</th>\n",
       "      <th>missing</th>\n",
       "      <th>other</th>\n",
       "      <th>pantry</th>\n",
       "      <th>personal care</th>\n",
       "      <th>pets</th>\n",
       "      <th>produce</th>\n",
       "      <th>snacks</th>\n",
       "    </tr>\n",
       "    <tr>\n",
       "      <th>income_group</th>\n",
       "      <th></th>\n",
       "      <th></th>\n",
       "      <th></th>\n",
       "      <th></th>\n",
       "      <th></th>\n",
       "      <th></th>\n",
       "      <th></th>\n",
       "      <th></th>\n",
       "      <th></th>\n",
       "      <th></th>\n",
       "      <th></th>\n",
       "      <th></th>\n",
       "      <th></th>\n",
       "      <th></th>\n",
       "      <th></th>\n",
       "      <th></th>\n",
       "      <th></th>\n",
       "      <th></th>\n",
       "      <th></th>\n",
       "      <th></th>\n",
       "      <th></th>\n",
       "    </tr>\n",
       "  </thead>\n",
       "  <tbody>\n",
       "    <tr>\n",
       "      <th>High</th>\n",
       "      <td>72729</td>\n",
       "      <td>202331</td>\n",
       "      <td>549512</td>\n",
       "      <td>1173420</td>\n",
       "      <td>310630</td>\n",
       "      <td>14691</td>\n",
       "      <td>509557</td>\n",
       "      <td>2501987</td>\n",
       "      <td>482103</td>\n",
       "      <td>411995</td>\n",
       "      <td>...</td>\n",
       "      <td>335774</td>\n",
       "      <td>125774</td>\n",
       "      <td>351525</td>\n",
       "      <td>31248</td>\n",
       "      <td>16555</td>\n",
       "      <td>879995</td>\n",
       "      <td>203222</td>\n",
       "      <td>47052</td>\n",
       "      <td>4410706</td>\n",
       "      <td>1147576</td>\n",
       "    </tr>\n",
       "    <tr>\n",
       "      <th>Low</th>\n",
       "      <td>19808</td>\n",
       "      <td>30858</td>\n",
       "      <td>114709</td>\n",
       "      <td>405505</td>\n",
       "      <td>97368</td>\n",
       "      <td>4889</td>\n",
       "      <td>86652</td>\n",
       "      <td>535079</td>\n",
       "      <td>114096</td>\n",
       "      <td>70641</td>\n",
       "      <td>...</td>\n",
       "      <td>94179</td>\n",
       "      <td>23441</td>\n",
       "      <td>37065</td>\n",
       "      <td>7240</td>\n",
       "      <td>4183</td>\n",
       "      <td>179432</td>\n",
       "      <td>51755</td>\n",
       "      <td>9312</td>\n",
       "      <td>882102</td>\n",
       "      <td>592279</td>\n",
       "    </tr>\n",
       "    <tr>\n",
       "      <th>Middle</th>\n",
       "      <td>61159</td>\n",
       "      <td>190613</td>\n",
       "      <td>508207</td>\n",
       "      <td>1109198</td>\n",
       "      <td>295035</td>\n",
       "      <td>14993</td>\n",
       "      <td>471849</td>\n",
       "      <td>2361681</td>\n",
       "      <td>455050</td>\n",
       "      <td>383991</td>\n",
       "      <td>...</td>\n",
       "      <td>308713</td>\n",
       "      <td>120038</td>\n",
       "      <td>320337</td>\n",
       "      <td>30657</td>\n",
       "      <td>15553</td>\n",
       "      <td>815942</td>\n",
       "      <td>192595</td>\n",
       "      <td>41352</td>\n",
       "      <td>4186483</td>\n",
       "      <td>1147695</td>\n",
       "    </tr>\n",
       "  </tbody>\n",
       "</table>\n",
       "<p>3 rows × 21 columns</p>\n",
       "</div>"
      ],
      "text/plain": [
       "department    alcohol  babies  bakery  beverages  breakfast   bulk  \\\n",
       "income_group                                                         \n",
       "High            72729  202331  549512    1173420     310630  14691   \n",
       "Low             19808   30858  114709     405505      97368   4889   \n",
       "Middle          61159  190613  508207    1109198     295035  14993   \n",
       "\n",
       "department    canned goods  dairy eggs    deli  dry goods pasta  ...  \\\n",
       "income_group                                                     ...   \n",
       "High                509557     2501987  482103           411995  ...   \n",
       "Low                  86652      535079  114096            70641  ...   \n",
       "Middle              471849     2361681  455050           383991  ...   \n",
       "\n",
       "department    household  international  meat seafood  missing  other  pantry  \\\n",
       "income_group                                                                   \n",
       "High             335774         125774        351525    31248  16555  879995   \n",
       "Low               94179          23441         37065     7240   4183  179432   \n",
       "Middle           308713         120038        320337    30657  15553  815942   \n",
       "\n",
       "department    personal care   pets  produce   snacks  \n",
       "income_group                                          \n",
       "High                 203222  47052  4410706  1147576  \n",
       "Low                   51755   9312   882102   592279  \n",
       "Middle               192595  41352  4186483  1147695  \n",
       "\n",
       "[3 rows x 21 columns]"
      ]
     },
     "execution_count": 125,
     "metadata": {},
     "output_type": "execute_result"
    }
   ],
   "source": [
    "income_group_department_comparison"
   ]
  },
  {
   "cell_type": "code",
   "execution_count": 135,
   "id": "0d29c334-e256-49fb-8b0f-427d0d3d716b",
   "metadata": {},
   "outputs": [
    {
     "data": {
      "text/plain": [
       "<Figure size 2000x1700 with 0 Axes>"
      ]
     },
     "metadata": {},
     "output_type": "display_data"
    },
    {
     "data": {
      "image/png": "[encoded data removed]",
      "text/plain": [
       "<Figure size 640x480 with 1 Axes>"
      ]
     },
     "metadata": {},
     "output_type": "display_data"
    }
   ],
   "source": [
    "# Creating Bar chart for Income group by Department\n",
    "plt.figure(figsize=(20, 17))\n",
    "income_group_department_comparison_bar= income_group_department_comparison.plot(kind='bar',rot=0)\n",
    "plt.title('Income group by department', fontsize=13)\n",
    "plt.xlabel('Income group', fontsize=12)\n",
    "plt.ylabel('Count', fontsize=12)\n",
    "plt.legend(title='department', bbox_to_anchor=(1.05,1), loc='upper left', fontsize=8, title_fontsize=9)\n",
    "\n",
    "# Increase font size for ticks\n",
    "plt.xticks(fontsize=10)\n",
    "plt.yticks(fontsize=10)\n",
    "\n",
    "\n",
    "plt.tight_layout()\n",
    "plt.show()"
   ]
  },
  {
   "cell_type": "code",
   "execution_count": 147,
   "id": "7089b412-4231-4053-a63c-639e6c5b71db",
   "metadata": {},
   "outputs": [],
   "source": [
    "# Importing chart\n",
    "\n",
    "income_group_department_comparison_bar.figure.savefig(os.path.join (path, '04 Analysis','Visualizations', 'income_group_department_comparison_bar_4.10.png'))"
   ]
  },
  {
   "cell_type": "code",
   "execution_count": 149,
   "id": "6b3b76be-3ccd-47f2-9a0e-221c15dafec0",
   "metadata": {},
   "outputs": [],
   "source": [
    "# Creating crosstab to compare dependent group profile with departments \n",
    "\n",
    "dependent_department_comparison = pd.crosstab(df_merged['dependents_flag'],df_merged['department'],dropna = False)"
   ]
  },
  {
   "cell_type": "code",
   "execution_count": 151,
   "id": "190c25fe-5f24-4f0a-845c-7efc19971e94",
   "metadata": {},
   "outputs": [
    {
     "data": {
      "text/html": [
       "<div>\n",
       "<style scoped>\n",
       "    .dataframe tbody tr th:only-of-type {\n",
       "        vertical-align: middle;\n",
       "    }\n",
       "\n",
       "    .dataframe tbody tr th {\n",
       "        vertical-align: top;\n",
       "    }\n",
       "\n",
       "    .dataframe thead th {\n",
       "        text-align: right;\n",
       "    }\n",
       "</style>\n",
       "<table border=\"1\" class=\"dataframe\">\n",
       "  <thead>\n",
       "    <tr style=\"text-align: right;\">\n",
       "      <th>department</th>\n",
       "      <th>alcohol</th>\n",
       "      <th>babies</th>\n",
       "      <th>bakery</th>\n",
       "      <th>beverages</th>\n",
       "      <th>breakfast</th>\n",
       "      <th>bulk</th>\n",
       "      <th>canned goods</th>\n",
       "      <th>dairy eggs</th>\n",
       "      <th>deli</th>\n",
       "      <th>dry goods pasta</th>\n",
       "      <th>...</th>\n",
       "      <th>household</th>\n",
       "      <th>international</th>\n",
       "      <th>meat seafood</th>\n",
       "      <th>missing</th>\n",
       "      <th>other</th>\n",
       "      <th>pantry</th>\n",
       "      <th>personal care</th>\n",
       "      <th>pets</th>\n",
       "      <th>produce</th>\n",
       "      <th>snacks</th>\n",
       "    </tr>\n",
       "    <tr>\n",
       "      <th>dependents_flag</th>\n",
       "      <th></th>\n",
       "      <th></th>\n",
       "      <th></th>\n",
       "      <th></th>\n",
       "      <th></th>\n",
       "      <th></th>\n",
       "      <th></th>\n",
       "      <th></th>\n",
       "      <th></th>\n",
       "      <th></th>\n",
       "      <th></th>\n",
       "      <th></th>\n",
       "      <th></th>\n",
       "      <th></th>\n",
       "      <th></th>\n",
       "      <th></th>\n",
       "      <th></th>\n",
       "      <th></th>\n",
       "      <th></th>\n",
       "      <th></th>\n",
       "      <th></th>\n",
       "    </tr>\n",
       "  </thead>\n",
       "  <tbody>\n",
       "    <tr>\n",
       "      <th>Has dependents</th>\n",
       "      <td>114578</td>\n",
       "      <td>317308</td>\n",
       "      <td>878023</td>\n",
       "      <td>2013681</td>\n",
       "      <td>528456</td>\n",
       "      <td>26295</td>\n",
       "      <td>803220</td>\n",
       "      <td>4049385</td>\n",
       "      <td>786104</td>\n",
       "      <td>651365</td>\n",
       "      <td>...</td>\n",
       "      <td>557893</td>\n",
       "      <td>201540</td>\n",
       "      <td>534843</td>\n",
       "      <td>52057</td>\n",
       "      <td>27116</td>\n",
       "      <td>1408612</td>\n",
       "      <td>335566</td>\n",
       "      <td>73133</td>\n",
       "      <td>7103846</td>\n",
       "      <td>2166752</td>\n",
       "    </tr>\n",
       "    <tr>\n",
       "      <th>No dependents</th>\n",
       "      <td>39118</td>\n",
       "      <td>106494</td>\n",
       "      <td>294405</td>\n",
       "      <td>674442</td>\n",
       "      <td>174577</td>\n",
       "      <td>8278</td>\n",
       "      <td>264838</td>\n",
       "      <td>1349362</td>\n",
       "      <td>265145</td>\n",
       "      <td>215262</td>\n",
       "      <td>...</td>\n",
       "      <td>180773</td>\n",
       "      <td>67713</td>\n",
       "      <td>174084</td>\n",
       "      <td>17088</td>\n",
       "      <td>9175</td>\n",
       "      <td>466757</td>\n",
       "      <td>112006</td>\n",
       "      <td>24583</td>\n",
       "      <td>2375445</td>\n",
       "      <td>720798</td>\n",
       "    </tr>\n",
       "  </tbody>\n",
       "</table>\n",
       "<p>2 rows × 21 columns</p>\n",
       "</div>"
      ],
      "text/plain": [
       "department       alcohol  babies  bakery  beverages  breakfast   bulk  \\\n",
       "dependents_flag                                                         \n",
       "Has dependents    114578  317308  878023    2013681     528456  26295   \n",
       "No dependents      39118  106494  294405     674442     174577   8278   \n",
       "\n",
       "department       canned goods  dairy eggs    deli  dry goods pasta  ...  \\\n",
       "dependents_flag                                                     ...   \n",
       "Has dependents         803220     4049385  786104           651365  ...   \n",
       "No dependents          264838     1349362  265145           215262  ...   \n",
       "\n",
       "department       household  international  meat seafood  missing  other  \\\n",
       "dependents_flag                                                           \n",
       "Has dependents      557893         201540        534843    52057  27116   \n",
       "No dependents       180773          67713        174084    17088   9175   \n",
       "\n",
       "department        pantry  personal care   pets  produce   snacks  \n",
       "dependents_flag                                                   \n",
       "Has dependents   1408612         335566  73133  7103846  2166752  \n",
       "No dependents     466757         112006  24583  2375445   720798  \n",
       "\n",
       "[2 rows x 21 columns]"
      ]
     },
     "execution_count": 151,
     "metadata": {},
     "output_type": "execute_result"
    }
   ],
   "source": [
    "dependent_department_comparison"
   ]
  },
  {
   "cell_type": "code",
   "execution_count": 159,
   "id": "a7860190-084a-4342-ac15-cf560d0a5d58",
   "metadata": {},
   "outputs": [
    {
     "data": {
      "text/plain": [
       "<Figure size 2000x1700 with 0 Axes>"
      ]
     },
     "metadata": {},
     "output_type": "display_data"
    },
    {
     "data": {
      "image/png": "[encoded data removed]",
      "text/plain": [
       "<Figure size 640x480 with 1 Axes>"
      ]
     },
     "metadata": {},
     "output_type": "display_data"
    }
   ],
   "source": [
    "# Creating Bar chart for Dependents group by Department\n",
    "plt.figure(figsize=(20, 17))\n",
    "dependent_department_comparison_bar= dependent_department_comparison.plot(kind='bar',rot=0)\n",
    "plt.title('Dependents group by department', fontsize=13)\n",
    "plt.xlabel('Dependents group', fontsize=12)\n",
    "plt.ylabel('Count', fontsize=12)\n",
    "plt.legend(title='department', bbox_to_anchor=(1.05,1), loc='upper left', fontsize=8, title_fontsize=9)\n",
    "\n",
    "# Increase font size for ticks\n",
    "plt.xticks(fontsize=10)\n",
    "plt.yticks(fontsize=10)\n",
    "\n",
    "\n",
    "plt.tight_layout()\n",
    "plt.show()"
   ]
  },
  {
   "cell_type": "code",
   "execution_count": 161,
   "id": "abd78f68-c38e-42db-8bd0-1dcd07d44730",
   "metadata": {},
   "outputs": [],
   "source": [
    "# Importing chart\n",
    "\n",
    "dependent_department_comparison_bar.figure.savefig(os.path.join (path, '04 Analysis','Visualizations', 'dependents_group_department_comparison_bar_4.10.png'))"
   ]
  },
  {
   "cell_type": "code",
   "execution_count": 163,
   "id": "c9eb129a-175a-4adb-a09c-cf4255b895d4",
   "metadata": {},
   "outputs": [
    {
     "name": "stdout",
     "output_type": "stream",
     "text": [
      "<class 'pandas.core.frame.DataFrame'>\n",
      "RangeIndex: 32404859 entries, 0 to 32404858\n",
      "Data columns (total 34 columns):\n",
      " #   Column                         Dtype  \n",
      "---  ------                         -----  \n",
      " 0   product_id                     object \n",
      " 1   product_name                   object \n",
      " 2   aisle_id                       object \n",
      " 3   department_id                  object \n",
      " 4   prices                         float32\n",
      " 5   order_id                       object \n",
      " 6   user_id                        object \n",
      " 7   order_number                   int32  \n",
      " 8   order_dow                      int32  \n",
      " 9   order_hour_of_day              int32  \n",
      " 10  days_since_prior_order         float32\n",
      " 11  add_to_cart_order              int32  \n",
      " 12  reordered                      int32  \n",
      " 13  busiest_day                    object \n",
      " 14  busiest_days                   object \n",
      " 15  busiest_period_of_day          object \n",
      " 16  max_order                      int32  \n",
      " 17  loyalty_flag                   object \n",
      " 18  average_price                  float32\n",
      " 19  spending_flag                  object \n",
      " 20  median_days_since_prior_order  float32\n",
      " 21  frequency_flag                 object \n",
      " 22  gender                         object \n",
      " 23  state                          object \n",
      " 24  age                            int32  \n",
      " 25  date_joined                    object \n",
      " 26  number_of_dependents           int32  \n",
      " 27  marital_status                 object \n",
      " 28  income                         int32  \n",
      " 29  region                         object \n",
      " 30  exclusion_flag                 object \n",
      " 31  age_group                      object \n",
      " 32  income_group                   object \n",
      " 33  dependents_flag                object \n",
      "dtypes: float32(4), int32(9), object(21)\n",
      "memory usage: 6.6+ GB\n"
     ]
    }
   ],
   "source": [
    "custs_ords_prods_merged.info()"
   ]
  },
  {
   "cell_type": "code",
   "execution_count": 165,
   "id": "9feadaef-9269-4b4c-b48b-773df43388f2",
   "metadata": {},
   "outputs": [
    {
     "name": "stdout",
     "output_type": "stream",
     "text": [
      "<class 'pandas.core.frame.DataFrame'>\n",
      "RangeIndex: 32404859 entries, 0 to 32404858\n",
      "Data columns (total 11 columns):\n",
      " #   Column                  Dtype  \n",
      "---  ------                  -----  \n",
      " 0   department_id           object \n",
      " 1   prices                  float32\n",
      " 2   order_number            int32  \n",
      " 3   order_hour_of_day       int32  \n",
      " 4   days_since_prior_order  float32\n",
      " 5   age                     int32  \n",
      " 6   number_of_dependents    int32  \n",
      " 7   income                  int32  \n",
      " 8   age_group               object \n",
      " 9   income_group            object \n",
      " 10  dependents_flag         object \n",
      "dtypes: float32(2), int32(5), object(4)\n",
      "memory usage: 1.8+ GB\n"
     ]
    }
   ],
   "source": [
    "df_1.info()"
   ]
  },
  {
   "cell_type": "code",
   "execution_count": 167,
   "id": "5574fc0a-df34-41dd-bdd4-0657ca92d952",
   "metadata": {},
   "outputs": [
    {
     "name": "stdout",
     "output_type": "stream",
     "text": [
      "<class 'pandas.core.frame.DataFrame'>\n",
      "RangeIndex: 32404859 entries, 0 to 32404858\n",
      "Data columns (total 13 columns):\n",
      " #   Column                  Dtype   \n",
      "---  ------                  -----   \n",
      " 0   department_id           object  \n",
      " 1   prices                  float32 \n",
      " 2   order_number            int32   \n",
      " 3   order_hour_of_day       int32   \n",
      " 4   days_since_prior_order  float32 \n",
      " 5   age                     int32   \n",
      " 6   number_of_dependents    int32   \n",
      " 7   income                  int32   \n",
      " 8   age_group               object  \n",
      " 9   income_group            object  \n",
      " 10  dependents_flag         object  \n",
      " 11  department              object  \n",
      " 12  _merge                  category\n",
      "dtypes: category(1), float32(2), int32(5), object(5)\n",
      "memory usage: 2.1+ GB\n"
     ]
    }
   ],
   "source": [
    "df_merged.info()"
   ]
  },
  {
   "cell_type": "code",
   "execution_count": null,
   "id": "5d6c6c5a-3f27-47a3-8032-cf5366449127",
   "metadata": {},
   "outputs": [],
   "source": [
    "# Exporting dataframe\n",
    "\n",
    "custs_ords_prods_merged.to_pickle(os.path.join(path, '02 Data','Prepared Data', 'orders_products_customers_merged_final.pkl'))"
   ]
  },
  {
   "cell_type": "code",
   "execution_count": 173,
   "id": "f77feeef-70c3-4b79-8dca-bf263d8d18c9",
   "metadata": {},
   "outputs": [],
   "source": [
    "# Exporting dataframe\n",
    "\n",
    "df_1.to_pickle(os.path.join(path, '02 Data','Prepared Data', 'df_1_subset_final.pkl'))"
   ]
  },
  {
   "cell_type": "code",
   "execution_count": 175,
   "id": "96ee2c5b-d4b2-4dcf-ad79-d676f72d1f68",
   "metadata": {},
   "outputs": [],
   "source": [
    "# Exporting dataframe\n",
    "\n",
    "df_merged.to_pickle(os.path.join(path, '02 Data','Prepared Data', 'subset_merged_departments_final_4.10.pkl'))"
   ]
  },
  {
   "cell_type": "code",
   "execution_count": 187,
   "id": "9f06c208-d326-4157-9097-9db9542415bd",
   "metadata": {},
   "outputs": [
    {
     "data": {
      "image/png": "[encoded data removed]",
      "text/plain": [
       "<Figure size 640x480 with 1 Axes>"
      ]
     },
     "metadata": {},
     "output_type": "display_data"
    }
   ],
   "source": [
    "# Creating department bar chart\n",
    "dept_bar=df_merged['department'].value_counts().sort_values().plot(kind='bar', color =['yellow'])\n",
    "plt.title('Product Department Sales')\n",
    "plt.xlabel('Count')\n",
    "plt.ylabel('Department')\n",
    "plt.tight_layout()"
   ]
  },
  {
   "cell_type": "code",
   "execution_count": 189,
   "id": "284f8147-7782-48a9-b4b3-8036a1ef04dc",
   "metadata": {},
   "outputs": [],
   "source": [
    "# Importing chart\n",
    "\n",
    "dept_bar.figure.savefig(os.path.join (path, '04 Analysis','Visualizations', 'dept_bar_4.10.png'))"
   ]
  },
  {
   "cell_type": "code",
   "execution_count": null,
   "id": "7bd223f5-981b-4962-ad96-fe2c61c10e0a",
   "metadata": {},
   "outputs": [],
   "source": []
  }
 ],
 "metadata": {
  "kernelspec": {
   "display_name": "Python 3 (ipykernel)",
   "language": "python",
   "name": "python3"
  },
  "language_info": {
   "codemirror_mode": {
    "name": "ipython",
    "version": 3
   },
   "file_extension": ".py",
   "mimetype": "text/x-python",
   "name": "python",
   "nbconvert_exporter": "python",
   "pygments_lexer": "ipython3",
   "version": "3.12.4"
  }
 },
 "nbformat": 4,
 "nbformat_minor": 5
}
